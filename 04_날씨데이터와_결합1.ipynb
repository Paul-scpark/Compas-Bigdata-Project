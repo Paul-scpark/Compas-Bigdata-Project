{
 "cells": [
  {
   "cell_type": "code",
   "execution_count": 1,
   "id": "classical-garlic",
   "metadata": {
    "scrolled": true
   },
   "outputs": [
    {
     "name": "stderr",
     "output_type": "stream",
     "text": [
      "\n",
      "Attaching package: ‘dplyr’\n",
      "\n",
      "\n",
      "The following objects are masked from ‘package:stats’:\n",
      "\n",
      "    filter, lag\n",
      "\n",
      "\n",
      "The following objects are masked from ‘package:base’:\n",
      "\n",
      "    intersect, setdiff, setequal, union\n",
      "\n",
      "\n",
      "rgdal: version: 1.5-16, (SVN revision 1050)\n",
      "Geospatial Data Abstraction Library extensions to R successfully loaded\n",
      "Loaded GDAL runtime: GDAL 3.1.2, released 2020/07/07\n",
      "Path to GDAL shared files: /usr/local/gdal-3.1.2/share/gdal\n",
      "GDAL binary built with GEOS: FALSE \n",
      "Loaded PROJ runtime: Rel. 6.1.0, May 15th, 2019, [PJ_VERSION: 610]\n",
      "Path to PROJ shared files: /usr/local/proj-6.1.0/share/proj\n",
      "Linking to sp version:1.4-2\n",
      "To mute warnings of possible GDAL/OSR exportToProj4() degradation,\n",
      "use options(\"rgdal_show_exportToProj4_warnings\"=\"none\") before loading rgdal.\n",
      "\n",
      "rgeos version: 0.5-3, (SVN revision 634)\n",
      " GEOS runtime version: 3.8.0-CAPI-1.13.1 \n",
      " Linking to sp version: 1.4-2 \n",
      " Polygon checking: TRUE \n",
      "\n",
      "\n",
      "\n",
      "Attaching package: ‘raster’\n",
      "\n",
      "\n",
      "The following object is masked from ‘package:tidyr’:\n",
      "\n",
      "    extract\n",
      "\n",
      "\n",
      "The following object is masked from ‘package:dplyr’:\n",
      "\n",
      "    select\n",
      "\n",
      "\n",
      "Loading required package: spData\n",
      "\n",
      "To access larger datasets in this package, install the spDataLarge\n",
      "package with: `install.packages('spDataLarge',\n",
      "repos='https://nowosad.github.io/drat/', type='source')`\n",
      "\n",
      "Loading required package: sf\n",
      "\n",
      "Linking to GEOS 3.8.0, GDAL 3.1.2, PROJ 6.1.0\n",
      "\n",
      "NOTE: This package does not constitute approval of GWR\n",
      "as a method of spatial analysis; see example(gwr)\n",
      "\n",
      "Loading required package: maptools\n",
      "\n",
      "Checking rgeos availability: TRUE\n",
      "\n",
      "Loading required package: robustbase\n",
      "\n",
      "Loading required package: Rcpp\n",
      "\n",
      "Loading required package: spatialreg\n",
      "\n",
      "Loading required package: Matrix\n",
      "\n",
      "\n",
      "Attaching package: ‘Matrix’\n",
      "\n",
      "\n",
      "The following objects are masked from ‘package:tidyr’:\n",
      "\n",
      "    expand, pack, unpack\n",
      "\n",
      "\n",
      "Registered S3 methods overwritten by 'spatialreg':\n",
      "  method                   from \n",
      "  residuals.stsls          spdep\n",
      "  deviance.stsls           spdep\n",
      "  coef.stsls               spdep\n",
      "  print.stsls              spdep\n",
      "  summary.stsls            spdep\n",
      "  print.summary.stsls      spdep\n",
      "  residuals.gmsar          spdep\n",
      "  deviance.gmsar           spdep\n",
      "  coef.gmsar               spdep\n",
      "  fitted.gmsar             spdep\n",
      "  print.gmsar              spdep\n",
      "  summary.gmsar            spdep\n",
      "  print.summary.gmsar      spdep\n",
      "  print.lagmess            spdep\n",
      "  summary.lagmess          spdep\n",
      "  print.summary.lagmess    spdep\n",
      "  residuals.lagmess        spdep\n",
      "  deviance.lagmess         spdep\n",
      "  coef.lagmess             spdep\n",
      "  fitted.lagmess           spdep\n",
      "  logLik.lagmess           spdep\n",
      "  fitted.SFResult          spdep\n",
      "  print.SFResult           spdep\n",
      "  fitted.ME_res            spdep\n",
      "  print.ME_res             spdep\n",
      "  print.lagImpact          spdep\n",
      "  plot.lagImpact           spdep\n",
      "  summary.lagImpact        spdep\n",
      "  HPDinterval.lagImpact    spdep\n",
      "  print.summary.lagImpact  spdep\n",
      "  print.sarlm              spdep\n",
      "  summary.sarlm            spdep\n",
      "  residuals.sarlm          spdep\n",
      "  deviance.sarlm           spdep\n",
      "  coef.sarlm               spdep\n",
      "  vcov.sarlm               spdep\n",
      "  fitted.sarlm             spdep\n",
      "  logLik.sarlm             spdep\n",
      "  anova.sarlm              spdep\n",
      "  predict.sarlm            spdep\n",
      "  print.summary.sarlm      spdep\n",
      "  print.sarlm.pred         spdep\n",
      "  as.data.frame.sarlm.pred spdep\n",
      "  residuals.spautolm       spdep\n",
      "  deviance.spautolm        spdep\n",
      "  coef.spautolm            spdep\n",
      "  fitted.spautolm          spdep\n",
      "  print.spautolm           spdep\n",
      "  summary.spautolm         spdep\n",
      "  logLik.spautolm          spdep\n",
      "  print.summary.spautolm   spdep\n",
      "  print.WXImpact           spdep\n",
      "  summary.WXImpact         spdep\n",
      "  print.summary.WXImpact   spdep\n",
      "  predict.SLX              spdep\n",
      "\n",
      "\n",
      "Attaching package: ‘spatialreg’\n",
      "\n",
      "\n",
      "The following objects are masked from ‘package:spdep’:\n",
      "\n",
      "    anova.sarlm, as_dgRMatrix_listw, as_dsCMatrix_I, as_dsCMatrix_IrW,\n",
      "    as_dsTMatrix_listw, as.spam.listw, bptest.sarlm, can.be.simmed,\n",
      "    cheb_setup, coef.gmsar, coef.sarlm, coef.spautolm, coef.stsls,\n",
      "    create_WX, deviance.gmsar, deviance.sarlm, deviance.spautolm,\n",
      "    deviance.stsls, do_ldet, eigen_pre_setup, eigen_setup, eigenw,\n",
      "    errorsarlm, fitted.gmsar, fitted.ME_res, fitted.sarlm,\n",
      "    fitted.SFResult, fitted.spautolm, get.ClusterOption,\n",
      "    get.coresOption, get.mcOption, get.VerboseOption,\n",
      "    get.ZeroPolicyOption, GMargminImage, GMerrorsar, griffith_sone,\n",
      "    gstsls, Hausman.test, HPDinterval.lagImpact, impacts, intImpacts,\n",
      "    Jacobian_W, jacobianSetup, l_max, lagmess, lagsarlm, lextrB,\n",
      "    lextrS, lextrW, lmSLX, logLik.sarlm, logLik.spautolm, LR.sarlm,\n",
      "    LR1.sarlm, LR1.spautolm, LU_prepermutate_setup, LU_setup,\n",
      "    Matrix_J_setup, Matrix_setup, mcdet_setup, MCMCsamp, ME, mom_calc,\n",
      "    mom_calc_int2, moments_setup, powerWeights, predict.sarlm,\n",
      "    predict.SLX, print.gmsar, print.ME_res, print.sarlm,\n",
      "    print.sarlm.pred, print.SFResult, print.spautolm, print.stsls,\n",
      "    print.summary.gmsar, print.summary.sarlm, print.summary.spautolm,\n",
      "    print.summary.stsls, residuals.gmsar, residuals.sarlm,\n",
      "    residuals.spautolm, residuals.stsls, sacsarlm, SE_classic_setup,\n",
      "    SE_interp_setup, SE_whichMin_setup, set.ClusterOption,\n",
      "    set.coresOption, set.mcOption, set.VerboseOption,\n",
      "    set.ZeroPolicyOption, similar.listw, spam_setup, spam_update_setup,\n",
      "    SpatialFiltering, spautolm, spBreg_err, spBreg_lag, spBreg_sac,\n",
      "    stsls, subgraph_eigenw, summary.gmsar, summary.sarlm,\n",
      "    summary.spautolm, summary.stsls, trW, vcov.sarlm, Wald1.sarlm\n",
      "\n",
      "\n",
      "Welcome to GWmodel version 2.2-3.\n",
      "The new version of GWmodel 2.2-4 now is ready\n",
      "\n",
      "\n",
      "Attaching package: ‘GWmodel’\n",
      "\n",
      "\n",
      "The following objects are masked from ‘package:stats’:\n",
      "\n",
      "    BIC, fitted\n",
      "\n",
      "\n"
     ]
    }
   ],
   "source": [
    "# install.packages(\"sp\")\n",
    "# install.packages(\"rgdal\")\n",
    "# install.packages(\"rgeos\")\n",
    "# install.packages(\"ggmap\")\n",
    "# install.packages(\"tmap\")\n",
    "# install.packages(\"raster\")\n",
    "# install.packages(\"spdep\")\n",
    "# install.packages(\"gstat\")\n",
    "# install.packages(\"spgwr\")\n",
    "# install.packages(\"GWmodel\")\n",
    "\n",
    "library(dplyr)\n",
    "library(tidyr)\n",
    "library(stringr)\n",
    "library(sp)\n",
    "library(rgdal)\n",
    "library(rgeos)\n",
    "library(tmap)\n",
    "library(raster)\n",
    "library(spdep)\n",
    "library(gstat)\n",
    "library(spgwr)\n",
    "library(GWmodel)"
   ]
  },
  {
   "cell_type": "markdown",
   "id": "expensive-classification",
   "metadata": {},
   "source": [
    "## 연도별 weather 데이터 불러오기\n",
    "\n",
    "세계기상기구(WMO)는 기온, 강수량 등의 기후요소가 평년값에 비해 현저히 높거나 낮은 수치(90 퍼센타일 또는 10 퍼센타일 미만의 범위)를 이상기후로 정의하고 있다.<br/>\n",
    "이 기준에 따라서 2017~2019년의 weather 데이터의 이상치를 분류하도록 한다.\n",
    "\n",
    "- 기온과 풍속, 습도, 지면 온도의 데이터 전처리: 1년 별로 비교해서 이상치(하위 10% 미만, 상위 10% 초과) 안에 포함되는 경우 1, 포함되지 않는 경우에는 0\n",
    "- 강수량, 적설량 데이터 전처리: 당해 연도의 상위 10% 백분위 수에 포함되는 경우 1, 포함되지 않는 경우에는 0\n",
    "- 안개 데이터 전처리: 안개는 지속 시간이 조금이라도 있으면 1, 없으면 0"
   ]
  },
  {
   "cell_type": "markdown",
   "id": "worthy-resource",
   "metadata": {},
   "source": [
    "### 2017년의 weather 데이터 처리"
   ]
  },
  {
   "cell_type": "code",
   "execution_count": 2,
   "id": "mechanical-destruction",
   "metadata": {},
   "outputs": [],
   "source": [
    "weather_2017 <- read.csv('weather_2017.csv')"
   ]
  },
  {
   "cell_type": "code",
   "execution_count": 3,
   "id": "based-electricity",
   "metadata": {},
   "outputs": [],
   "source": [
    "temp_average <- c()\n",
    "qt <- quantile(weather_2017[, names(weather_2017)[3]], probs=c(0, 0.1, 0.9, 1), na.rm=T)\n",
    "temp_average <- ifelse(weather_2017[, names(weather_2017)[3]] < qt[2] | weather_2017[, names(weather_2017)[3]] > qt[3], 1, 0)\n",
    "\n",
    "temp_min <- c()\n",
    "qt <- quantile(weather_2017[, names(weather_2017)[4]], probs=c(0, 0.1, 0.9, 1), na.rm=T)\n",
    "temp_min <- ifelse(weather_2017[, names(weather_2017)[4]] < qt[2] | weather_2017[, names(weather_2017)[4]] > qt[3], 1, 0)\n",
    "\n",
    "temp_max <- c()\n",
    "qt <- quantile(weather_2017[, names(weather_2017)[5]], probs=c(0, 0.1, 0.9, 1), na.rm=T)\n",
    "temp_max <- ifelse(weather_2017[, names(weather_2017)[5]] < qt[2] | weather_2017[, names(weather_2017)[5]] > qt[3], 1, 0)\n",
    "\n",
    "wind_max <- c()\n",
    "qt <- quantile(weather_2017[, names(weather_2017)[7]], probs=c(0, 0.1, 0.9, 1), na.rm=T)\n",
    "wind_max <- ifelse(weather_2017[, names(weather_2017)[7]] < qt[2] | weather_2017[, names(weather_2017)[7]] > qt[3], 1, 0)\n",
    "\n",
    "wind_average <- c()\n",
    "qt <- quantile(weather_2017[, names(weather_2017)[9]], probs=c(0, 0.1, 0.9, 1), na.rm=T)\n",
    "wind_average <- ifelse(weather_2017[, names(weather_2017)[9]] < qt[2] | weather_2017[, names(weather_2017)[9]] > qt[3], 1, 0)\n",
    "\n",
    "humidity_average <- c()\n",
    "qt <- quantile(weather_2017[, names(weather_2017)[10]], probs=c(0, 0.1, 0.9, 1), na.rm=T)\n",
    "humidity_average <- ifelse(weather_2017[, names(weather_2017)[10]] < qt[2] | weather_2017[, names(weather_2017)[10]] > qt[3], 1, 0)\n",
    "\n",
    "road_average <- c()\n",
    "qt <- quantile(weather_2017[, names(weather_2017)[12]], probs=c(0, 0.1, 0.9, 1), na.rm=T)\n",
    "road_average <- ifelse(weather_2017[, names(weather_2017)[12]] < qt[2] | weather_2017[, names(weather_2017)[12]] > qt[3], 1, 0)"
   ]
  },
  {
   "cell_type": "code",
   "execution_count": 4,
   "id": "mechanical-missile",
   "metadata": {},
   "outputs": [],
   "source": [
    "weather_2017$평균온도 <- temp_average\n",
    "weather_2017$최저온도 <- temp_min\n",
    "weather_2017$최고온도 <- temp_max\n",
    "weather_2017$최대풍속 <- wind_max\n",
    "weather_2017$평균풍속 <- wind_average\n",
    "weather_2017$평균습도 <- humidity_average\n",
    "weather_2017$평균지면온도 <- road_average"
   ]
  },
  {
   "cell_type": "code",
   "execution_count": 5,
   "id": "empirical-florist",
   "metadata": {},
   "outputs": [],
   "source": [
    "# NA 값은 이상치가 없는 경우이므로 0으로 처리\n",
    "weather_2017[, names(weather_2017)[6]] <- ifelse(is.na(weather_2017[, names(weather_2017)[6]]), 0, weather_2017[, names(weather_2017)[6]])\n",
    "weather_2017[, names(weather_2017)[11]] <- ifelse(is.na(weather_2017[, names(weather_2017)[11]]), 0, weather_2017[, names(weather_2017)[11]])"
   ]
  },
  {
   "cell_type": "code",
   "execution_count": 6,
   "id": "quarterly-electricity",
   "metadata": {},
   "outputs": [],
   "source": [
    "day_rain <- c()\n",
    "qt <- quantile(weather_2017[, names(weather_2017)[6]], probs=c(0, 0.1, 0.9, 1), na.rm=T)\n",
    "day_rain <- ifelse(weather_2017[, names(weather_2017)[6]] > qt[3], 1, 0)\n",
    "\n",
    "day_snow <- c()\n",
    "qt <- quantile(weather_2017[, names(weather_2017)[11]], probs=c(0, 0.1, 0.9, 1), na.rm=T)\n",
    "day_snow <- ifelse(weather_2017[, names(weather_2017)[11]] > qt[3], 1, 0)"
   ]
  },
  {
   "cell_type": "code",
   "execution_count": 7,
   "id": "contemporary-swift",
   "metadata": {},
   "outputs": [],
   "source": [
    "weather_2017$강수량 <- day_rain\n",
    "weather_2017$적설량 <- day_snow\n",
    "weather_2017$안개시간 <- ifelse( is.na(weather_2017[, names(weather_2017)[13]]), 0, 1)"
   ]
  },
  {
   "cell_type": "code",
   "execution_count": 8,
   "id": "primary-identity",
   "metadata": {},
   "outputs": [
    {
     "data": {
      "text/html": [
       "<style>\n",
       ".list-inline {list-style: none; margin:0; padding: 0}\n",
       ".list-inline>li {display: inline-block}\n",
       ".list-inline>li:not(:last-child)::after {content: \"\\00b7\"; padding: 0 .5ex}\n",
       "</style>\n",
       "<ol class=list-inline><li>365</li><li>11</li></ol>\n"
      ],
      "text/latex": [
       "\\begin{enumerate*}\n",
       "\\item 365\n",
       "\\item 11\n",
       "\\end{enumerate*}\n"
      ],
      "text/markdown": [
       "1. 365\n",
       "2. 11\n",
       "\n",
       "\n"
      ],
      "text/plain": [
       "[1] 365  11"
      ]
     },
     "metadata": {},
     "output_type": "display_data"
    },
    {
     "data": {
      "text/html": [
       "<table>\n",
       "<caption>A data.frame: 6 × 11</caption>\n",
       "<thead>\n",
       "\t<tr><th></th><th scope=col>일시</th><th scope=col>평균온도</th><th scope=col>최저온도</th><th scope=col>최고온도</th><th scope=col>최대풍속</th><th scope=col>평균풍속</th><th scope=col>평균습도</th><th scope=col>평균지면온도</th><th scope=col>강수량</th><th scope=col>적설량</th><th scope=col>안개시간</th></tr>\n",
       "\t<tr><th></th><th scope=col>&lt;fct&gt;</th><th scope=col>&lt;dbl&gt;</th><th scope=col>&lt;dbl&gt;</th><th scope=col>&lt;dbl&gt;</th><th scope=col>&lt;dbl&gt;</th><th scope=col>&lt;dbl&gt;</th><th scope=col>&lt;dbl&gt;</th><th scope=col>&lt;dbl&gt;</th><th scope=col>&lt;dbl&gt;</th><th scope=col>&lt;dbl&gt;</th><th scope=col>&lt;dbl&gt;</th></tr>\n",
       "</thead>\n",
       "<tbody>\n",
       "\t<tr><th scope=row>1</th><td>2017-01-01</td><td>0</td><td>0</td><td>0</td><td>0</td><td>1</td><td>0</td><td>0</td><td>0</td><td>0</td><td>0</td></tr>\n",
       "\t<tr><th scope=row>2</th><td>2017-01-02</td><td>0</td><td>0</td><td>0</td><td>0</td><td>0</td><td>0</td><td>0</td><td>0</td><td>0</td><td>0</td></tr>\n",
       "\t<tr><th scope=row>3</th><td>2017-01-03</td><td>0</td><td>0</td><td>0</td><td>0</td><td>0</td><td>0</td><td>0</td><td>0</td><td>0</td><td>0</td></tr>\n",
       "\t<tr><th scope=row>4</th><td>2017-01-04</td><td>0</td><td>0</td><td>0</td><td>0</td><td>0</td><td>0</td><td>0</td><td>0</td><td>0</td><td>0</td></tr>\n",
       "\t<tr><th scope=row>5</th><td>2017-01-05</td><td>0</td><td>0</td><td>0</td><td>0</td><td>0</td><td>0</td><td>0</td><td>0</td><td>0</td><td>0</td></tr>\n",
       "\t<tr><th scope=row>6</th><td>2017-01-06</td><td>0</td><td>0</td><td>0</td><td>0</td><td>0</td><td>0</td><td>0</td><td>0</td><td>0</td><td>0</td></tr>\n",
       "</tbody>\n",
       "</table>\n"
      ],
      "text/latex": [
       "A data.frame: 6 × 11\n",
       "\\begin{tabular}{r|lllllllllll}\n",
       "  & 일시 & 평균온도 & 최저온도 & 최고온도 & 최대풍속 & 평균풍속 & 평균습도 & 평균지면온도 & 강수량 & 적설량 & 안개시간\\\\\n",
       "  & <fct> & <dbl> & <dbl> & <dbl> & <dbl> & <dbl> & <dbl> & <dbl> & <dbl> & <dbl> & <dbl>\\\\\n",
       "\\hline\n",
       "\t1 & 2017-01-01 & 0 & 0 & 0 & 0 & 1 & 0 & 0 & 0 & 0 & 0\\\\\n",
       "\t2 & 2017-01-02 & 0 & 0 & 0 & 0 & 0 & 0 & 0 & 0 & 0 & 0\\\\\n",
       "\t3 & 2017-01-03 & 0 & 0 & 0 & 0 & 0 & 0 & 0 & 0 & 0 & 0\\\\\n",
       "\t4 & 2017-01-04 & 0 & 0 & 0 & 0 & 0 & 0 & 0 & 0 & 0 & 0\\\\\n",
       "\t5 & 2017-01-05 & 0 & 0 & 0 & 0 & 0 & 0 & 0 & 0 & 0 & 0\\\\\n",
       "\t6 & 2017-01-06 & 0 & 0 & 0 & 0 & 0 & 0 & 0 & 0 & 0 & 0\\\\\n",
       "\\end{tabular}\n"
      ],
      "text/markdown": [
       "\n",
       "A data.frame: 6 × 11\n",
       "\n",
       "| <!--/--> | 일시 &lt;fct&gt; | 평균온도 &lt;dbl&gt; | 최저온도 &lt;dbl&gt; | 최고온도 &lt;dbl&gt; | 최대풍속 &lt;dbl&gt; | 평균풍속 &lt;dbl&gt; | 평균습도 &lt;dbl&gt; | 평균지면온도 &lt;dbl&gt; | 강수량 &lt;dbl&gt; | 적설량 &lt;dbl&gt; | 안개시간 &lt;dbl&gt; |\n",
       "|---|---|---|---|---|---|---|---|---|---|---|---|\n",
       "| 1 | 2017-01-01 | 0 | 0 | 0 | 0 | 1 | 0 | 0 | 0 | 0 | 0 |\n",
       "| 2 | 2017-01-02 | 0 | 0 | 0 | 0 | 0 | 0 | 0 | 0 | 0 | 0 |\n",
       "| 3 | 2017-01-03 | 0 | 0 | 0 | 0 | 0 | 0 | 0 | 0 | 0 | 0 |\n",
       "| 4 | 2017-01-04 | 0 | 0 | 0 | 0 | 0 | 0 | 0 | 0 | 0 | 0 |\n",
       "| 5 | 2017-01-05 | 0 | 0 | 0 | 0 | 0 | 0 | 0 | 0 | 0 | 0 |\n",
       "| 6 | 2017-01-06 | 0 | 0 | 0 | 0 | 0 | 0 | 0 | 0 | 0 | 0 |\n",
       "\n"
      ],
      "text/plain": [
       "  일시       평균온도 최저온도 최고온도 최대풍속 평균풍속 평균습도 평균지면온도\n",
       "1 2017-01-01 0        0        0        0        1        0        0           \n",
       "2 2017-01-02 0        0        0        0        0        0        0           \n",
       "3 2017-01-03 0        0        0        0        0        0        0           \n",
       "4 2017-01-04 0        0        0        0        0        0        0           \n",
       "5 2017-01-05 0        0        0        0        0        0        0           \n",
       "6 2017-01-06 0        0        0        0        0        0        0           \n",
       "  강수량 적설량 안개시간\n",
       "1 0      0      0       \n",
       "2 0      0      0       \n",
       "3 0      0      0       \n",
       "4 0      0      0       \n",
       "5 0      0      0       \n",
       "6 0      0      0       "
      ]
     },
     "metadata": {},
     "output_type": "display_data"
    }
   ],
   "source": [
    "weather_2017_arrange <- weather_2017[,c(2,14:ncol(weather_2017))] \n",
    "dim(weather_2017_arrange)\n",
    "weather_2017_arrange %>% head()"
   ]
  },
  {
   "cell_type": "markdown",
   "id": "cloudy-spray",
   "metadata": {},
   "source": [
    "### 2018년의 weather 데이터 처리"
   ]
  },
  {
   "cell_type": "code",
   "execution_count": 9,
   "id": "interesting-participant",
   "metadata": {},
   "outputs": [],
   "source": [
    "weather_2018 <- read.csv('weather_2018.csv')"
   ]
  },
  {
   "cell_type": "code",
   "execution_count": 10,
   "id": "coupled-dancing",
   "metadata": {},
   "outputs": [],
   "source": [
    "temp_average <- c()\n",
    "qt <- quantile(weather_2018[, names(weather_2018)[3]], probs=c(0, 0.1, 0.9, 1), na.rm=T)\n",
    "temp_average <- ifelse(weather_2018[, names(weather_2018)[3]] < qt[2] | weather_2018[, names(weather_2018)[3]] > qt[3], 1, 0)\n",
    "\n",
    "temp_min <- c()\n",
    "qt <- quantile(weather_2018[, names(weather_2018)[4]], probs=c(0, 0.1, 0.9, 1), na.rm=T)\n",
    "temp_min <- ifelse(weather_2018[, names(weather_2018)[4]] < qt[2] | weather_2018[, names(weather_2018)[4]] > qt[3], 1, 0)\n",
    "\n",
    "temp_max <- c()\n",
    "qt <- quantile(weather_2018[, names(weather_2018)[5]], probs=c(0, 0.1, 0.9, 1), na.rm=T)\n",
    "temp_max <- ifelse(weather_2018[, names(weather_2018)[5]] < qt[2] | weather_2018[, names(weather_2018)[5]] > qt[3], 1, 0)\n",
    "\n",
    "wind_max <- c()\n",
    "qt <- quantile(weather_2018[, names(weather_2018)[7]], probs=c(0, 0.1, 0.9, 1), na.rm=T)\n",
    "wind_max <- ifelse(weather_2018[, names(weather_2018)[7]] < qt[2] | weather_2018[, names(weather_2018)[7]] > qt[3], 1, 0)\n",
    "\n",
    "wind_average <- c()\n",
    "qt <- quantile(weather_2018[, names(weather_2018)[9]], probs=c(0, 0.1, 0.9, 1), na.rm=T)\n",
    "wind_average <- ifelse(weather_2018[, names(weather_2018)[9]] < qt[2] | weather_2018[, names(weather_2018)[9]] > qt[3], 1, 0)\n",
    "\n",
    "humidity_average <- c()\n",
    "qt <- quantile(weather_2018[, names(weather_2018)[10]], probs=c(0, 0.1, 0.9, 1), na.rm=T)\n",
    "humidity_average <- ifelse(weather_2018[, names(weather_2018)[10]] < qt[2] | weather_2018[, names(weather_2018)[10]] > qt[3], 1, 0)\n",
    "\n",
    "road_average <- c()\n",
    "qt <- quantile(weather_2018[, names(weather_2018)[12]], probs=c(0, 0.1, 0.9, 1), na.rm=T)\n",
    "road_average <- ifelse(weather_2018[, names(weather_2018)[12]] < qt[2] | weather_2018[, names(weather_2018)[12]] > qt[3], 1, 0)"
   ]
  },
  {
   "cell_type": "code",
   "execution_count": 11,
   "id": "sweet-cinema",
   "metadata": {},
   "outputs": [],
   "source": [
    "weather_2018$평균온도 <- temp_average\n",
    "weather_2018$최저온도 <- temp_min\n",
    "weather_2018$최고온도 <- temp_max\n",
    "weather_2018$최대풍속 <- wind_max\n",
    "weather_2018$평균풍속 <- wind_average\n",
    "weather_2018$평균습도 <- humidity_average\n",
    "weather_2018$평균지면온도 <- road_average"
   ]
  },
  {
   "cell_type": "code",
   "execution_count": 12,
   "id": "electoral-toolbox",
   "metadata": {},
   "outputs": [],
   "source": [
    "weather_2018[, names(weather_2018)[6]] <- ifelse(is.na(weather_2018[, names(weather_2018)[6]]), 0, weather_2018[, names(weather_2018)[6]])\n",
    "weather_2018[, names(weather_2018)[11]] <- ifelse(is.na(weather_2018[, names(weather_2018)[11]]), 0, weather_2018[, names(weather_2018)[11]])"
   ]
  },
  {
   "cell_type": "code",
   "execution_count": 13,
   "id": "automotive-fountain",
   "metadata": {},
   "outputs": [],
   "source": [
    "day_rain <- c()\n",
    "qt <- quantile(weather_2018[, names(weather_2018)[6]], probs=c(0, 0.1, 0.9, 1), na.rm=T)\n",
    "day_rain <- ifelse(weather_2018[, names(weather_2018)[6]] > qt[3], 1, 0)\n",
    "\n",
    "day_snow <- c()\n",
    "qt <- quantile(weather_2018[, names(weather_2018)[11]], probs=c(0, 0.1, 0.9, 1), na.rm=T)\n",
    "day_snow <- ifelse(weather_2018[, names(weather_2018)[11]] > qt[3], 1, 0)"
   ]
  },
  {
   "cell_type": "code",
   "execution_count": 14,
   "id": "first-costa",
   "metadata": {},
   "outputs": [],
   "source": [
    "weather_2018$강수량 <- day_rain\n",
    "weather_2018$적설량 <- day_snow\n",
    "weather_2018$안개시간 <- ifelse( is.na(weather_2018[, names(weather_2018)[13]]), 0, 1)"
   ]
  },
  {
   "cell_type": "code",
   "execution_count": 15,
   "id": "minimal-library",
   "metadata": {},
   "outputs": [
    {
     "data": {
      "text/html": [
       "<style>\n",
       ".list-inline {list-style: none; margin:0; padding: 0}\n",
       ".list-inline>li {display: inline-block}\n",
       ".list-inline>li:not(:last-child)::after {content: \"\\00b7\"; padding: 0 .5ex}\n",
       "</style>\n",
       "<ol class=list-inline><li>365</li><li>11</li></ol>\n"
      ],
      "text/latex": [
       "\\begin{enumerate*}\n",
       "\\item 365\n",
       "\\item 11\n",
       "\\end{enumerate*}\n"
      ],
      "text/markdown": [
       "1. 365\n",
       "2. 11\n",
       "\n",
       "\n"
      ],
      "text/plain": [
       "[1] 365  11"
      ]
     },
     "metadata": {},
     "output_type": "display_data"
    },
    {
     "data": {
      "text/html": [
       "<table>\n",
       "<caption>A data.frame: 6 × 11</caption>\n",
       "<thead>\n",
       "\t<tr><th></th><th scope=col>일시</th><th scope=col>평균온도</th><th scope=col>최저온도</th><th scope=col>최고온도</th><th scope=col>최대풍속</th><th scope=col>평균풍속</th><th scope=col>평균습도</th><th scope=col>평균지면온도</th><th scope=col>강수량</th><th scope=col>적설량</th><th scope=col>안개시간</th></tr>\n",
       "\t<tr><th></th><th scope=col>&lt;fct&gt;</th><th scope=col>&lt;dbl&gt;</th><th scope=col>&lt;dbl&gt;</th><th scope=col>&lt;dbl&gt;</th><th scope=col>&lt;dbl&gt;</th><th scope=col>&lt;dbl&gt;</th><th scope=col>&lt;dbl&gt;</th><th scope=col>&lt;dbl&gt;</th><th scope=col>&lt;dbl&gt;</th><th scope=col>&lt;dbl&gt;</th><th scope=col>&lt;dbl&gt;</th></tr>\n",
       "</thead>\n",
       "<tbody>\n",
       "\t<tr><th scope=row>1</th><td>2018-01-01</td><td>0</td><td>0</td><td>0</td><td>0</td><td>0</td><td>0</td><td>0</td><td>0</td><td>0</td><td>0</td></tr>\n",
       "\t<tr><th scope=row>2</th><td>2018-01-02</td><td>0</td><td>0</td><td>0</td><td>0</td><td>0</td><td>0</td><td>1</td><td>0</td><td>0</td><td>0</td></tr>\n",
       "\t<tr><th scope=row>3</th><td>2018-01-03</td><td>1</td><td>0</td><td>1</td><td>0</td><td>0</td><td>0</td><td>1</td><td>0</td><td>0</td><td>0</td></tr>\n",
       "\t<tr><th scope=row>4</th><td>2018-01-04</td><td>1</td><td>0</td><td>1</td><td>1</td><td>0</td><td>0</td><td>1</td><td>0</td><td>0</td><td>0</td></tr>\n",
       "\t<tr><th scope=row>5</th><td>2018-01-05</td><td>0</td><td>0</td><td>1</td><td>0</td><td>0</td><td>0</td><td>0</td><td>0</td><td>0</td><td>0</td></tr>\n",
       "\t<tr><th scope=row>6</th><td>2018-01-06</td><td>0</td><td>0</td><td>0</td><td>0</td><td>0</td><td>0</td><td>0</td><td>0</td><td>0</td><td>0</td></tr>\n",
       "</tbody>\n",
       "</table>\n"
      ],
      "text/latex": [
       "A data.frame: 6 × 11\n",
       "\\begin{tabular}{r|lllllllllll}\n",
       "  & 일시 & 평균온도 & 최저온도 & 최고온도 & 최대풍속 & 평균풍속 & 평균습도 & 평균지면온도 & 강수량 & 적설량 & 안개시간\\\\\n",
       "  & <fct> & <dbl> & <dbl> & <dbl> & <dbl> & <dbl> & <dbl> & <dbl> & <dbl> & <dbl> & <dbl>\\\\\n",
       "\\hline\n",
       "\t1 & 2018-01-01 & 0 & 0 & 0 & 0 & 0 & 0 & 0 & 0 & 0 & 0\\\\\n",
       "\t2 & 2018-01-02 & 0 & 0 & 0 & 0 & 0 & 0 & 1 & 0 & 0 & 0\\\\\n",
       "\t3 & 2018-01-03 & 1 & 0 & 1 & 0 & 0 & 0 & 1 & 0 & 0 & 0\\\\\n",
       "\t4 & 2018-01-04 & 1 & 0 & 1 & 1 & 0 & 0 & 1 & 0 & 0 & 0\\\\\n",
       "\t5 & 2018-01-05 & 0 & 0 & 1 & 0 & 0 & 0 & 0 & 0 & 0 & 0\\\\\n",
       "\t6 & 2018-01-06 & 0 & 0 & 0 & 0 & 0 & 0 & 0 & 0 & 0 & 0\\\\\n",
       "\\end{tabular}\n"
      ],
      "text/markdown": [
       "\n",
       "A data.frame: 6 × 11\n",
       "\n",
       "| <!--/--> | 일시 &lt;fct&gt; | 평균온도 &lt;dbl&gt; | 최저온도 &lt;dbl&gt; | 최고온도 &lt;dbl&gt; | 최대풍속 &lt;dbl&gt; | 평균풍속 &lt;dbl&gt; | 평균습도 &lt;dbl&gt; | 평균지면온도 &lt;dbl&gt; | 강수량 &lt;dbl&gt; | 적설량 &lt;dbl&gt; | 안개시간 &lt;dbl&gt; |\n",
       "|---|---|---|---|---|---|---|---|---|---|---|---|\n",
       "| 1 | 2018-01-01 | 0 | 0 | 0 | 0 | 0 | 0 | 0 | 0 | 0 | 0 |\n",
       "| 2 | 2018-01-02 | 0 | 0 | 0 | 0 | 0 | 0 | 1 | 0 | 0 | 0 |\n",
       "| 3 | 2018-01-03 | 1 | 0 | 1 | 0 | 0 | 0 | 1 | 0 | 0 | 0 |\n",
       "| 4 | 2018-01-04 | 1 | 0 | 1 | 1 | 0 | 0 | 1 | 0 | 0 | 0 |\n",
       "| 5 | 2018-01-05 | 0 | 0 | 1 | 0 | 0 | 0 | 0 | 0 | 0 | 0 |\n",
       "| 6 | 2018-01-06 | 0 | 0 | 0 | 0 | 0 | 0 | 0 | 0 | 0 | 0 |\n",
       "\n"
      ],
      "text/plain": [
       "  일시       평균온도 최저온도 최고온도 최대풍속 평균풍속 평균습도 평균지면온도\n",
       "1 2018-01-01 0        0        0        0        0        0        0           \n",
       "2 2018-01-02 0        0        0        0        0        0        1           \n",
       "3 2018-01-03 1        0        1        0        0        0        1           \n",
       "4 2018-01-04 1        0        1        1        0        0        1           \n",
       "5 2018-01-05 0        0        1        0        0        0        0           \n",
       "6 2018-01-06 0        0        0        0        0        0        0           \n",
       "  강수량 적설량 안개시간\n",
       "1 0      0      0       \n",
       "2 0      0      0       \n",
       "3 0      0      0       \n",
       "4 0      0      0       \n",
       "5 0      0      0       \n",
       "6 0      0      0       "
      ]
     },
     "metadata": {},
     "output_type": "display_data"
    }
   ],
   "source": [
    "weather_2018_arrange <- weather_2018[,c(2,14:ncol(weather_2018))]\n",
    "dim(weather_2018_arrange)\n",
    "weather_2018_arrange %>% head()"
   ]
  },
  {
   "cell_type": "markdown",
   "id": "urban-planet",
   "metadata": {},
   "source": [
    "### 2019년의 weather 데이터 처리"
   ]
  },
  {
   "cell_type": "code",
   "execution_count": 16,
   "id": "infectious-pakistan",
   "metadata": {},
   "outputs": [],
   "source": [
    "weather_2019 <- read.csv('weather_2019.csv')"
   ]
  },
  {
   "cell_type": "code",
   "execution_count": 17,
   "id": "exterior-warning",
   "metadata": {},
   "outputs": [],
   "source": [
    "qt <- quantile(weather_2019[, names(weather_2017)[3]], probs=c(0, 0.1, 0.9, 1), na.rm=T)\n",
    "temp_average <- ifelse(weather_2019[, names(weather_2019)[3]] < qt[2] | weather_2019[, names(weather_2019)[3]] > qt[3], 1, 0)\n",
    "\n",
    "temp_min <- c()\n",
    "qt <- quantile(weather_2019[, names(weather_2019)[4]], probs=c(0, 0.1, 0.9, 1), na.rm=T)\n",
    "temp_min <- ifelse(weather_2019[, names(weather_2019)[4]] < qt[2] | weather_2019[, names(weather_2019)[4]] > qt[3], 1, 0)\n",
    "\n",
    "temp_max <- c()\n",
    "qt <- quantile(weather_2019[, names(weather_2019)[5]], probs=c(0, 0.1, 0.9, 1), na.rm=T)\n",
    "temp_max <- ifelse(weather_2019[, names(weather_2019)[5]] < qt[2] | weather_2019[, names(weather_2019)[5]] > qt[3], 1, 0)\n",
    "\n",
    "wind_max <- c()\n",
    "qt <- quantile(weather_2019[, names(weather_2019)[7]], probs=c(0, 0.1, 0.9, 1), na.rm=T)\n",
    "wind_max <- ifelse(weather_2019[, names(weather_2019)[7]] < qt[2] | weather_2019[, names(weather_2019)[7]] > qt[3], 1, 0)\n",
    "\n",
    "wind_average <- c()\n",
    "qt <- quantile(weather_2019[, names(weather_2019)[9]], probs=c(0, 0.1, 0.9, 1), na.rm=T)\n",
    "wind_average <- ifelse(weather_2019[, names(weather_2019)[9]] < qt[2] | weather_2019[, names(weather_2019)[9]] > qt[3], 1, 0)\n",
    "\n",
    "humidity_average <- c()\n",
    "qt <- quantile(weather_2019[, names(weather_2019)[10]], probs=c(0, 0.1, 0.9, 1), na.rm=T)\n",
    "humidity_average <- ifelse(weather_2019[, names(weather_2019)[10]] < qt[2] | weather_2019[, names(weather_2019)[10]] > qt[3], 1, 0)\n",
    "\n",
    "road_average <- c()\n",
    "qt <- quantile(weather_2019[, names(weather_2019)[12]], probs=c(0, 0.1, 0.9, 1), na.rm=T)\n",
    "road_average <- ifelse(weather_2019[, names(weather_2019)[12]] < qt[2] | weather_2019[, names(weather_2019)[12]] > qt[3], 1, 0)"
   ]
  },
  {
   "cell_type": "code",
   "execution_count": 18,
   "id": "unauthorized-dylan",
   "metadata": {},
   "outputs": [],
   "source": [
    "weather_2019$평균온도 <- temp_average\n",
    "weather_2019$최저온도 <- temp_min\n",
    "weather_2019$최고온도 <- temp_max\n",
    "weather_2019$최대풍속 <- wind_max\n",
    "weather_2019$평균풍속 <- wind_average\n",
    "weather_2019$평균습도 <- humidity_average\n",
    "weather_2019$평균지면온도 <- road_average"
   ]
  },
  {
   "cell_type": "code",
   "execution_count": 19,
   "id": "stretch-chamber",
   "metadata": {},
   "outputs": [],
   "source": [
    "weather_2019[, names(weather_2019)[6]] <- ifelse(is.na(weather_2019[, names(weather_2019)[6]]), 0, weather_2019[, names(weather_2019)[6]])\n",
    "weather_2019[, names(weather_2019)[11]] <- ifelse(is.na(weather_2019[, names(weather_2019)[11]]), 0, weather_2019[, names(weather_2019)[11]])"
   ]
  },
  {
   "cell_type": "code",
   "execution_count": 20,
   "id": "lucky-clock",
   "metadata": {},
   "outputs": [],
   "source": [
    "day_rain <- c()\n",
    "qt <- quantile(weather_2019[, names(weather_2019)[6]], probs=c(0, 0.1, 0.9, 1), na.rm=T)\n",
    "day_rain <- ifelse(weather_2019[, names(weather_2019)[6]] > qt[3], 1, 0)\n",
    "\n",
    "day_snow <- c()\n",
    "qt <- quantile(weather_2019[, names(weather_2019)[11]], probs=c(0, 0.1, 0.9, 1), na.rm=T)\n",
    "day_snow <- ifelse(weather_2019[, names(weather_2019)[11]] > qt[3], 1, 0)"
   ]
  },
  {
   "cell_type": "code",
   "execution_count": 21,
   "id": "colonial-newark",
   "metadata": {},
   "outputs": [],
   "source": [
    "weather_2019$강수량 <- day_rain\n",
    "weather_2019$적설량 <- day_snow\n",
    "weather_2019$안개시간 <- ifelse( is.na(weather_2019[, names(weather_2019)[13]]), 0, 1)"
   ]
  },
  {
   "cell_type": "code",
   "execution_count": 22,
   "id": "comparable-spouse",
   "metadata": {},
   "outputs": [
    {
     "data": {
      "text/html": [
       "<style>\n",
       ".list-inline {list-style: none; margin:0; padding: 0}\n",
       ".list-inline>li {display: inline-block}\n",
       ".list-inline>li:not(:last-child)::after {content: \"\\00b7\"; padding: 0 .5ex}\n",
       "</style>\n",
       "<ol class=list-inline><li>365</li><li>11</li></ol>\n"
      ],
      "text/latex": [
       "\\begin{enumerate*}\n",
       "\\item 365\n",
       "\\item 11\n",
       "\\end{enumerate*}\n"
      ],
      "text/markdown": [
       "1. 365\n",
       "2. 11\n",
       "\n",
       "\n"
      ],
      "text/plain": [
       "[1] 365  11"
      ]
     },
     "metadata": {},
     "output_type": "display_data"
    },
    {
     "data": {
      "text/html": [
       "<table>\n",
       "<caption>A data.frame: 6 × 11</caption>\n",
       "<thead>\n",
       "\t<tr><th></th><th scope=col>일시</th><th scope=col>평균온도</th><th scope=col>최저온도</th><th scope=col>최고온도</th><th scope=col>최대풍속</th><th scope=col>평균풍속</th><th scope=col>평균습도</th><th scope=col>평균지면온도</th><th scope=col>강수량</th><th scope=col>적설량</th><th scope=col>안개시간</th></tr>\n",
       "\t<tr><th></th><th scope=col>&lt;fct&gt;</th><th scope=col>&lt;dbl&gt;</th><th scope=col>&lt;dbl&gt;</th><th scope=col>&lt;dbl&gt;</th><th scope=col>&lt;dbl&gt;</th><th scope=col>&lt;dbl&gt;</th><th scope=col>&lt;dbl&gt;</th><th scope=col>&lt;dbl&gt;</th><th scope=col>&lt;dbl&gt;</th><th scope=col>&lt;dbl&gt;</th><th scope=col>&lt;dbl&gt;</th></tr>\n",
       "</thead>\n",
       "<tbody>\n",
       "\t<tr><th scope=row>1</th><td>2019-01-01</td><td>1</td><td>1</td><td>1</td><td>0</td><td>0</td><td>0</td><td>1</td><td>0</td><td>0</td><td>0</td></tr>\n",
       "\t<tr><th scope=row>2</th><td>2019-01-02</td><td>1</td><td>1</td><td>1</td><td>0</td><td>0</td><td>0</td><td>1</td><td>0</td><td>0</td><td>0</td></tr>\n",
       "\t<tr><th scope=row>3</th><td>2019-01-03</td><td>1</td><td>1</td><td>1</td><td>0</td><td>0</td><td>0</td><td>1</td><td>0</td><td>0</td><td>0</td></tr>\n",
       "\t<tr><th scope=row>4</th><td>2019-01-04</td><td>1</td><td>1</td><td>1</td><td>1</td><td>0</td><td>0</td><td>1</td><td>0</td><td>0</td><td>0</td></tr>\n",
       "\t<tr><th scope=row>5</th><td>2019-01-05</td><td>1</td><td>1</td><td>1</td><td>0</td><td>0</td><td>0</td><td>1</td><td>0</td><td>0</td><td>0</td></tr>\n",
       "\t<tr><th scope=row>6</th><td>2019-01-06</td><td>1</td><td>1</td><td>1</td><td>0</td><td>0</td><td>0</td><td>1</td><td>0</td><td>0</td><td>0</td></tr>\n",
       "</tbody>\n",
       "</table>\n"
      ],
      "text/latex": [
       "A data.frame: 6 × 11\n",
       "\\begin{tabular}{r|lllllllllll}\n",
       "  & 일시 & 평균온도 & 최저온도 & 최고온도 & 최대풍속 & 평균풍속 & 평균습도 & 평균지면온도 & 강수량 & 적설량 & 안개시간\\\\\n",
       "  & <fct> & <dbl> & <dbl> & <dbl> & <dbl> & <dbl> & <dbl> & <dbl> & <dbl> & <dbl> & <dbl>\\\\\n",
       "\\hline\n",
       "\t1 & 2019-01-01 & 1 & 1 & 1 & 0 & 0 & 0 & 1 & 0 & 0 & 0\\\\\n",
       "\t2 & 2019-01-02 & 1 & 1 & 1 & 0 & 0 & 0 & 1 & 0 & 0 & 0\\\\\n",
       "\t3 & 2019-01-03 & 1 & 1 & 1 & 0 & 0 & 0 & 1 & 0 & 0 & 0\\\\\n",
       "\t4 & 2019-01-04 & 1 & 1 & 1 & 1 & 0 & 0 & 1 & 0 & 0 & 0\\\\\n",
       "\t5 & 2019-01-05 & 1 & 1 & 1 & 0 & 0 & 0 & 1 & 0 & 0 & 0\\\\\n",
       "\t6 & 2019-01-06 & 1 & 1 & 1 & 0 & 0 & 0 & 1 & 0 & 0 & 0\\\\\n",
       "\\end{tabular}\n"
      ],
      "text/markdown": [
       "\n",
       "A data.frame: 6 × 11\n",
       "\n",
       "| <!--/--> | 일시 &lt;fct&gt; | 평균온도 &lt;dbl&gt; | 최저온도 &lt;dbl&gt; | 최고온도 &lt;dbl&gt; | 최대풍속 &lt;dbl&gt; | 평균풍속 &lt;dbl&gt; | 평균습도 &lt;dbl&gt; | 평균지면온도 &lt;dbl&gt; | 강수량 &lt;dbl&gt; | 적설량 &lt;dbl&gt; | 안개시간 &lt;dbl&gt; |\n",
       "|---|---|---|---|---|---|---|---|---|---|---|---|\n",
       "| 1 | 2019-01-01 | 1 | 1 | 1 | 0 | 0 | 0 | 1 | 0 | 0 | 0 |\n",
       "| 2 | 2019-01-02 | 1 | 1 | 1 | 0 | 0 | 0 | 1 | 0 | 0 | 0 |\n",
       "| 3 | 2019-01-03 | 1 | 1 | 1 | 0 | 0 | 0 | 1 | 0 | 0 | 0 |\n",
       "| 4 | 2019-01-04 | 1 | 1 | 1 | 1 | 0 | 0 | 1 | 0 | 0 | 0 |\n",
       "| 5 | 2019-01-05 | 1 | 1 | 1 | 0 | 0 | 0 | 1 | 0 | 0 | 0 |\n",
       "| 6 | 2019-01-06 | 1 | 1 | 1 | 0 | 0 | 0 | 1 | 0 | 0 | 0 |\n",
       "\n"
      ],
      "text/plain": [
       "  일시       평균온도 최저온도 최고온도 최대풍속 평균풍속 평균습도 평균지면온도\n",
       "1 2019-01-01 1        1        1        0        0        0        1           \n",
       "2 2019-01-02 1        1        1        0        0        0        1           \n",
       "3 2019-01-03 1        1        1        0        0        0        1           \n",
       "4 2019-01-04 1        1        1        1        0        0        1           \n",
       "5 2019-01-05 1        1        1        0        0        0        1           \n",
       "6 2019-01-06 1        1        1        0        0        0        1           \n",
       "  강수량 적설량 안개시간\n",
       "1 0      0      0       \n",
       "2 0      0      0       \n",
       "3 0      0      0       \n",
       "4 0      0      0       \n",
       "5 0      0      0       \n",
       "6 0      0      0       "
      ]
     },
     "metadata": {},
     "output_type": "display_data"
    }
   ],
   "source": [
    "weather_2019_arrange <- weather_2019[,c(2, 14:ncol(weather_2019))]\n",
    "dim(weather_2019_arrange)\n",
    "weather_2019_arrange %>% head()"
   ]
  },
  {
   "cell_type": "code",
   "execution_count": 23,
   "id": "returning-tribe",
   "metadata": {},
   "outputs": [
    {
     "data": {
      "text/html": [
       "<style>\n",
       ".list-inline {list-style: none; margin:0; padding: 0}\n",
       ".list-inline>li {display: inline-block}\n",
       ".list-inline>li:not(:last-child)::after {content: \"\\00b7\"; padding: 0 .5ex}\n",
       "</style>\n",
       "<ol class=list-inline><li>1095</li><li>11</li></ol>\n"
      ],
      "text/latex": [
       "\\begin{enumerate*}\n",
       "\\item 1095\n",
       "\\item 11\n",
       "\\end{enumerate*}\n"
      ],
      "text/markdown": [
       "1. 1095\n",
       "2. 11\n",
       "\n",
       "\n"
      ],
      "text/plain": [
       "[1] 1095   11"
      ]
     },
     "metadata": {},
     "output_type": "display_data"
    },
    {
     "data": {
      "text/html": [
       "<table>\n",
       "<caption>A data.frame: 6 × 11</caption>\n",
       "<thead>\n",
       "\t<tr><th></th><th scope=col>일시</th><th scope=col>평균온도</th><th scope=col>최저온도</th><th scope=col>최고온도</th><th scope=col>최대풍속</th><th scope=col>평균풍속</th><th scope=col>평균습도</th><th scope=col>평균지면온도</th><th scope=col>강수량</th><th scope=col>적설량</th><th scope=col>안개시간</th></tr>\n",
       "\t<tr><th></th><th scope=col>&lt;fct&gt;</th><th scope=col>&lt;dbl&gt;</th><th scope=col>&lt;dbl&gt;</th><th scope=col>&lt;dbl&gt;</th><th scope=col>&lt;dbl&gt;</th><th scope=col>&lt;dbl&gt;</th><th scope=col>&lt;dbl&gt;</th><th scope=col>&lt;dbl&gt;</th><th scope=col>&lt;dbl&gt;</th><th scope=col>&lt;dbl&gt;</th><th scope=col>&lt;dbl&gt;</th></tr>\n",
       "</thead>\n",
       "<tbody>\n",
       "\t<tr><th scope=row>1</th><td>2017-01-01</td><td>0</td><td>0</td><td>0</td><td>0</td><td>1</td><td>0</td><td>0</td><td>0</td><td>0</td><td>0</td></tr>\n",
       "\t<tr><th scope=row>2</th><td>2017-01-02</td><td>0</td><td>0</td><td>0</td><td>0</td><td>0</td><td>0</td><td>0</td><td>0</td><td>0</td><td>0</td></tr>\n",
       "\t<tr><th scope=row>3</th><td>2017-01-03</td><td>0</td><td>0</td><td>0</td><td>0</td><td>0</td><td>0</td><td>0</td><td>0</td><td>0</td><td>0</td></tr>\n",
       "\t<tr><th scope=row>4</th><td>2017-01-04</td><td>0</td><td>0</td><td>0</td><td>0</td><td>0</td><td>0</td><td>0</td><td>0</td><td>0</td><td>0</td></tr>\n",
       "\t<tr><th scope=row>5</th><td>2017-01-05</td><td>0</td><td>0</td><td>0</td><td>0</td><td>0</td><td>0</td><td>0</td><td>0</td><td>0</td><td>0</td></tr>\n",
       "\t<tr><th scope=row>6</th><td>2017-01-06</td><td>0</td><td>0</td><td>0</td><td>0</td><td>0</td><td>0</td><td>0</td><td>0</td><td>0</td><td>0</td></tr>\n",
       "</tbody>\n",
       "</table>\n"
      ],
      "text/latex": [
       "A data.frame: 6 × 11\n",
       "\\begin{tabular}{r|lllllllllll}\n",
       "  & 일시 & 평균온도 & 최저온도 & 최고온도 & 최대풍속 & 평균풍속 & 평균습도 & 평균지면온도 & 강수량 & 적설량 & 안개시간\\\\\n",
       "  & <fct> & <dbl> & <dbl> & <dbl> & <dbl> & <dbl> & <dbl> & <dbl> & <dbl> & <dbl> & <dbl>\\\\\n",
       "\\hline\n",
       "\t1 & 2017-01-01 & 0 & 0 & 0 & 0 & 1 & 0 & 0 & 0 & 0 & 0\\\\\n",
       "\t2 & 2017-01-02 & 0 & 0 & 0 & 0 & 0 & 0 & 0 & 0 & 0 & 0\\\\\n",
       "\t3 & 2017-01-03 & 0 & 0 & 0 & 0 & 0 & 0 & 0 & 0 & 0 & 0\\\\\n",
       "\t4 & 2017-01-04 & 0 & 0 & 0 & 0 & 0 & 0 & 0 & 0 & 0 & 0\\\\\n",
       "\t5 & 2017-01-05 & 0 & 0 & 0 & 0 & 0 & 0 & 0 & 0 & 0 & 0\\\\\n",
       "\t6 & 2017-01-06 & 0 & 0 & 0 & 0 & 0 & 0 & 0 & 0 & 0 & 0\\\\\n",
       "\\end{tabular}\n"
      ],
      "text/markdown": [
       "\n",
       "A data.frame: 6 × 11\n",
       "\n",
       "| <!--/--> | 일시 &lt;fct&gt; | 평균온도 &lt;dbl&gt; | 최저온도 &lt;dbl&gt; | 최고온도 &lt;dbl&gt; | 최대풍속 &lt;dbl&gt; | 평균풍속 &lt;dbl&gt; | 평균습도 &lt;dbl&gt; | 평균지면온도 &lt;dbl&gt; | 강수량 &lt;dbl&gt; | 적설량 &lt;dbl&gt; | 안개시간 &lt;dbl&gt; |\n",
       "|---|---|---|---|---|---|---|---|---|---|---|---|\n",
       "| 1 | 2017-01-01 | 0 | 0 | 0 | 0 | 1 | 0 | 0 | 0 | 0 | 0 |\n",
       "| 2 | 2017-01-02 | 0 | 0 | 0 | 0 | 0 | 0 | 0 | 0 | 0 | 0 |\n",
       "| 3 | 2017-01-03 | 0 | 0 | 0 | 0 | 0 | 0 | 0 | 0 | 0 | 0 |\n",
       "| 4 | 2017-01-04 | 0 | 0 | 0 | 0 | 0 | 0 | 0 | 0 | 0 | 0 |\n",
       "| 5 | 2017-01-05 | 0 | 0 | 0 | 0 | 0 | 0 | 0 | 0 | 0 | 0 |\n",
       "| 6 | 2017-01-06 | 0 | 0 | 0 | 0 | 0 | 0 | 0 | 0 | 0 | 0 |\n",
       "\n"
      ],
      "text/plain": [
       "  일시       평균온도 최저온도 최고온도 최대풍속 평균풍속 평균습도 평균지면온도\n",
       "1 2017-01-01 0        0        0        0        1        0        0           \n",
       "2 2017-01-02 0        0        0        0        0        0        0           \n",
       "3 2017-01-03 0        0        0        0        0        0        0           \n",
       "4 2017-01-04 0        0        0        0        0        0        0           \n",
       "5 2017-01-05 0        0        0        0        0        0        0           \n",
       "6 2017-01-06 0        0        0        0        0        0        0           \n",
       "  강수량 적설량 안개시간\n",
       "1 0      0      0       \n",
       "2 0      0      0       \n",
       "3 0      0      0       \n",
       "4 0      0      0       \n",
       "5 0      0      0       \n",
       "6 0      0      0       "
      ]
     },
     "metadata": {},
     "output_type": "display_data"
    }
   ],
   "source": [
    "weather_arrange <- bind_rows(weather_2017_arrange, weather_2018_arrange, weather_2019_arrange)\n",
    "dim(weather_arrange)\n",
    "weather_arrange %>% head()"
   ]
  },
  {
   "cell_type": "code",
   "execution_count": 24,
   "id": "entitled-london",
   "metadata": {},
   "outputs": [],
   "source": [
    "write.csv(weather_arrange, file='weather_arrange.csv', row.names=F)"
   ]
  }
 ],
 "metadata": {
  "kernelspec": {
   "display_name": "R",
   "language": "R",
   "name": "ir"
  },
  "language_info": {
   "codemirror_mode": "r",
   "file_extension": ".r",
   "mimetype": "text/x-r-source",
   "name": "R",
   "pygments_lexer": "r",
   "version": "3.6.0"
  }
 },
 "nbformat": 4,
 "nbformat_minor": 5
}
