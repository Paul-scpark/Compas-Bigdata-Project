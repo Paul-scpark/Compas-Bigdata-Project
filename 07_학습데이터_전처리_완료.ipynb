{
 "cells": [
  {
   "cell_type": "code",
   "execution_count": 1,
   "id": "seasonal-mainstream",
   "metadata": {},
   "outputs": [
    {
     "name": "stderr",
     "output_type": "stream",
     "text": [
      "\n",
      "Attaching package: ‘dplyr’\n",
      "\n",
      "\n",
      "The following objects are masked from ‘package:stats’:\n",
      "\n",
      "    filter, lag\n",
      "\n",
      "\n",
      "The following objects are masked from ‘package:base’:\n",
      "\n",
      "    intersect, setdiff, setequal, union\n",
      "\n",
      "\n"
     ]
    }
   ],
   "source": [
    "library(dplyr)\n",
    "library(tidyr)"
   ]
  },
  {
   "cell_type": "markdown",
   "id": "individual-rescue",
   "metadata": {},
   "source": [
    "## 현재까지 구축했던 데이터 불러오기"
   ]
  },
  {
   "cell_type": "code",
   "execution_count": 2,
   "id": "owned-heavy",
   "metadata": {},
   "outputs": [
    {
     "data": {
      "text/html": [
       "<style>\n",
       ".list-inline {list-style: none; margin:0; padding: 0}\n",
       ".list-inline>li {display: inline-block}\n",
       ".list-inline>li:not(:last-child)::after {content: \"\\00b7\"; padding: 0 .5ex}\n",
       "</style>\n",
       "<ol class=list-inline><li>5556</li><li>34</li></ol>\n"
      ],
      "text/latex": [
       "\\begin{enumerate*}\n",
       "\\item 5556\n",
       "\\item 34\n",
       "\\end{enumerate*}\n"
      ],
      "text/markdown": [
       "1. 5556\n",
       "2. 34\n",
       "\n",
       "\n"
      ],
      "text/plain": [
       "[1] 5556   34"
      ]
     },
     "metadata": {},
     "output_type": "display_data"
    },
    {
     "data": {
      "text/html": [
       "<table>\n",
       "<caption>A data.frame: 2 × 34</caption>\n",
       "<thead>\n",
       "\t<tr><th></th><th scope=col>X</th><th scope=col>gid</th><th scope=col>acci_cnt</th><th scope=col>geometry</th><th scope=col>사고건수</th><th scope=col>사상자수</th><th scope=col>x</th><th scope=col>y</th><th scope=col>신호등_보행자수</th><th scope=col>신호등_차량등수</th><th scope=col>⋯</th><th scope=col>안전지대수</th><th scope=col>중앙분리대수</th><th scope=col>정차금지지대수</th><th scope=col>도로속도표시수</th><th scope=col>교통안전표지수</th><th scope=col>노드개수</th><th scope=col>횡단보도수</th><th scope=col>건물면적</th><th scope=col>자동차대수</th><th scope=col>총거주인구수</th></tr>\n",
       "\t<tr><th></th><th scope=col>&lt;int&gt;</th><th scope=col>&lt;fct&gt;</th><th scope=col>&lt;int&gt;</th><th scope=col>&lt;fct&gt;</th><th scope=col>&lt;int&gt;</th><th scope=col>&lt;int&gt;</th><th scope=col>&lt;dbl&gt;</th><th scope=col>&lt;dbl&gt;</th><th scope=col>&lt;dbl&gt;</th><th scope=col>&lt;dbl&gt;</th><th scope=col>⋯</th><th scope=col>&lt;dbl&gt;</th><th scope=col>&lt;dbl&gt;</th><th scope=col>&lt;dbl&gt;</th><th scope=col>&lt;dbl&gt;</th><th scope=col>&lt;dbl&gt;</th><th scope=col>&lt;dbl&gt;</th><th scope=col>&lt;dbl&gt;</th><th scope=col>&lt;dbl&gt;</th><th scope=col>&lt;int&gt;</th><th scope=col>&lt;dbl&gt;</th></tr>\n",
       "</thead>\n",
       "<tbody>\n",
       "\t<tr><th scope=row>1</th><td>0</td><td>다바931203</td><td>2</td><td>MULTIPOLYGON (((127.4230710131166 36.38013455218083, 127.4230701251944 36.38103608833949, 127.4241850500282 36.38103680113275, 127.424185925082 36.38013526495075, 127.4230710131166 36.38013455218083)))</td><td>2</td><td>2</td><td>127.4236</td><td>36.38059</td><td>1</td><td>3</td><td>⋯</td><td>1</td><td>0</td><td>0</td><td>2</td><td>5</td><td>0</td><td>1</td><td>1291.19</td><td>409</td><td> 0</td></tr>\n",
       "\t<tr><th scope=row>2</th><td>1</td><td>다바861174</td><td>0</td><td>MULTIPOLYGON (((127.3450791441312 36.35391426501025, 127.3450773577309 36.35481580264442, 127.3461919054753 36.3548172424657, 127.346193679024 36.35391570478436, 127.3450791441312 36.35391426501025))) </td><td>0</td><td>0</td><td>127.3456</td><td>36.35437</td><td>0</td><td>0</td><td>⋯</td><td>0</td><td>0</td><td>0</td><td>1</td><td>0</td><td>0</td><td>0</td><td>1159.69</td><td> 16</td><td>24</td></tr>\n",
       "</tbody>\n",
       "</table>\n"
      ],
      "text/latex": [
       "A data.frame: 2 × 34\n",
       "\\begin{tabular}{r|lllllllllllllllllllll}\n",
       "  & X & gid & acci\\_cnt & geometry & 사고건수 & 사상자수 & x & y & 신호등\\_보행자수 & 신호등\\_차량등수 & ⋯ & 안전지대수 & 중앙분리대수 & 정차금지지대수 & 도로속도표시수 & 교통안전표지수 & 노드개수 & 횡단보도수 & 건물면적 & 자동차대수 & 총거주인구수\\\\\n",
       "  & <int> & <fct> & <int> & <fct> & <int> & <int> & <dbl> & <dbl> & <dbl> & <dbl> & ⋯ & <dbl> & <dbl> & <dbl> & <dbl> & <dbl> & <dbl> & <dbl> & <dbl> & <int> & <dbl>\\\\\n",
       "\\hline\n",
       "\t1 & 0 & 다바931203 & 2 & MULTIPOLYGON (((127.4230710131166 36.38013455218083, 127.4230701251944 36.38103608833949, 127.4241850500282 36.38103680113275, 127.424185925082 36.38013526495075, 127.4230710131166 36.38013455218083))) & 2 & 2 & 127.4236 & 36.38059 & 1 & 3 & ⋯ & 1 & 0 & 0 & 2 & 5 & 0 & 1 & 1291.19 & 409 &  0\\\\\n",
       "\t2 & 1 & 다바861174 & 0 & MULTIPOLYGON (((127.3450791441312 36.35391426501025, 127.3450773577309 36.35481580264442, 127.3461919054753 36.3548172424657, 127.346193679024 36.35391570478436, 127.3450791441312 36.35391426501025)))  & 0 & 0 & 127.3456 & 36.35437 & 0 & 0 & ⋯ & 0 & 0 & 0 & 1 & 0 & 0 & 0 & 1159.69 &  16 & 24\\\\\n",
       "\\end{tabular}\n"
      ],
      "text/markdown": [
       "\n",
       "A data.frame: 2 × 34\n",
       "\n",
       "| <!--/--> | X &lt;int&gt; | gid &lt;fct&gt; | acci_cnt &lt;int&gt; | geometry &lt;fct&gt; | 사고건수 &lt;int&gt; | 사상자수 &lt;int&gt; | x &lt;dbl&gt; | y &lt;dbl&gt; | 신호등_보행자수 &lt;dbl&gt; | 신호등_차량등수 &lt;dbl&gt; | ⋯ ⋯ | 안전지대수 &lt;dbl&gt; | 중앙분리대수 &lt;dbl&gt; | 정차금지지대수 &lt;dbl&gt; | 도로속도표시수 &lt;dbl&gt; | 교통안전표지수 &lt;dbl&gt; | 노드개수 &lt;dbl&gt; | 횡단보도수 &lt;dbl&gt; | 건물면적 &lt;dbl&gt; | 자동차대수 &lt;int&gt; | 총거주인구수 &lt;dbl&gt; |\n",
       "|---|---|---|---|---|---|---|---|---|---|---|---|---|---|---|---|---|---|---|---|---|---|\n",
       "| 1 | 0 | 다바931203 | 2 | MULTIPOLYGON (((127.4230710131166 36.38013455218083, 127.4230701251944 36.38103608833949, 127.4241850500282 36.38103680113275, 127.424185925082 36.38013526495075, 127.4230710131166 36.38013455218083))) | 2 | 2 | 127.4236 | 36.38059 | 1 | 3 | ⋯ | 1 | 0 | 0 | 2 | 5 | 0 | 1 | 1291.19 | 409 |  0 |\n",
       "| 2 | 1 | 다바861174 | 0 | MULTIPOLYGON (((127.3450791441312 36.35391426501025, 127.3450773577309 36.35481580264442, 127.3461919054753 36.3548172424657, 127.346193679024 36.35391570478436, 127.3450791441312 36.35391426501025)))  | 0 | 0 | 127.3456 | 36.35437 | 0 | 0 | ⋯ | 0 | 0 | 0 | 1 | 0 | 0 | 0 | 1159.69 |  16 | 24 |\n",
       "\n"
      ],
      "text/plain": [
       "  X gid        acci_cnt\n",
       "1 0 다바931203 2       \n",
       "2 1 다바861174 0       \n",
       "  geometry                                                                                                                                                                                                 \n",
       "1 MULTIPOLYGON (((127.4230710131166 36.38013455218083, 127.4230701251944 36.38103608833949, 127.4241850500282 36.38103680113275, 127.424185925082 36.38013526495075, 127.4230710131166 36.38013455218083)))\n",
       "2 MULTIPOLYGON (((127.3450791441312 36.35391426501025, 127.3450773577309 36.35481580264442, 127.3461919054753 36.3548172424657, 127.346193679024 36.35391570478436, 127.3450791441312 36.35391426501025))) \n",
       "  사고건수 사상자수 x        y        신호등_보행자수 신호등_차량등수 ⋯\n",
       "1 2        2        127.4236 36.38059 1               3               ⋯\n",
       "2 0        0        127.3456 36.35437 0               0               ⋯\n",
       "  안전지대수 중앙분리대수 정차금지지대수 도로속도표시수 교통안전표지수 노드개수\n",
       "1 1          0            0              2              5              0       \n",
       "2 0          0            0              1              0              0       \n",
       "  횡단보도수 건물면적 자동차대수 총거주인구수\n",
       "1 1          1291.19  409         0          \n",
       "2 0          1159.69   16        24          "
      ]
     },
     "metadata": {},
     "output_type": "display_data"
    }
   ],
   "source": [
    "accident_count_filter_23 <- read.csv('accident_count_filter_23.csv')\n",
    "dim(accident_count_filter_23)\n",
    "accident_count_filter_23 %>% head(2)"
   ]
  },
  {
   "cell_type": "markdown",
   "id": "central-proposal",
   "metadata": {},
   "source": [
    "## 23. 교통사고내역 데이터를 활용하여 사고유형과 연령대를 현재까지 구축한 데이터와 병합\n",
    "\n",
    "사고유형(차대차, 차대사람)과 연령대 변수(20대 미만, 20대, 30대, 40대, 50대, 60대 이상)를 모두 고려하기 위하여<br/>\n",
    "각각의 데이터를 병합하여 **총 12개의 새로운 그룹을 만들고, 전체 데이터와 병합**하도록 한다."
   ]
  },
  {
   "cell_type": "code",
   "execution_count": 3,
   "id": "capable-diamond",
   "metadata": {},
   "outputs": [
    {
     "name": "stderr",
     "output_type": "stream",
     "text": [
      "Warning message:\n",
      "“Expected 2 pieces. Additional pieces discarded in 62 rows [618, 651, 1355, 1391, 1492, 1667, 1889, 2035, 2054, 2377, 3088, 3205, 3360, 3448, 3878, 4303, 4405, 5203, 6775, 7388, ...].”\n"
     ]
    },
    {
     "data": {
      "text/html": [
       "<style>\n",
       ".list-inline {list-style: none; margin:0; padding: 0}\n",
       ".list-inline>li {display: inline-block}\n",
       ".list-inline>li:not(:last-child)::after {content: \"\\00b7\"; padding: 0 .5ex}\n",
       "</style>\n",
       "<ol class=list-inline><li>23652</li><li>17</li></ol>\n"
      ],
      "text/latex": [
       "\\begin{enumerate*}\n",
       "\\item 23652\n",
       "\\item 17\n",
       "\\end{enumerate*}\n"
      ],
      "text/markdown": [
       "1. 23652\n",
       "2. 17\n",
       "\n",
       "\n"
      ],
      "text/plain": [
       "[1] 23652    17"
      ]
     },
     "metadata": {},
     "output_type": "display_data"
    },
    {
     "data": {
      "text/html": [
       "<table>\n",
       "<caption>A data.frame: 2 × 17</caption>\n",
       "<thead>\n",
       "\t<tr><th></th><th scope=col>사고일</th><th scope=col>시군구</th><th scope=col>사고유형메인</th><th scope=col>사고유형디테일</th><th scope=col>법규위반</th><th scope=col>사고내용</th><th scope=col>사망자수</th><th scope=col>중상자수</th><th scope=col>경상자수</th><th scope=col>부상신고자수</th><th scope=col>가해운전자.차종</th><th scope=col>가해운전자.연령대</th><th scope=col>가해운전자.성별</th><th scope=col>피해운전자.차종</th><th scope=col>피해운전자.연령대</th><th scope=col>피해운전자.성별</th><th scope=col>gid</th></tr>\n",
       "\t<tr><th></th><th scope=col>&lt;fct&gt;</th><th scope=col>&lt;fct&gt;</th><th scope=col>&lt;chr&gt;</th><th scope=col>&lt;chr&gt;</th><th scope=col>&lt;fct&gt;</th><th scope=col>&lt;fct&gt;</th><th scope=col>&lt;int&gt;</th><th scope=col>&lt;int&gt;</th><th scope=col>&lt;int&gt;</th><th scope=col>&lt;int&gt;</th><th scope=col>&lt;fct&gt;</th><th scope=col>&lt;fct&gt;</th><th scope=col>&lt;fct&gt;</th><th scope=col>&lt;fct&gt;</th><th scope=col>&lt;fct&gt;</th><th scope=col>&lt;fct&gt;</th><th scope=col>&lt;fct&gt;</th></tr>\n",
       "</thead>\n",
       "<tbody>\n",
       "\t<tr><th scope=row>1</th><td>2017-01-01</td><td>대전광역시 서구 용문동</td><td>차대차 </td><td> 측면충돌</td><td>안전운전불이행</td><td>중상사고</td><td>0</td><td>1</td><td>1</td><td>0</td><td>승용</td><td>50대</td><td>남</td><td>승용</td><td>60대</td><td>남</td><td>다바905151</td></tr>\n",
       "\t<tr><th scope=row>2</th><td>2017-01-01</td><td>대전광역시 서구 탄방동</td><td>차대차 </td><td> 추돌    </td><td>안전운전불이행</td><td>경상사고</td><td>0</td><td>0</td><td>1</td><td>0</td><td>승용</td><td>50대</td><td>남</td><td>승용</td><td>30대</td><td>남</td><td>다바905166</td></tr>\n",
       "</tbody>\n",
       "</table>\n"
      ],
      "text/latex": [
       "A data.frame: 2 × 17\n",
       "\\begin{tabular}{r|lllllllllllllllll}\n",
       "  & 사고일 & 시군구 & 사고유형메인 & 사고유형디테일 & 법규위반 & 사고내용 & 사망자수 & 중상자수 & 경상자수 & 부상신고자수 & 가해운전자.차종 & 가해운전자.연령대 & 가해운전자.성별 & 피해운전자.차종 & 피해운전자.연령대 & 피해운전자.성별 & gid\\\\\n",
       "  & <fct> & <fct> & <chr> & <chr> & <fct> & <fct> & <int> & <int> & <int> & <int> & <fct> & <fct> & <fct> & <fct> & <fct> & <fct> & <fct>\\\\\n",
       "\\hline\n",
       "\t1 & 2017-01-01 & 대전광역시 서구 용문동 & 차대차  &  측면충돌 & 안전운전불이행 & 중상사고 & 0 & 1 & 1 & 0 & 승용 & 50대 & 남 & 승용 & 60대 & 남 & 다바905151\\\\\n",
       "\t2 & 2017-01-01 & 대전광역시 서구 탄방동 & 차대차  &  추돌     & 안전운전불이행 & 경상사고 & 0 & 0 & 1 & 0 & 승용 & 50대 & 남 & 승용 & 30대 & 남 & 다바905166\\\\\n",
       "\\end{tabular}\n"
      ],
      "text/markdown": [
       "\n",
       "A data.frame: 2 × 17\n",
       "\n",
       "| <!--/--> | 사고일 &lt;fct&gt; | 시군구 &lt;fct&gt; | 사고유형메인 &lt;chr&gt; | 사고유형디테일 &lt;chr&gt; | 법규위반 &lt;fct&gt; | 사고내용 &lt;fct&gt; | 사망자수 &lt;int&gt; | 중상자수 &lt;int&gt; | 경상자수 &lt;int&gt; | 부상신고자수 &lt;int&gt; | 가해운전자.차종 &lt;fct&gt; | 가해운전자.연령대 &lt;fct&gt; | 가해운전자.성별 &lt;fct&gt; | 피해운전자.차종 &lt;fct&gt; | 피해운전자.연령대 &lt;fct&gt; | 피해운전자.성별 &lt;fct&gt; | gid &lt;fct&gt; |\n",
       "|---|---|---|---|---|---|---|---|---|---|---|---|---|---|---|---|---|---|\n",
       "| 1 | 2017-01-01 | 대전광역시 서구 용문동 | 차대차  |  측면충돌 | 안전운전불이행 | 중상사고 | 0 | 1 | 1 | 0 | 승용 | 50대 | 남 | 승용 | 60대 | 남 | 다바905151 |\n",
       "| 2 | 2017-01-01 | 대전광역시 서구 탄방동 | 차대차  |  추돌     | 안전운전불이행 | 경상사고 | 0 | 0 | 1 | 0 | 승용 | 50대 | 남 | 승용 | 30대 | 남 | 다바905166 |\n",
       "\n"
      ],
      "text/plain": [
       "  사고일     시군구                 사고유형메인 사고유형디테일 법규위반      \n",
       "1 2017-01-01 대전광역시 서구 용문동 차대차        측면충돌      안전운전불이행\n",
       "2 2017-01-01 대전광역시 서구 탄방동 차대차        추돌          안전운전불이행\n",
       "  사고내용 사망자수 중상자수 경상자수 부상신고자수 가해운전자.차종\n",
       "1 중상사고 0        1        1        0            승용           \n",
       "2 경상사고 0        0        1        0            승용           \n",
       "  가해운전자.연령대 가해운전자.성별 피해운전자.차종 피해운전자.연령대\n",
       "1 50대              남              승용            60대             \n",
       "2 50대              남              승용            30대             \n",
       "  피해운전자.성별 gid       \n",
       "1 남              다바905151\n",
       "2 남              다바905166"
      ]
     },
     "metadata": {},
     "output_type": "display_data"
    }
   ],
   "source": [
    "accident_list <- read.csv('1.대전광역시_교통사고내역(2017~2019).csv')\n",
    "accident_list_sep <- accident_list %>% separate('사고유형', sep='-', into=c('사고유형메인', '사고유형디테일')) # 사고유형 변수를 종류와 디테일로 나누기\n",
    "dim(accident_list_sep)\n",
    "accident_list_sep %>% head(2)"
   ]
  },
  {
   "cell_type": "code",
   "execution_count": 4,
   "id": "persistent-fitting",
   "metadata": {},
   "outputs": [
    {
     "name": "stderr",
     "output_type": "stream",
     "text": [
      "`summarise()` regrouping output by '사고유형메인', '피해운전자.연령대' (override with `.groups` argument)\n",
      "\n"
     ]
    },
    {
     "data": {
      "text/html": [
       "<style>\n",
       ".list-inline {list-style: none; margin:0; padding: 0}\n",
       ".list-inline>li {display: inline-block}\n",
       ".list-inline>li:not(:last-child)::after {content: \"\\00b7\"; padding: 0 .5ex}\n",
       "</style>\n",
       "<ol class=list-inline><li>15767</li><li>4</li></ol>\n"
      ],
      "text/latex": [
       "\\begin{enumerate*}\n",
       "\\item 15767\n",
       "\\item 4\n",
       "\\end{enumerate*}\n"
      ],
      "text/markdown": [
       "1. 15767\n",
       "2. 4\n",
       "\n",
       "\n"
      ],
      "text/plain": [
       "[1] 15767     4"
      ]
     },
     "metadata": {},
     "output_type": "display_data"
    },
    {
     "data": {
      "text/html": [
       "<table>\n",
       "<caption>A tibble: 2 × 4</caption>\n",
       "<thead>\n",
       "\t<tr><th scope=col>사고유형메인</th><th scope=col>피해운전자.연령대</th><th scope=col>gid</th><th scope=col>n</th></tr>\n",
       "\t<tr><th scope=col>&lt;chr&gt;</th><th scope=col>&lt;fct&gt;</th><th scope=col>&lt;fct&gt;</th><th scope=col>&lt;int&gt;</th></tr>\n",
       "</thead>\n",
       "<tbody>\n",
       "\t<tr><td>차대사람 </td><td>10대</td><td>다바823162</td><td>1</td></tr>\n",
       "\t<tr><td>차대사람 </td><td>10대</td><td>다바827180</td><td>1</td></tr>\n",
       "</tbody>\n",
       "</table>\n"
      ],
      "text/latex": [
       "A tibble: 2 × 4\n",
       "\\begin{tabular}{llll}\n",
       " 사고유형메인 & 피해운전자.연령대 & gid & n\\\\\n",
       " <chr> & <fct> & <fct> & <int>\\\\\n",
       "\\hline\n",
       "\t 차대사람  & 10대 & 다바823162 & 1\\\\\n",
       "\t 차대사람  & 10대 & 다바827180 & 1\\\\\n",
       "\\end{tabular}\n"
      ],
      "text/markdown": [
       "\n",
       "A tibble: 2 × 4\n",
       "\n",
       "| 사고유형메인 &lt;chr&gt; | 피해운전자.연령대 &lt;fct&gt; | gid &lt;fct&gt; | n &lt;int&gt; |\n",
       "|---|---|---|---|\n",
       "| 차대사람  | 10대 | 다바823162 | 1 |\n",
       "| 차대사람  | 10대 | 다바827180 | 1 |\n",
       "\n"
      ],
      "text/plain": [
       "  사고유형메인 피해운전자.연령대 gid        n\n",
       "1 차대사람     10대              다바823162 1\n",
       "2 차대사람     10대              다바827180 1"
      ]
     },
     "metadata": {},
     "output_type": "display_data"
    }
   ],
   "source": [
    "accident_list_sep %>%\n",
    "    group_by(사고유형메인, 피해운전자.연령대, gid) %>% # 사고유형과 연령대 변수에 대하여 격자별 개수 구하기\n",
    "        summarise(n=n()) %>% ungroup() -> acci_list\n",
    "dim(acci_list)\n",
    "acci_list %>% head(2)"
   ]
  },
  {
   "cell_type": "code",
   "execution_count": 5,
   "id": "personalized-physics",
   "metadata": {},
   "outputs": [
    {
     "data": {
      "text/html": [
       "<style>\n",
       ".list-inline {list-style: none; margin:0; padding: 0}\n",
       ".list-inline>li {display: inline-block}\n",
       ".list-inline>li:not(:last-child)::after {content: \"\\00b7\"; padding: 0 .5ex}\n",
       "</style>\n",
       "<ol class=list-inline><li>15145</li><li>4</li></ol>\n"
      ],
      "text/latex": [
       "\\begin{enumerate*}\n",
       "\\item 15145\n",
       "\\item 4\n",
       "\\end{enumerate*}\n"
      ],
      "text/markdown": [
       "1. 15145\n",
       "2. 4\n",
       "\n",
       "\n"
      ],
      "text/plain": [
       "[1] 15145     4"
      ]
     },
     "metadata": {},
     "output_type": "display_data"
    },
    {
     "data": {
      "text/html": [
       "<table>\n",
       "<caption>A tibble: 2 × 4</caption>\n",
       "<thead>\n",
       "\t<tr><th scope=col>사고유형메인</th><th scope=col>피해운전자.연령대</th><th scope=col>gid</th><th scope=col>n</th></tr>\n",
       "\t<tr><th scope=col>&lt;chr&gt;</th><th scope=col>&lt;fct&gt;</th><th scope=col>&lt;fct&gt;</th><th scope=col>&lt;int&gt;</th></tr>\n",
       "</thead>\n",
       "<tbody>\n",
       "\t<tr><td>차대사람 </td><td>10대</td><td>다바823162</td><td>1</td></tr>\n",
       "\t<tr><td>차대사람 </td><td>10대</td><td>다바827180</td><td>1</td></tr>\n",
       "</tbody>\n",
       "</table>\n"
      ],
      "text/latex": [
       "A tibble: 2 × 4\n",
       "\\begin{tabular}{llll}\n",
       " 사고유형메인 & 피해운전자.연령대 & gid & n\\\\\n",
       " <chr> & <fct> & <fct> & <int>\\\\\n",
       "\\hline\n",
       "\t 차대사람  & 10대 & 다바823162 & 1\\\\\n",
       "\t 차대사람  & 10대 & 다바827180 & 1\\\\\n",
       "\\end{tabular}\n"
      ],
      "text/markdown": [
       "\n",
       "A tibble: 2 × 4\n",
       "\n",
       "| 사고유형메인 &lt;chr&gt; | 피해운전자.연령대 &lt;fct&gt; | gid &lt;fct&gt; | n &lt;int&gt; |\n",
       "|---|---|---|---|\n",
       "| 차대사람  | 10대 | 다바823162 | 1 |\n",
       "| 차대사람  | 10대 | 다바827180 | 1 |\n",
       "\n"
      ],
      "text/plain": [
       "  사고유형메인 피해운전자.연령대 gid        n\n",
       "1 차대사람     10대              다바823162 1\n",
       "2 차대사람     10대              다바827180 1"
      ]
     },
     "metadata": {},
     "output_type": "display_data"
    }
   ],
   "source": [
    "acci_list <- acci_list %>% filter(사고유형메인 %in% c('차대사람 ', '차대차 ')) # 차대사람과 차대차에 해당하는 값만 추리기(차량단독 제외)\n",
    "dim(acci_list)\n",
    "acci_list %>% head(2)"
   ]
  },
  {
   "cell_type": "code",
   "execution_count": 6,
   "id": "difficult-expert",
   "metadata": {},
   "outputs": [
    {
     "data": {
      "text/html": [
       "<style>\n",
       ".list-inline {list-style: none; margin:0; padding: 0}\n",
       ".list-inline>li {display: inline-block}\n",
       ".list-inline>li:not(:last-child)::after {content: \"\\00b7\"; padding: 0 .5ex}\n",
       "</style>\n",
       "<ol class=list-inline><li>15110</li><li>4</li></ol>\n"
      ],
      "text/latex": [
       "\\begin{enumerate*}\n",
       "\\item 15110\n",
       "\\item 4\n",
       "\\end{enumerate*}\n"
      ],
      "text/markdown": [
       "1. 15110\n",
       "2. 4\n",
       "\n",
       "\n"
      ],
      "text/plain": [
       "[1] 15110     4"
      ]
     },
     "metadata": {},
     "output_type": "display_data"
    },
    {
     "data": {
      "text/html": [
       "<table>\n",
       "<caption>A tibble: 2 × 4</caption>\n",
       "<thead>\n",
       "\t<tr><th scope=col>사고유형메인</th><th scope=col>피해운전자.연령대</th><th scope=col>gid</th><th scope=col>n</th></tr>\n",
       "\t<tr><th scope=col>&lt;chr&gt;</th><th scope=col>&lt;chr&gt;</th><th scope=col>&lt;fct&gt;</th><th scope=col>&lt;int&gt;</th></tr>\n",
       "</thead>\n",
       "<tbody>\n",
       "\t<tr><td>차대사람 </td><td>20대 미만</td><td>다바823162</td><td>1</td></tr>\n",
       "\t<tr><td>차대사람 </td><td>20대 미만</td><td>다바827180</td><td>1</td></tr>\n",
       "</tbody>\n",
       "</table>\n"
      ],
      "text/latex": [
       "A tibble: 2 × 4\n",
       "\\begin{tabular}{llll}\n",
       " 사고유형메인 & 피해운전자.연령대 & gid & n\\\\\n",
       " <chr> & <chr> & <fct> & <int>\\\\\n",
       "\\hline\n",
       "\t 차대사람  & 20대 미만 & 다바823162 & 1\\\\\n",
       "\t 차대사람  & 20대 미만 & 다바827180 & 1\\\\\n",
       "\\end{tabular}\n"
      ],
      "text/markdown": [
       "\n",
       "A tibble: 2 × 4\n",
       "\n",
       "| 사고유형메인 &lt;chr&gt; | 피해운전자.연령대 &lt;chr&gt; | gid &lt;fct&gt; | n &lt;int&gt; |\n",
       "|---|---|---|---|\n",
       "| 차대사람  | 20대 미만 | 다바823162 | 1 |\n",
       "| 차대사람  | 20대 미만 | 다바827180 | 1 |\n",
       "\n"
      ],
      "text/plain": [
       "  사고유형메인 피해운전자.연령대 gid        n\n",
       "1 차대사람     20대 미만         다바823162 1\n",
       "2 차대사람     20대 미만         다바827180 1"
      ]
     },
     "metadata": {},
     "output_type": "display_data"
    }
   ],
   "source": [
    "# 피해자의 연령대는 미분류된 것을 제외하고, 20대 미만부터 60대 이상까지의 범주로 재정의\n",
    "acci_list <- acci_list %>% filter(피해운전자.연령대 != '미분류') \n",
    "acci_list$피해운전자.연령대 <- as.character(acci_list$피해운전자.연령대)\n",
    "acci_list$피해운전자.연령대 <- ifelse(acci_list$피해운전자.연령대 %in% c('60대', '70대', '80대', '90대'), '60대 이상', acci_list$피해운전자.연령대)\n",
    "acci_list$피해운전자.연령대 <- ifelse(acci_list$피해운전자.연령대 %in% c('10대', '10대미만'), '20대 미만', acci_list$피해운전자.연령대)\n",
    "dim(acci_list)\n",
    "acci_list %>% head(2)"
   ]
  },
  {
   "cell_type": "code",
   "execution_count": 7,
   "id": "weighted-chemistry",
   "metadata": {},
   "outputs": [
    {
     "data": {
      "text/html": [
       "<style>\n",
       ".list-inline {list-style: none; margin:0; padding: 0}\n",
       ".list-inline>li {display: inline-block}\n",
       ".list-inline>li:not(:last-child)::after {content: \"\\00b7\"; padding: 0 .5ex}\n",
       "</style>\n",
       "<ol class=list-inline><li>15110</li><li>3</li></ol>\n"
      ],
      "text/latex": [
       "\\begin{enumerate*}\n",
       "\\item 15110\n",
       "\\item 3\n",
       "\\end{enumerate*}\n"
      ],
      "text/markdown": [
       "1. 15110\n",
       "2. 3\n",
       "\n",
       "\n"
      ],
      "text/plain": [
       "[1] 15110     3"
      ]
     },
     "metadata": {},
     "output_type": "display_data"
    },
    {
     "data": {
      "text/html": [
       "<table>\n",
       "<caption>A tibble: 3 × 3</caption>\n",
       "<thead>\n",
       "\t<tr><th scope=col>사고유형</th><th scope=col>gid</th><th scope=col>n</th></tr>\n",
       "\t<tr><th scope=col>&lt;chr&gt;</th><th scope=col>&lt;fct&gt;</th><th scope=col>&lt;int&gt;</th></tr>\n",
       "</thead>\n",
       "<tbody>\n",
       "\t<tr><td>차대사람 -20대 미만</td><td>다바823162</td><td>1</td></tr>\n",
       "\t<tr><td>차대사람 -20대 미만</td><td>다바827180</td><td>1</td></tr>\n",
       "\t<tr><td>차대사람 -20대 미만</td><td>다바828179</td><td>1</td></tr>\n",
       "</tbody>\n",
       "</table>\n"
      ],
      "text/latex": [
       "A tibble: 3 × 3\n",
       "\\begin{tabular}{lll}\n",
       " 사고유형 & gid & n\\\\\n",
       " <chr> & <fct> & <int>\\\\\n",
       "\\hline\n",
       "\t 차대사람 -20대 미만 & 다바823162 & 1\\\\\n",
       "\t 차대사람 -20대 미만 & 다바827180 & 1\\\\\n",
       "\t 차대사람 -20대 미만 & 다바828179 & 1\\\\\n",
       "\\end{tabular}\n"
      ],
      "text/markdown": [
       "\n",
       "A tibble: 3 × 3\n",
       "\n",
       "| 사고유형 &lt;chr&gt; | gid &lt;fct&gt; | n &lt;int&gt; |\n",
       "|---|---|---|\n",
       "| 차대사람 -20대 미만 | 다바823162 | 1 |\n",
       "| 차대사람 -20대 미만 | 다바827180 | 1 |\n",
       "| 차대사람 -20대 미만 | 다바828179 | 1 |\n",
       "\n"
      ],
      "text/plain": [
       "  사고유형            gid        n\n",
       "1 차대사람 -20대 미만 다바823162 1\n",
       "2 차대사람 -20대 미만 다바827180 1\n",
       "3 차대사람 -20대 미만 다바828179 1"
      ]
     },
     "metadata": {},
     "output_type": "display_data"
    }
   ],
   "source": [
    "acci_list <- acci_list %>% unite(사고유형, 사고유형메인, 피해운전자.연령대, sep=\"-\") # 사고유형과 연령대를 묶어주기\n",
    "dim(acci_list)\n",
    "acci_list %>% head(3)"
   ]
  },
  {
   "cell_type": "code",
   "execution_count": 8,
   "id": "norwegian-instruction",
   "metadata": {},
   "outputs": [
    {
     "name": "stderr",
     "output_type": "stream",
     "text": [
      "`summarise()` regrouping output by 'gid' (override with `.groups` argument)\n",
      "\n"
     ]
    },
    {
     "data": {
      "text/html": [
       "<style>\n",
       ".list-inline {list-style: none; margin:0; padding: 0}\n",
       ".list-inline>li {display: inline-block}\n",
       ".list-inline>li:not(:last-child)::after {content: \"\\00b7\"; padding: 0 .5ex}\n",
       "</style>\n",
       "<ol class=list-inline><li>14626</li><li>3</li></ol>\n"
      ],
      "text/latex": [
       "\\begin{enumerate*}\n",
       "\\item 14626\n",
       "\\item 3\n",
       "\\end{enumerate*}\n"
      ],
      "text/markdown": [
       "1. 14626\n",
       "2. 3\n",
       "\n",
       "\n"
      ],
      "text/plain": [
       "[1] 14626     3"
      ]
     },
     "metadata": {},
     "output_type": "display_data"
    },
    {
     "data": {
      "text/html": [
       "<table>\n",
       "<caption>A tibble: 3 × 3</caption>\n",
       "<thead>\n",
       "\t<tr><th scope=col>gid</th><th scope=col>사고유형</th><th scope=col>n</th></tr>\n",
       "\t<tr><th scope=col>&lt;fct&gt;</th><th scope=col>&lt;chr&gt;</th><th scope=col>&lt;int&gt;</th></tr>\n",
       "</thead>\n",
       "<tbody>\n",
       "\t<tr><td>다바780093</td><td>차대차 -50대</td><td>1</td></tr>\n",
       "\t<tr><td>다바781090</td><td>차대차 -50대</td><td>1</td></tr>\n",
       "\t<tr><td>다바781091</td><td>차대차 -40대</td><td>1</td></tr>\n",
       "</tbody>\n",
       "</table>\n"
      ],
      "text/latex": [
       "A tibble: 3 × 3\n",
       "\\begin{tabular}{lll}\n",
       " gid & 사고유형 & n\\\\\n",
       " <fct> & <chr> & <int>\\\\\n",
       "\\hline\n",
       "\t 다바780093 & 차대차 -50대 & 1\\\\\n",
       "\t 다바781090 & 차대차 -50대 & 1\\\\\n",
       "\t 다바781091 & 차대차 -40대 & 1\\\\\n",
       "\\end{tabular}\n"
      ],
      "text/markdown": [
       "\n",
       "A tibble: 3 × 3\n",
       "\n",
       "| gid &lt;fct&gt; | 사고유형 &lt;chr&gt; | n &lt;int&gt; |\n",
       "|---|---|---|\n",
       "| 다바780093 | 차대차 -50대 | 1 |\n",
       "| 다바781090 | 차대차 -50대 | 1 |\n",
       "| 다바781091 | 차대차 -40대 | 1 |\n",
       "\n"
      ],
      "text/plain": [
       "  gid        사고유형     n\n",
       "1 다바780093 차대차 -50대 1\n",
       "2 다바781090 차대차 -50대 1\n",
       "3 다바781091 차대차 -40대 1"
      ]
     },
     "metadata": {},
     "output_type": "display_data"
    }
   ],
   "source": [
    "acci_list %>%\n",
    "    group_by(gid, 사고유형) %>% # 격자와 사고유형에 따라서 개수를 구하기\n",
    "        summarise(n=sum(n)) %>%\n",
    "            ungroup() -> acci_group\n",
    "dim(acci_group)\n",
    "acci_group %>% head(3)"
   ]
  },
  {
   "cell_type": "code",
   "execution_count": 9,
   "id": "elect-aruba",
   "metadata": {},
   "outputs": [
    {
     "data": {
      "text/html": [
       "<style>\n",
       ".list-inline {list-style: none; margin:0; padding: 0}\n",
       ".list-inline>li {display: inline-block}\n",
       ".list-inline>li:not(:last-child)::after {content: \"\\00b7\"; padding: 0 .5ex}\n",
       "</style>\n",
       "<ol class=list-inline><li>5915</li><li>13</li></ol>\n"
      ],
      "text/latex": [
       "\\begin{enumerate*}\n",
       "\\item 5915\n",
       "\\item 13\n",
       "\\end{enumerate*}\n"
      ],
      "text/markdown": [
       "1. 5915\n",
       "2. 13\n",
       "\n",
       "\n"
      ],
      "text/plain": [
       "[1] 5915   13"
      ]
     },
     "metadata": {},
     "output_type": "display_data"
    },
    {
     "data": {
      "text/html": [
       "<table>\n",
       "<caption>A tibble: 2 × 13</caption>\n",
       "<thead>\n",
       "\t<tr><th scope=col>gid</th><th scope=col>차대사람 -20대</th><th scope=col>차대사람 -20대 미만</th><th scope=col>차대사람 -30대</th><th scope=col>차대사람 -40대</th><th scope=col>차대사람 -50대</th><th scope=col>차대사람 -60대 이상</th><th scope=col>차대차 -20대</th><th scope=col>차대차 -20대 미만</th><th scope=col>차대차 -30대</th><th scope=col>차대차 -40대</th><th scope=col>차대차 -50대</th><th scope=col>차대차 -60대 이상</th></tr>\n",
       "\t<tr><th scope=col>&lt;fct&gt;</th><th scope=col>&lt;dbl&gt;</th><th scope=col>&lt;dbl&gt;</th><th scope=col>&lt;dbl&gt;</th><th scope=col>&lt;dbl&gt;</th><th scope=col>&lt;dbl&gt;</th><th scope=col>&lt;dbl&gt;</th><th scope=col>&lt;dbl&gt;</th><th scope=col>&lt;dbl&gt;</th><th scope=col>&lt;dbl&gt;</th><th scope=col>&lt;dbl&gt;</th><th scope=col>&lt;dbl&gt;</th><th scope=col>&lt;dbl&gt;</th></tr>\n",
       "</thead>\n",
       "<tbody>\n",
       "\t<tr><td>다바780093</td><td>0</td><td>0</td><td>0</td><td>0</td><td>0</td><td>0</td><td>0</td><td>0</td><td>0</td><td>0</td><td>1</td><td>0</td></tr>\n",
       "\t<tr><td>다바781090</td><td>0</td><td>0</td><td>0</td><td>0</td><td>0</td><td>0</td><td>0</td><td>0</td><td>0</td><td>0</td><td>1</td><td>0</td></tr>\n",
       "</tbody>\n",
       "</table>\n"
      ],
      "text/latex": [
       "A tibble: 2 × 13\n",
       "\\begin{tabular}{lllllllllllll}\n",
       " gid & 차대사람 -20대 & 차대사람 -20대 미만 & 차대사람 -30대 & 차대사람 -40대 & 차대사람 -50대 & 차대사람 -60대 이상 & 차대차 -20대 & 차대차 -20대 미만 & 차대차 -30대 & 차대차 -40대 & 차대차 -50대 & 차대차 -60대 이상\\\\\n",
       " <fct> & <dbl> & <dbl> & <dbl> & <dbl> & <dbl> & <dbl> & <dbl> & <dbl> & <dbl> & <dbl> & <dbl> & <dbl>\\\\\n",
       "\\hline\n",
       "\t 다바780093 & 0 & 0 & 0 & 0 & 0 & 0 & 0 & 0 & 0 & 0 & 1 & 0\\\\\n",
       "\t 다바781090 & 0 & 0 & 0 & 0 & 0 & 0 & 0 & 0 & 0 & 0 & 1 & 0\\\\\n",
       "\\end{tabular}\n"
      ],
      "text/markdown": [
       "\n",
       "A tibble: 2 × 13\n",
       "\n",
       "| gid &lt;fct&gt; | 차대사람 -20대 &lt;dbl&gt; | 차대사람 -20대 미만 &lt;dbl&gt; | 차대사람 -30대 &lt;dbl&gt; | 차대사람 -40대 &lt;dbl&gt; | 차대사람 -50대 &lt;dbl&gt; | 차대사람 -60대 이상 &lt;dbl&gt; | 차대차 -20대 &lt;dbl&gt; | 차대차 -20대 미만 &lt;dbl&gt; | 차대차 -30대 &lt;dbl&gt; | 차대차 -40대 &lt;dbl&gt; | 차대차 -50대 &lt;dbl&gt; | 차대차 -60대 이상 &lt;dbl&gt; |\n",
       "|---|---|---|---|---|---|---|---|---|---|---|---|---|\n",
       "| 다바780093 | 0 | 0 | 0 | 0 | 0 | 0 | 0 | 0 | 0 | 0 | 1 | 0 |\n",
       "| 다바781090 | 0 | 0 | 0 | 0 | 0 | 0 | 0 | 0 | 0 | 0 | 1 | 0 |\n",
       "\n"
      ],
      "text/plain": [
       "  gid        차대사람 -20대 차대사람 -20대 미만 차대사람 -30대 차대사람 -40대\n",
       "1 다바780093 0              0                   0              0             \n",
       "2 다바781090 0              0                   0              0             \n",
       "  차대사람 -50대 차대사람 -60대 이상 차대차 -20대 차대차 -20대 미만\n",
       "1 0              0                   0            0                \n",
       "2 0              0                   0            0                \n",
       "  차대차 -30대 차대차 -40대 차대차 -50대 차대차 -60대 이상\n",
       "1 0            0            1            0                \n",
       "2 0            0            1            0                "
      ]
     },
     "metadata": {},
     "output_type": "display_data"
    }
   ],
   "source": [
    "acci_spread <- acci_group %>% spread(사고유형, n, fill=0) # 위 데이터의 행과 열을 바꿔주기\n",
    "dim(acci_spread)\n",
    "acci_spread %>% head(2)"
   ]
  },
  {
   "cell_type": "code",
   "execution_count": 10,
   "id": "alternate-today",
   "metadata": {},
   "outputs": [
    {
     "data": {
      "text/html": [
       "<style>\n",
       ".list-inline {list-style: none; margin:0; padding: 0}\n",
       ".list-inline>li {display: inline-block}\n",
       ".list-inline>li:not(:last-child)::after {content: \"\\00b7\"; padding: 0 .5ex}\n",
       "</style>\n",
       "<ol class=list-inline><li>5556</li><li>46</li></ol>\n"
      ],
      "text/latex": [
       "\\begin{enumerate*}\n",
       "\\item 5556\n",
       "\\item 46\n",
       "\\end{enumerate*}\n"
      ],
      "text/markdown": [
       "1. 5556\n",
       "2. 46\n",
       "\n",
       "\n"
      ],
      "text/plain": [
       "[1] 5556   46"
      ]
     },
     "metadata": {},
     "output_type": "display_data"
    },
    {
     "data": {
      "text/html": [
       "<table>\n",
       "<caption>A data.frame: 2 × 46</caption>\n",
       "<thead>\n",
       "\t<tr><th></th><th scope=col>X</th><th scope=col>gid</th><th scope=col>acci_cnt</th><th scope=col>geometry</th><th scope=col>사고건수</th><th scope=col>사상자수</th><th scope=col>x</th><th scope=col>y</th><th scope=col>신호등_보행자수</th><th scope=col>신호등_차량등수</th><th scope=col>⋯</th><th scope=col>차대사람 -30대</th><th scope=col>차대사람 -40대</th><th scope=col>차대사람 -50대</th><th scope=col>차대사람 -60대 이상</th><th scope=col>차대차 -20대</th><th scope=col>차대차 -20대 미만</th><th scope=col>차대차 -30대</th><th scope=col>차대차 -40대</th><th scope=col>차대차 -50대</th><th scope=col>차대차 -60대 이상</th></tr>\n",
       "\t<tr><th></th><th scope=col>&lt;int&gt;</th><th scope=col>&lt;fct&gt;</th><th scope=col>&lt;int&gt;</th><th scope=col>&lt;fct&gt;</th><th scope=col>&lt;int&gt;</th><th scope=col>&lt;int&gt;</th><th scope=col>&lt;dbl&gt;</th><th scope=col>&lt;dbl&gt;</th><th scope=col>&lt;dbl&gt;</th><th scope=col>&lt;dbl&gt;</th><th scope=col>⋯</th><th scope=col>&lt;dbl&gt;</th><th scope=col>&lt;dbl&gt;</th><th scope=col>&lt;dbl&gt;</th><th scope=col>&lt;dbl&gt;</th><th scope=col>&lt;dbl&gt;</th><th scope=col>&lt;dbl&gt;</th><th scope=col>&lt;dbl&gt;</th><th scope=col>&lt;dbl&gt;</th><th scope=col>&lt;dbl&gt;</th><th scope=col>&lt;dbl&gt;</th></tr>\n",
       "</thead>\n",
       "<tbody>\n",
       "\t<tr><th scope=row>1</th><td>0</td><td>다바931203</td><td>2</td><td>MULTIPOLYGON (((127.4230710131166 36.38013455218083, 127.4230701251944 36.38103608833949, 127.4241850500282 36.38103680113275, 127.424185925082 36.38013526495075, 127.4230710131166 36.38013455218083)))</td><td>2</td><td>2</td><td>127.4236</td><td>36.38059</td><td>1</td><td>3</td><td>⋯</td><td>0</td><td>0</td><td>0</td><td>1</td><td>0</td><td>0</td><td>0</td><td>1</td><td>0</td><td> 0</td></tr>\n",
       "\t<tr><th scope=row>2</th><td>1</td><td>다바861174</td><td>0</td><td>MULTIPOLYGON (((127.3450791441312 36.35391426501025, 127.3450773577309 36.35481580264442, 127.3461919054753 36.3548172424657, 127.346193679024 36.35391570478436, 127.3450791441312 36.35391426501025))) </td><td>0</td><td>0</td><td>127.3456</td><td>36.35437</td><td>0</td><td>0</td><td>⋯</td><td>0</td><td>0</td><td>0</td><td>0</td><td>0</td><td>0</td><td>0</td><td>0</td><td>0</td><td>NA</td></tr>\n",
       "</tbody>\n",
       "</table>\n"
      ],
      "text/latex": [
       "A data.frame: 2 × 46\n",
       "\\begin{tabular}{r|lllllllllllllllllllll}\n",
       "  & X & gid & acci\\_cnt & geometry & 사고건수 & 사상자수 & x & y & 신호등\\_보행자수 & 신호등\\_차량등수 & ⋯ & 차대사람 -30대 & 차대사람 -40대 & 차대사람 -50대 & 차대사람 -60대 이상 & 차대차 -20대 & 차대차 -20대 미만 & 차대차 -30대 & 차대차 -40대 & 차대차 -50대 & 차대차 -60대 이상\\\\\n",
       "  & <int> & <fct> & <int> & <fct> & <int> & <int> & <dbl> & <dbl> & <dbl> & <dbl> & ⋯ & <dbl> & <dbl> & <dbl> & <dbl> & <dbl> & <dbl> & <dbl> & <dbl> & <dbl> & <dbl>\\\\\n",
       "\\hline\n",
       "\t1 & 0 & 다바931203 & 2 & MULTIPOLYGON (((127.4230710131166 36.38013455218083, 127.4230701251944 36.38103608833949, 127.4241850500282 36.38103680113275, 127.424185925082 36.38013526495075, 127.4230710131166 36.38013455218083))) & 2 & 2 & 127.4236 & 36.38059 & 1 & 3 & ⋯ & 0 & 0 & 0 & 1 & 0 & 0 & 0 & 1 & 0 &  0\\\\\n",
       "\t2 & 1 & 다바861174 & 0 & MULTIPOLYGON (((127.3450791441312 36.35391426501025, 127.3450773577309 36.35481580264442, 127.3461919054753 36.3548172424657, 127.346193679024 36.35391570478436, 127.3450791441312 36.35391426501025)))  & 0 & 0 & 127.3456 & 36.35437 & 0 & 0 & ⋯ & 0 & 0 & 0 & 0 & 0 & 0 & 0 & 0 & 0 & NA\\\\\n",
       "\\end{tabular}\n"
      ],
      "text/markdown": [
       "\n",
       "A data.frame: 2 × 46\n",
       "\n",
       "| <!--/--> | X &lt;int&gt; | gid &lt;fct&gt; | acci_cnt &lt;int&gt; | geometry &lt;fct&gt; | 사고건수 &lt;int&gt; | 사상자수 &lt;int&gt; | x &lt;dbl&gt; | y &lt;dbl&gt; | 신호등_보행자수 &lt;dbl&gt; | 신호등_차량등수 &lt;dbl&gt; | ⋯ ⋯ | 차대사람 -30대 &lt;dbl&gt; | 차대사람 -40대 &lt;dbl&gt; | 차대사람 -50대 &lt;dbl&gt; | 차대사람 -60대 이상 &lt;dbl&gt; | 차대차 -20대 &lt;dbl&gt; | 차대차 -20대 미만 &lt;dbl&gt; | 차대차 -30대 &lt;dbl&gt; | 차대차 -40대 &lt;dbl&gt; | 차대차 -50대 &lt;dbl&gt; | 차대차 -60대 이상 &lt;dbl&gt; |\n",
       "|---|---|---|---|---|---|---|---|---|---|---|---|---|---|---|---|---|---|---|---|---|---|\n",
       "| 1 | 0 | 다바931203 | 2 | MULTIPOLYGON (((127.4230710131166 36.38013455218083, 127.4230701251944 36.38103608833949, 127.4241850500282 36.38103680113275, 127.424185925082 36.38013526495075, 127.4230710131166 36.38013455218083))) | 2 | 2 | 127.4236 | 36.38059 | 1 | 3 | ⋯ | 0 | 0 | 0 | 1 | 0 | 0 | 0 | 1 | 0 |  0 |\n",
       "| 2 | 1 | 다바861174 | 0 | MULTIPOLYGON (((127.3450791441312 36.35391426501025, 127.3450773577309 36.35481580264442, 127.3461919054753 36.3548172424657, 127.346193679024 36.35391570478436, 127.3450791441312 36.35391426501025)))  | 0 | 0 | 127.3456 | 36.35437 | 0 | 0 | ⋯ | 0 | 0 | 0 | 0 | 0 | 0 | 0 | 0 | 0 | NA |\n",
       "\n"
      ],
      "text/plain": [
       "  X gid        acci_cnt\n",
       "1 0 다바931203 2       \n",
       "2 1 다바861174 0       \n",
       "  geometry                                                                                                                                                                                                 \n",
       "1 MULTIPOLYGON (((127.4230710131166 36.38013455218083, 127.4230701251944 36.38103608833949, 127.4241850500282 36.38103680113275, 127.424185925082 36.38013526495075, 127.4230710131166 36.38013455218083)))\n",
       "2 MULTIPOLYGON (((127.3450791441312 36.35391426501025, 127.3450773577309 36.35481580264442, 127.3461919054753 36.3548172424657, 127.346193679024 36.35391570478436, 127.3450791441312 36.35391426501025))) \n",
       "  사고건수 사상자수 x        y        신호등_보행자수 신호등_차량등수 ⋯\n",
       "1 2        2        127.4236 36.38059 1               3               ⋯\n",
       "2 0        0        127.3456 36.35437 0               0               ⋯\n",
       "  차대사람 -30대 차대사람 -40대 차대사람 -50대 차대사람 -60대 이상 차대차 -20대\n",
       "1 0              0              0              1                   0           \n",
       "2 0              0              0              0                   0           \n",
       "  차대차 -20대 미만 차대차 -30대 차대차 -40대 차대차 -50대 차대차 -60대 이상\n",
       "1 0                 0            1            0             0               \n",
       "2 0                 0            0            0            NA               "
      ]
     },
     "metadata": {},
     "output_type": "display_data"
    }
   ],
   "source": [
    "accident_count_filter_23 <- accident_count_filter_23 %>% left_join(acci_spread, by='gid') # 기존 데이터와 병합\n",
    "\n",
    "for(i in 34:45){\n",
    "    accident_count_filter_23[,names(accident_count_filter_23)[i] ] <- ifelse(is.na(accident_count_filter_23[,names(accident_count_filter_23)[i] ]), 0, accident_count_filter_23[,names(accident_count_filter_23)[i] ])\n",
    "}\n",
    "\n",
    "dim(accident_count_filter_23)\n",
    "accident_count_filter_23 %>% head(2)"
   ]
  },
  {
   "cell_type": "code",
   "execution_count": 11,
   "id": "hidden-uncertainty",
   "metadata": {},
   "outputs": [],
   "source": [
    "write.csv(accident_count_filter_23, 'accident_count_filter_24.csv')\n",
    "# 신호등(보행등), 신호등(차량등), cctv수, 혼잡빈도, 혼잡시간, 교통추정량, 날씨, 안전지대수, 중앙분리대수, 정차금지지대수\n",
    "# 도로속도표시수, 교통안전표지수, 노드개수, 횡단보도수, 건물면적, 자동차대수, 총거주인구수, 연령 및 사고유형에 따라 나눈 데이터까지 merge한 상태."
   ]
  }
 ],
 "metadata": {
  "kernelspec": {
   "display_name": "R",
   "language": "R",
   "name": "ir"
  },
  "language_info": {
   "codemirror_mode": "r",
   "file_extension": ".r",
   "mimetype": "text/x-r-source",
   "name": "R",
   "pygments_lexer": "r",
   "version": "3.6.0"
  }
 },
 "nbformat": 4,
 "nbformat_minor": 5
}
