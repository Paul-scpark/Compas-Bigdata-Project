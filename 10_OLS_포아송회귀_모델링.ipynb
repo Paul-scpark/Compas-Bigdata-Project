{
 "cells": [
  {
   "cell_type": "code",
   "execution_count": 1,
   "id": "worldwide-bullet",
   "metadata": {},
   "outputs": [
    {
     "name": "stderr",
     "output_type": "stream",
     "text": [
      "\n",
      "Attaching package: ‘dplyr’\n",
      "\n",
      "\n",
      "The following objects are masked from ‘package:stats’:\n",
      "\n",
      "    filter, lag\n",
      "\n",
      "\n",
      "The following objects are masked from ‘package:base’:\n",
      "\n",
      "    intersect, setdiff, setequal, union\n",
      "\n",
      "\n",
      "rgeos version: 0.5-3, (SVN revision 634)\n",
      " GEOS runtime version: 3.8.0-CAPI-1.13.1 \n",
      " Linking to sp version: 1.4-2 \n",
      " Polygon checking: TRUE \n",
      "\n",
      "\n",
      "\n",
      "Attaching package: ‘raster’\n",
      "\n",
      "\n",
      "The following object is masked from ‘package:dplyr’:\n",
      "\n",
      "    select\n",
      "\n",
      "\n",
      "Loading required package: spData\n",
      "\n",
      "To access larger datasets in this package, install the spDataLarge\n",
      "package with: `install.packages('spDataLarge',\n",
      "repos='https://nowosad.github.io/drat/', type='source')`\n",
      "\n",
      "Loading required package: sf\n",
      "\n",
      "Linking to GEOS 3.8.0, GDAL 3.1.2, PROJ 6.1.0\n",
      "\n",
      "NOTE: This package does not constitute approval of GWR\n",
      "as a method of spatial analysis; see example(gwr)\n",
      "\n",
      "Loading required package: maptools\n",
      "\n",
      "Checking rgeos availability: TRUE\n",
      "\n",
      "Loading required package: robustbase\n",
      "\n",
      "Loading required package: Rcpp\n",
      "\n",
      "Loading required package: spatialreg\n",
      "\n",
      "Loading required package: Matrix\n",
      "\n",
      "Registered S3 methods overwritten by 'spatialreg':\n",
      "  method                   from \n",
      "  residuals.stsls          spdep\n",
      "  deviance.stsls           spdep\n",
      "  coef.stsls               spdep\n",
      "  print.stsls              spdep\n",
      "  summary.stsls            spdep\n",
      "  print.summary.stsls      spdep\n",
      "  residuals.gmsar          spdep\n",
      "  deviance.gmsar           spdep\n",
      "  coef.gmsar               spdep\n",
      "  fitted.gmsar             spdep\n",
      "  print.gmsar              spdep\n",
      "  summary.gmsar            spdep\n",
      "  print.summary.gmsar      spdep\n",
      "  print.lagmess            spdep\n",
      "  summary.lagmess          spdep\n",
      "  print.summary.lagmess    spdep\n",
      "  residuals.lagmess        spdep\n",
      "  deviance.lagmess         spdep\n",
      "  coef.lagmess             spdep\n",
      "  fitted.lagmess           spdep\n",
      "  logLik.lagmess           spdep\n",
      "  fitted.SFResult          spdep\n",
      "  print.SFResult           spdep\n",
      "  fitted.ME_res            spdep\n",
      "  print.ME_res             spdep\n",
      "  print.lagImpact          spdep\n",
      "  plot.lagImpact           spdep\n",
      "  summary.lagImpact        spdep\n",
      "  HPDinterval.lagImpact    spdep\n",
      "  print.summary.lagImpact  spdep\n",
      "  print.sarlm              spdep\n",
      "  summary.sarlm            spdep\n",
      "  residuals.sarlm          spdep\n",
      "  deviance.sarlm           spdep\n",
      "  coef.sarlm               spdep\n",
      "  vcov.sarlm               spdep\n",
      "  fitted.sarlm             spdep\n",
      "  logLik.sarlm             spdep\n",
      "  anova.sarlm              spdep\n",
      "  predict.sarlm            spdep\n",
      "  print.summary.sarlm      spdep\n",
      "  print.sarlm.pred         spdep\n",
      "  as.data.frame.sarlm.pred spdep\n",
      "  residuals.spautolm       spdep\n",
      "  deviance.spautolm        spdep\n",
      "  coef.spautolm            spdep\n",
      "  fitted.spautolm          spdep\n",
      "  print.spautolm           spdep\n",
      "  summary.spautolm         spdep\n",
      "  logLik.spautolm          spdep\n",
      "  print.summary.spautolm   spdep\n",
      "  print.WXImpact           spdep\n",
      "  summary.WXImpact         spdep\n",
      "  print.summary.WXImpact   spdep\n",
      "  predict.SLX              spdep\n",
      "\n",
      "\n",
      "Attaching package: ‘spatialreg’\n",
      "\n",
      "\n",
      "The following objects are masked from ‘package:spdep’:\n",
      "\n",
      "    anova.sarlm, as_dgRMatrix_listw, as_dsCMatrix_I, as_dsCMatrix_IrW,\n",
      "    as_dsTMatrix_listw, as.spam.listw, bptest.sarlm, can.be.simmed,\n",
      "    cheb_setup, coef.gmsar, coef.sarlm, coef.spautolm, coef.stsls,\n",
      "    create_WX, deviance.gmsar, deviance.sarlm, deviance.spautolm,\n",
      "    deviance.stsls, do_ldet, eigen_pre_setup, eigen_setup, eigenw,\n",
      "    errorsarlm, fitted.gmsar, fitted.ME_res, fitted.sarlm,\n",
      "    fitted.SFResult, fitted.spautolm, get.ClusterOption,\n",
      "    get.coresOption, get.mcOption, get.VerboseOption,\n",
      "    get.ZeroPolicyOption, GMargminImage, GMerrorsar, griffith_sone,\n",
      "    gstsls, Hausman.test, HPDinterval.lagImpact, impacts, intImpacts,\n",
      "    Jacobian_W, jacobianSetup, l_max, lagmess, lagsarlm, lextrB,\n",
      "    lextrS, lextrW, lmSLX, logLik.sarlm, logLik.spautolm, LR.sarlm,\n",
      "    LR1.sarlm, LR1.spautolm, LU_prepermutate_setup, LU_setup,\n",
      "    Matrix_J_setup, Matrix_setup, mcdet_setup, MCMCsamp, ME, mom_calc,\n",
      "    mom_calc_int2, moments_setup, powerWeights, predict.sarlm,\n",
      "    predict.SLX, print.gmsar, print.ME_res, print.sarlm,\n",
      "    print.sarlm.pred, print.SFResult, print.spautolm, print.stsls,\n",
      "    print.summary.gmsar, print.summary.sarlm, print.summary.spautolm,\n",
      "    print.summary.stsls, residuals.gmsar, residuals.sarlm,\n",
      "    residuals.spautolm, residuals.stsls, sacsarlm, SE_classic_setup,\n",
      "    SE_interp_setup, SE_whichMin_setup, set.ClusterOption,\n",
      "    set.coresOption, set.mcOption, set.VerboseOption,\n",
      "    set.ZeroPolicyOption, similar.listw, spam_setup, spam_update_setup,\n",
      "    SpatialFiltering, spautolm, spBreg_err, spBreg_lag, spBreg_sac,\n",
      "    stsls, subgraph_eigenw, summary.gmsar, summary.sarlm,\n",
      "    summary.spautolm, summary.stsls, trW, vcov.sarlm, Wald1.sarlm\n",
      "\n",
      "\n",
      "Welcome to GWmodel version 2.2-3.\n",
      "The new version of GWmodel 2.2-4 now is ready\n",
      "\n",
      "\n",
      "Attaching package: ‘GWmodel’\n",
      "\n",
      "\n",
      "The following objects are masked from ‘package:stats’:\n",
      "\n",
      "    BIC, fitted\n",
      "\n",
      "\n",
      "Loading required package: bestglm\n",
      "\n",
      "Loading required package: leaps\n",
      "\n",
      "Loading required package: VGAM\n",
      "\n",
      "Loading required package: stats4\n",
      "\n",
      "Loading required package: splines\n",
      "\n",
      "\n",
      "Attaching package: ‘VGAM’\n",
      "\n",
      "\n",
      "The following object is masked from ‘package:GWmodel’:\n",
      "\n",
      "    AICc\n",
      "\n",
      "\n",
      "Loading required package: rpart\n",
      "\n",
      "Loading required package: randomForest\n",
      "\n",
      "randomForest 4.6-14\n",
      "\n",
      "Type rfNews() to see new features/changes/bug fixes.\n",
      "\n",
      "\n",
      "Attaching package: ‘randomForest’\n",
      "\n",
      "\n",
      "The following object is masked from ‘package:dplyr’:\n",
      "\n",
      "    combine\n",
      "\n",
      "\n",
      "Important regclass change from 1.3:\n",
      "All functions that had a . in the name now have an _\n",
      "all.correlations -> all_correlations, cor.demo -> cor_demo, etc.\n",
      "\n",
      "\n",
      "\n",
      "Attaching package: ‘regclass’\n",
      "\n",
      "\n",
      "The following object is masked from ‘package:raster’:\n",
      "\n",
      "    mosaic\n",
      "\n",
      "\n",
      "\n",
      "Attaching package: ‘ggplot2’\n",
      "\n",
      "\n",
      "The following object is masked from ‘package:randomForest’:\n",
      "\n",
      "    margin\n",
      "\n",
      "\n",
      "Loading required package: zoo\n",
      "\n",
      "\n",
      "Attaching package: ‘zoo’\n",
      "\n",
      "\n",
      "The following objects are masked from ‘package:base’:\n",
      "\n",
      "    as.Date, as.Date.numeric\n",
      "\n",
      "\n",
      "\n",
      "Attaching package: ‘lmtest’\n",
      "\n",
      "\n",
      "The following object is masked from ‘package:VGAM’:\n",
      "\n",
      "    lrtest\n",
      "\n",
      "\n",
      "Registering fonts with R\n",
      "\n"
     ]
    }
   ],
   "source": [
    "# install.packages(\"sp\")\n",
    "# install.packages(\"rgdal\")\n",
    "# install.packages(\"rgeos\")\n",
    "# install.packages(\"tmap\")\n",
    "# install.packages(\"raster\")\n",
    "# install.packages(\"spdep\")\n",
    "# install.packages(\"gstat\")\n",
    "# install.packages(\"spgwr\")\n",
    "# install.packages(\"GWmodel\")\n",
    "# install.packages(\"regclass\")\n",
    "# install.packages(\"ggplot2\")\n",
    "# install.packages(\"ggcorrplot\")\n",
    "# install.packages(\"lmtest\")\n",
    "# install.packages(\"stringr\")\n",
    "# install.packages(\"leaflet\")\n",
    "# install.packages(\"extrafont\") \n",
    "\n",
    "library(sp)\n",
    "library(dplyr)\n",
    "library(stringr)\n",
    "library(rgeos)\n",
    "library(tmap)\n",
    "library(raster)\n",
    "library(spdep)\n",
    "library(gstat)\n",
    "library(spgwr)\n",
    "library(GWmodel)\n",
    "library(regclass)\n",
    "library(ggplot2)\n",
    "library(ggcorrplot)\n",
    "library(lmtest)\n",
    "library(leaflet)\n",
    "library(extrafont)"
   ]
  },
  {
   "cell_type": "markdown",
   "id": "persistent-stroke",
   "metadata": {},
   "source": [
    "## 현재까지 구축한 데이터 불러오기\n",
    "\n",
    "데이터의 양이 충분하지 않는 '중앙분리대수' 변수는 제외하기"
   ]
  },
  {
   "cell_type": "code",
   "execution_count": 2,
   "id": "important-aluminum",
   "metadata": {},
   "outputs": [
    {
     "data": {
      "text/html": [
       "<style>\n",
       ".list-inline {list-style: none; margin:0; padding: 0}\n",
       ".list-inline>li {display: inline-block}\n",
       ".list-inline>li:not(:last-child)::after {content: \"\\00b7\"; padding: 0 .5ex}\n",
       "</style>\n",
       "<ol class=list-inline><li>5556</li><li>48</li></ol>\n"
      ],
      "text/latex": [
       "\\begin{enumerate*}\n",
       "\\item 5556\n",
       "\\item 48\n",
       "\\end{enumerate*}\n"
      ],
      "text/markdown": [
       "1. 5556\n",
       "2. 48\n",
       "\n",
       "\n"
      ],
      "text/plain": [
       "[1] 5556   48"
      ]
     },
     "metadata": {},
     "output_type": "display_data"
    },
    {
     "data": {
      "text/html": [
       "<table>\n",
       "<caption>A data.frame: 1 × 48</caption>\n",
       "<thead>\n",
       "\t<tr><th></th><th scope=col>X</th><th scope=col>gid</th><th scope=col>acci_cnt</th><th scope=col>geometry</th><th scope=col>사고건수</th><th scope=col>사상자수</th><th scope=col>x</th><th scope=col>y</th><th scope=col>신호등_보행자수</th><th scope=col>신호등_차량등수</th><th scope=col>⋯</th><th scope=col>차대사람..60대.이상</th><th scope=col>차대차..20대</th><th scope=col>차대차..20대.미만</th><th scope=col>차대차..30대</th><th scope=col>차대차..40대</th><th scope=col>차대차..50대</th><th scope=col>차대차..60대.이상</th><th scope=col>사망자수</th><th scope=col>경상자수</th><th scope=col>중상자수</th></tr>\n",
       "\t<tr><th></th><th scope=col>&lt;int&gt;</th><th scope=col>&lt;fct&gt;</th><th scope=col>&lt;int&gt;</th><th scope=col>&lt;fct&gt;</th><th scope=col>&lt;int&gt;</th><th scope=col>&lt;int&gt;</th><th scope=col>&lt;dbl&gt;</th><th scope=col>&lt;dbl&gt;</th><th scope=col>&lt;int&gt;</th><th scope=col>&lt;int&gt;</th><th scope=col>⋯</th><th scope=col>&lt;int&gt;</th><th scope=col>&lt;int&gt;</th><th scope=col>&lt;int&gt;</th><th scope=col>&lt;int&gt;</th><th scope=col>&lt;int&gt;</th><th scope=col>&lt;int&gt;</th><th scope=col>&lt;dbl&gt;</th><th scope=col>&lt;dbl&gt;</th><th scope=col>&lt;dbl&gt;</th><th scope=col>&lt;dbl&gt;</th></tr>\n",
       "</thead>\n",
       "<tbody>\n",
       "\t<tr><th scope=row>1</th><td>0</td><td>다바931203</td><td>2</td><td>MULTIPOLYGON (((127.4230710131166 36.38013455218083, 127.4230701251944 36.38103608833949, 127.4241850500282 36.38103680113275, 127.424185925082 36.38013526495075, 127.4230710131166 36.38013455218083)))</td><td>2</td><td>2</td><td>127.4236</td><td>36.38059</td><td>1</td><td>3</td><td>⋯</td><td>1</td><td>0</td><td>0</td><td>0</td><td>1</td><td>0</td><td>0</td><td>0</td><td>1</td><td>1</td></tr>\n",
       "</tbody>\n",
       "</table>\n"
      ],
      "text/latex": [
       "A data.frame: 1 × 48\n",
       "\\begin{tabular}{r|lllllllllllllllllllll}\n",
       "  & X & gid & acci\\_cnt & geometry & 사고건수 & 사상자수 & x & y & 신호등\\_보행자수 & 신호등\\_차량등수 & ⋯ & 차대사람..60대.이상 & 차대차..20대 & 차대차..20대.미만 & 차대차..30대 & 차대차..40대 & 차대차..50대 & 차대차..60대.이상 & 사망자수 & 경상자수 & 중상자수\\\\\n",
       "  & <int> & <fct> & <int> & <fct> & <int> & <int> & <dbl> & <dbl> & <int> & <int> & ⋯ & <int> & <int> & <int> & <int> & <int> & <int> & <dbl> & <dbl> & <dbl> & <dbl>\\\\\n",
       "\\hline\n",
       "\t1 & 0 & 다바931203 & 2 & MULTIPOLYGON (((127.4230710131166 36.38013455218083, 127.4230701251944 36.38103608833949, 127.4241850500282 36.38103680113275, 127.424185925082 36.38013526495075, 127.4230710131166 36.38013455218083))) & 2 & 2 & 127.4236 & 36.38059 & 1 & 3 & ⋯ & 1 & 0 & 0 & 0 & 1 & 0 & 0 & 0 & 1 & 1\\\\\n",
       "\\end{tabular}\n"
      ],
      "text/markdown": [
       "\n",
       "A data.frame: 1 × 48\n",
       "\n",
       "| <!--/--> | X &lt;int&gt; | gid &lt;fct&gt; | acci_cnt &lt;int&gt; | geometry &lt;fct&gt; | 사고건수 &lt;int&gt; | 사상자수 &lt;int&gt; | x &lt;dbl&gt; | y &lt;dbl&gt; | 신호등_보행자수 &lt;int&gt; | 신호등_차량등수 &lt;int&gt; | ⋯ ⋯ | 차대사람..60대.이상 &lt;int&gt; | 차대차..20대 &lt;int&gt; | 차대차..20대.미만 &lt;int&gt; | 차대차..30대 &lt;int&gt; | 차대차..40대 &lt;int&gt; | 차대차..50대 &lt;int&gt; | 차대차..60대.이상 &lt;dbl&gt; | 사망자수 &lt;dbl&gt; | 경상자수 &lt;dbl&gt; | 중상자수 &lt;dbl&gt; |\n",
       "|---|---|---|---|---|---|---|---|---|---|---|---|---|---|---|---|---|---|---|---|---|---|\n",
       "| 1 | 0 | 다바931203 | 2 | MULTIPOLYGON (((127.4230710131166 36.38013455218083, 127.4230701251944 36.38103608833949, 127.4241850500282 36.38103680113275, 127.424185925082 36.38013526495075, 127.4230710131166 36.38013455218083))) | 2 | 2 | 127.4236 | 36.38059 | 1 | 3 | ⋯ | 1 | 0 | 0 | 0 | 1 | 0 | 0 | 0 | 1 | 1 |\n",
       "\n"
      ],
      "text/plain": [
       "  X gid        acci_cnt\n",
       "1 0 다바931203 2       \n",
       "  geometry                                                                                                                                                                                                 \n",
       "1 MULTIPOLYGON (((127.4230710131166 36.38013455218083, 127.4230701251944 36.38103608833949, 127.4241850500282 36.38103680113275, 127.424185925082 36.38013526495075, 127.4230710131166 36.38013455218083)))\n",
       "  사고건수 사상자수 x        y        신호등_보행자수 신호등_차량등수 ⋯\n",
       "1 2        2        127.4236 36.38059 1               3               ⋯\n",
       "  차대사람..60대.이상 차대차..20대 차대차..20대.미만 차대차..30대 차대차..40대\n",
       "1 1                   0            0                 0            1           \n",
       "  차대차..50대 차대차..60대.이상 사망자수 경상자수 중상자수\n",
       "1 0            0                 0        1        1       "
      ]
     },
     "metadata": {},
     "output_type": "display_data"
    }
   ],
   "source": [
    "acci_count_filter25 <- read.csv(\"accident_count_filter_25.csv\" ) %>% dplyr::select(-중앙분리대수)\n",
    "dim(acci_count_filter25)\n",
    "acci_count_filter25 %>% head(1)"
   ]
  },
  {
   "cell_type": "code",
   "execution_count": 3,
   "id": "headed-settlement",
   "metadata": {},
   "outputs": [
    {
     "data": {
      "text/html": [
       "<style>\n",
       ".list-inline {list-style: none; margin:0; padding: 0}\n",
       ".list-inline>li {display: inline-block}\n",
       ".list-inline>li:not(:last-child)::after {content: \"\\00b7\"; padding: 0 .5ex}\n",
       "</style>\n",
       "<ol class=list-inline><li>'X'</li><li>'gid'</li><li>'acci_cnt'</li><li>'geometry'</li><li>'사고건수'</li><li>'사상자수'</li><li>'x'</li><li>'y'</li><li>'신호등_보행자수'</li><li>'신호등_차량등수'</li><li>'cctv수'</li><li>'혼잡빈도강도'</li><li>'혼잡시간강도'</li><li>'전체_추정교통량'</li><li>'이상평균기온동반사고건수'</li><li>'이상최저온도동반사고건수'</li><li>'이상최고온도동반사고건수'</li><li>'이상최대풍속동반사고건수'</li><li>'이상평균풍속동반사고건수'</li><li>'이상평균습도동반사고건수'</li><li>'이상평균지면온도동반사고건수'</li><li>'이상강수량동반사고건수'</li><li>'이상적설량동반사고건수'</li><li>'이상안개시간동반사고건수'</li><li>'안전지대수'</li><li>'정차금지지대수'</li><li>'도로속도표시수'</li><li>'교통안전표지수'</li><li>'노드개수'</li><li>'횡단보도수'</li><li>'건물면적'</li><li>'자동차대수'</li><li>'총거주인구수'</li><li>'차대사람..20대'</li><li>'차대사람..20대.미만'</li><li>'차대사람..30대'</li><li>'차대사람..40대'</li><li>'차대사람..50대'</li><li>'차대사람..60대.이상'</li><li>'차대차..20대'</li><li>'차대차..20대.미만'</li><li>'차대차..30대'</li><li>'차대차..40대'</li><li>'차대차..50대'</li><li>'차대차..60대.이상'</li><li>'사망자수'</li><li>'경상자수'</li><li>'중상자수'</li></ol>\n"
      ],
      "text/latex": [
       "\\begin{enumerate*}\n",
       "\\item 'X'\n",
       "\\item 'gid'\n",
       "\\item 'acci\\_cnt'\n",
       "\\item 'geometry'\n",
       "\\item '사고건수'\n",
       "\\item '사상자수'\n",
       "\\item 'x'\n",
       "\\item 'y'\n",
       "\\item '신호등\\_보행자수'\n",
       "\\item '신호등\\_차량등수'\n",
       "\\item 'cctv수'\n",
       "\\item '혼잡빈도강도'\n",
       "\\item '혼잡시간강도'\n",
       "\\item '전체\\_추정교통량'\n",
       "\\item '이상평균기온동반사고건수'\n",
       "\\item '이상최저온도동반사고건수'\n",
       "\\item '이상최고온도동반사고건수'\n",
       "\\item '이상최대풍속동반사고건수'\n",
       "\\item '이상평균풍속동반사고건수'\n",
       "\\item '이상평균습도동반사고건수'\n",
       "\\item '이상평균지면온도동반사고건수'\n",
       "\\item '이상강수량동반사고건수'\n",
       "\\item '이상적설량동반사고건수'\n",
       "\\item '이상안개시간동반사고건수'\n",
       "\\item '안전지대수'\n",
       "\\item '정차금지지대수'\n",
       "\\item '도로속도표시수'\n",
       "\\item '교통안전표지수'\n",
       "\\item '노드개수'\n",
       "\\item '횡단보도수'\n",
       "\\item '건물면적'\n",
       "\\item '자동차대수'\n",
       "\\item '총거주인구수'\n",
       "\\item '차대사람..20대'\n",
       "\\item '차대사람..20대.미만'\n",
       "\\item '차대사람..30대'\n",
       "\\item '차대사람..40대'\n",
       "\\item '차대사람..50대'\n",
       "\\item '차대사람..60대.이상'\n",
       "\\item '차대차..20대'\n",
       "\\item '차대차..20대.미만'\n",
       "\\item '차대차..30대'\n",
       "\\item '차대차..40대'\n",
       "\\item '차대차..50대'\n",
       "\\item '차대차..60대.이상'\n",
       "\\item '사망자수'\n",
       "\\item '경상자수'\n",
       "\\item '중상자수'\n",
       "\\end{enumerate*}\n"
      ],
      "text/markdown": [
       "1. 'X'\n",
       "2. 'gid'\n",
       "3. 'acci_cnt'\n",
       "4. 'geometry'\n",
       "5. '사고건수'\n",
       "6. '사상자수'\n",
       "7. 'x'\n",
       "8. 'y'\n",
       "9. '신호등_보행자수'\n",
       "10. '신호등_차량등수'\n",
       "11. 'cctv수'\n",
       "12. '혼잡빈도강도'\n",
       "13. '혼잡시간강도'\n",
       "14. '전체_추정교통량'\n",
       "15. '이상평균기온동반사고건수'\n",
       "16. '이상최저온도동반사고건수'\n",
       "17. '이상최고온도동반사고건수'\n",
       "18. '이상최대풍속동반사고건수'\n",
       "19. '이상평균풍속동반사고건수'\n",
       "20. '이상평균습도동반사고건수'\n",
       "21. '이상평균지면온도동반사고건수'\n",
       "22. '이상강수량동반사고건수'\n",
       "23. '이상적설량동반사고건수'\n",
       "24. '이상안개시간동반사고건수'\n",
       "25. '안전지대수'\n",
       "26. '정차금지지대수'\n",
       "27. '도로속도표시수'\n",
       "28. '교통안전표지수'\n",
       "29. '노드개수'\n",
       "30. '횡단보도수'\n",
       "31. '건물면적'\n",
       "32. '자동차대수'\n",
       "33. '총거주인구수'\n",
       "34. '차대사람..20대'\n",
       "35. '차대사람..20대.미만'\n",
       "36. '차대사람..30대'\n",
       "37. '차대사람..40대'\n",
       "38. '차대사람..50대'\n",
       "39. '차대사람..60대.이상'\n",
       "40. '차대차..20대'\n",
       "41. '차대차..20대.미만'\n",
       "42. '차대차..30대'\n",
       "43. '차대차..40대'\n",
       "44. '차대차..50대'\n",
       "45. '차대차..60대.이상'\n",
       "46. '사망자수'\n",
       "47. '경상자수'\n",
       "48. '중상자수'\n",
       "\n",
       "\n"
      ],
      "text/plain": [
       " [1] \"X\"                            \"gid\"                         \n",
       " [3] \"acci_cnt\"                     \"geometry\"                    \n",
       " [5] \"사고건수\"                     \"사상자수\"                    \n",
       " [7] \"x\"                            \"y\"                           \n",
       " [9] \"신호등_보행자수\"              \"신호등_차량등수\"             \n",
       "[11] \"cctv수\"                       \"혼잡빈도강도\"                \n",
       "[13] \"혼잡시간강도\"                 \"전체_추정교통량\"             \n",
       "[15] \"이상평균기온동반사고건수\"     \"이상최저온도동반사고건수\"    \n",
       "[17] \"이상최고온도동반사고건수\"     \"이상최대풍속동반사고건수\"    \n",
       "[19] \"이상평균풍속동반사고건수\"     \"이상평균습도동반사고건수\"    \n",
       "[21] \"이상평균지면온도동반사고건수\" \"이상강수량동반사고건수\"      \n",
       "[23] \"이상적설량동반사고건수\"       \"이상안개시간동반사고건수\"    \n",
       "[25] \"안전지대수\"                   \"정차금지지대수\"              \n",
       "[27] \"도로속도표시수\"               \"교통안전표지수\"              \n",
       "[29] \"노드개수\"                     \"횡단보도수\"                  \n",
       "[31] \"건물면적\"                     \"자동차대수\"                  \n",
       "[33] \"총거주인구수\"                 \"차대사람..20대\"              \n",
       "[35] \"차대사람..20대.미만\"          \"차대사람..30대\"              \n",
       "[37] \"차대사람..40대\"               \"차대사람..50대\"              \n",
       "[39] \"차대사람..60대.이상\"          \"차대차..20대\"                \n",
       "[41] \"차대차..20대.미만\"            \"차대차..30대\"                \n",
       "[43] \"차대차..40대\"                 \"차대차..50대\"                \n",
       "[45] \"차대차..60대.이상\"            \"사망자수\"                    \n",
       "[47] \"경상자수\"                     \"중상자수\"                    "
      ]
     },
     "metadata": {},
     "output_type": "display_data"
    }
   ],
   "source": [
    "names(acci_count_filter25)"
   ]
  },
  {
   "cell_type": "markdown",
   "id": "straight-inside",
   "metadata": {},
   "source": [
    "#### 변수 필터링 과정1 - 상관행렬과 Heatmap 확인"
   ]
  },
  {
   "cell_type": "code",
   "execution_count": 4,
   "id": "enormous-shock",
   "metadata": {},
   "outputs": [
    {
     "data": {
      "image/png": "[encoded data removed]",
      "text/plain": [
       "plot without title"
      ]
     },
     "metadata": {
      "image/png": {
       "height": 420,
       "width": 420
      }
     },
     "output_type": "display_data"
    }
   ],
   "source": [
    "# 상관행렬\n",
    "check_cor <- acci_count_filter25 %>% dplyr::select(`신호등_보행자수`:총거주인구수) %>% cor()\n",
    "\n",
    "# Heatmap\n",
    "check_cor2 <- acci_count_filter25 %>% dplyr::select(`신호등_보행자수`:총거주인구수) %>% \n",
    "                cor()%>% ggcorrplot(tl.srt = 90)\n",
    "check_cor2"
   ]
  },
  {
   "cell_type": "markdown",
   "id": "tested-compatibility",
   "metadata": {},
   "source": [
    "#### 변수 필터링 과정2 - 분산팽창인자(VIF) 확인"
   ]
  },
  {
   "cell_type": "code",
   "execution_count": 5,
   "id": "sized-fisher",
   "metadata": {},
   "outputs": [
    {
     "name": "stdout",
     "output_type": "stream",
     "text": [
      "[1] \"다중공선성 존재\"\n"
     ]
    },
    {
     "data": {
      "text/html": [
       "<style>\n",
       ".list-inline {list-style: none; margin:0; padding: 0}\n",
       ".list-inline>li {display: inline-block}\n",
       ".list-inline>li:not(:last-child)::after {content: \"\\00b7\"; padding: 0 .5ex}\n",
       "</style>\n",
       "<ol class=list-inline><li>'혼잡빈도강도'</li><li>'혼잡시간강도'</li><li>'이상평균기온동반사고건수'</li><li>'이상최저온도동반사고건수'</li><li>'이상최고온도동반사고건수'</li><li>'이상평균지면온도동반사고건수'</li></ol>\n"
      ],
      "text/latex": [
       "\\begin{enumerate*}\n",
       "\\item '혼잡빈도강도'\n",
       "\\item '혼잡시간강도'\n",
       "\\item '이상평균기온동반사고건수'\n",
       "\\item '이상최저온도동반사고건수'\n",
       "\\item '이상최고온도동반사고건수'\n",
       "\\item '이상평균지면온도동반사고건수'\n",
       "\\end{enumerate*}\n"
      ],
      "text/markdown": [
       "1. '혼잡빈도강도'\n",
       "2. '혼잡시간강도'\n",
       "3. '이상평균기온동반사고건수'\n",
       "4. '이상최저온도동반사고건수'\n",
       "5. '이상최고온도동반사고건수'\n",
       "6. '이상평균지면온도동반사고건수'\n",
       "\n",
       "\n"
      ],
      "text/plain": [
       "[1] \"혼잡빈도강도\"                 \"혼잡시간강도\"                \n",
       "[3] \"이상평균기온동반사고건수\"     \"이상최저온도동반사고건수\"    \n",
       "[5] \"이상최고온도동반사고건수\"     \"이상평균지면온도동반사고건수\""
      ]
     },
     "metadata": {},
     "output_type": "display_data"
    },
    {
     "name": "stdout",
     "output_type": "stream",
     "text": [
      "[1] \"다중공선성이 존재하지 않음\"\n"
     ]
    },
    {
     "data": {
      "text/html": [
       "<style>\n",
       ".list-inline {list-style: none; margin:0; padding: 0}\n",
       ".list-inline>li {display: inline-block}\n",
       ".list-inline>li:not(:last-child)::after {content: \"\\00b7\"; padding: 0 .5ex}\n",
       "</style>\n",
       "<ol class=list-inline><li>'신호등_보행자수'</li><li>'신호등_차량등수'</li><li>'cctv수'</li><li>'전체_추정교통량'</li><li>'이상최대풍속동반사고건수'</li><li>'이상평균풍속동반사고건수'</li><li>'이상평균습도동반사고건수'</li><li>'이상강수량동반사고건수'</li><li>'이상적설량동반사고건수'</li><li>'이상안개시간동반사고건수'</li><li>'안전지대수'</li><li>'정차금지지대수'</li><li>'도로속도표시수'</li><li>'교통안전표지수'</li><li>'노드개수'</li><li>'횡단보도수'</li><li>'건물면적'</li><li>'자동차대수'</li><li>'총거주인구수'</li></ol>\n"
      ],
      "text/latex": [
       "\\begin{enumerate*}\n",
       "\\item '신호등\\_보행자수'\n",
       "\\item '신호등\\_차량등수'\n",
       "\\item 'cctv수'\n",
       "\\item '전체\\_추정교통량'\n",
       "\\item '이상최대풍속동반사고건수'\n",
       "\\item '이상평균풍속동반사고건수'\n",
       "\\item '이상평균습도동반사고건수'\n",
       "\\item '이상강수량동반사고건수'\n",
       "\\item '이상적설량동반사고건수'\n",
       "\\item '이상안개시간동반사고건수'\n",
       "\\item '안전지대수'\n",
       "\\item '정차금지지대수'\n",
       "\\item '도로속도표시수'\n",
       "\\item '교통안전표지수'\n",
       "\\item '노드개수'\n",
       "\\item '횡단보도수'\n",
       "\\item '건물면적'\n",
       "\\item '자동차대수'\n",
       "\\item '총거주인구수'\n",
       "\\end{enumerate*}\n"
      ],
      "text/markdown": [
       "1. '신호등_보행자수'\n",
       "2. '신호등_차량등수'\n",
       "3. 'cctv수'\n",
       "4. '전체_추정교통량'\n",
       "5. '이상최대풍속동반사고건수'\n",
       "6. '이상평균풍속동반사고건수'\n",
       "7. '이상평균습도동반사고건수'\n",
       "8. '이상강수량동반사고건수'\n",
       "9. '이상적설량동반사고건수'\n",
       "10. '이상안개시간동반사고건수'\n",
       "11. '안전지대수'\n",
       "12. '정차금지지대수'\n",
       "13. '도로속도표시수'\n",
       "14. '교통안전표지수'\n",
       "15. '노드개수'\n",
       "16. '횡단보도수'\n",
       "17. '건물면적'\n",
       "18. '자동차대수'\n",
       "19. '총거주인구수'\n",
       "\n",
       "\n"
      ],
      "text/plain": [
       " [1] \"신호등_보행자수\"          \"신호등_차량등수\"         \n",
       " [3] \"cctv수\"                   \"전체_추정교통량\"         \n",
       " [5] \"이상최대풍속동반사고건수\" \"이상평균풍속동반사고건수\"\n",
       " [7] \"이상평균습도동반사고건수\" \"이상강수량동반사고건수\"  \n",
       " [9] \"이상적설량동반사고건수\"   \"이상안개시간동반사고건수\"\n",
       "[11] \"안전지대수\"               \"정차금지지대수\"          \n",
       "[13] \"도로속도표시수\"           \"교통안전표지수\"          \n",
       "[15] \"노드개수\"                 \"횡단보도수\"              \n",
       "[17] \"건물면적\"                 \"자동차대수\"              \n",
       "[19] \"총거주인구수\"            "
      ]
     },
     "metadata": {},
     "output_type": "display_data"
    }
   ],
   "source": [
    "check_cor_df <- acci_count_filter25 %>% dplyr::select(`신호등_보행자수`:총거주인구수, 전체_추정교통량,사고건수)\n",
    "\n",
    "mod1 <- lm(사고건수 ~ ., data=check_cor_df)\n",
    "vif <- VIF(mod1)\n",
    "print(\"다중공선성 존재\")\n",
    "names(vif)[vif > 5]; # 다중공선성 있다고 판단되는 독립변수들\n",
    "\n",
    "print(\"다중공선성이 존재하지 않음\")\n",
    "names(vif)[vif < 5]; # 다중공선성이 있다고 판단되지는 않는 변수들(정상적인 변수들)"
   ]
  },
  {
   "cell_type": "markdown",
   "id": "announced-hamilton",
   "metadata": {},
   "source": [
    "**혼잡빈도강도, 혼잡시간강도, 이상평균기온동반사고건수, 이상최저온도동반사고건수, 이상최고온도동반사고건수, 이상평균지면온도동반사고건수**는 vif가 5 이상으로 판별되었다.<br/>\n",
    "- 데이터 변형1 : 혼잡빈도강도, 혼잡시간강도 데이터의 평균을 \"평균혼잡강도\" 데이터로 수정\n",
    "- 데이터 변형2 : 평균기온동반사고건수, 최저온도동반사고건수, 최고온도동반사고건수, 평균지면온도동반사고건수 변수들의 상관관계가 높아 \"이상평균기온동반사고건수\"만 사용"
   ]
  },
  {
   "cell_type": "code",
   "execution_count": 6,
   "id": "immediate-hacker",
   "metadata": {},
   "outputs": [
    {
     "name": "stdout",
     "output_type": "stream",
     "text": [
      "[1] \"다중공선성 존재\"\n"
     ]
    },
    {
     "data": {
      "text/html": [],
      "text/latex": [],
      "text/markdown": [],
      "text/plain": [
       "character(0)"
      ]
     },
     "metadata": {},
     "output_type": "display_data"
    },
    {
     "name": "stdout",
     "output_type": "stream",
     "text": [
      "[1] \"다중공선성이 존재하지 않음\"\n"
     ]
    },
    {
     "data": {
      "text/html": [
       "<style>\n",
       ".list-inline {list-style: none; margin:0; padding: 0}\n",
       ".list-inline>li {display: inline-block}\n",
       ".list-inline>li:not(:last-child)::after {content: \"\\00b7\"; padding: 0 .5ex}\n",
       "</style>\n",
       "<ol class=list-inline><li>'신호등_보행자수'</li><li>'신호등_차량등수'</li><li>'cctv수'</li><li>'전체_추정교통량'</li><li>'이상평균기온동반사고건수'</li><li>'이상최대풍속동반사고건수'</li><li>'이상평균풍속동반사고건수'</li><li>'이상평균습도동반사고건수'</li><li>'이상강수량동반사고건수'</li><li>'이상적설량동반사고건수'</li><li>'이상안개시간동반사고건수'</li><li>'안전지대수'</li><li>'정차금지지대수'</li><li>'도로속도표시수'</li><li>'교통안전표지수'</li><li>'노드개수'</li><li>'횡단보도수'</li><li>'건물면적'</li><li>'자동차대수'</li><li>'총거주인구수'</li></ol>\n"
      ],
      "text/latex": [
       "\\begin{enumerate*}\n",
       "\\item '신호등\\_보행자수'\n",
       "\\item '신호등\\_차량등수'\n",
       "\\item 'cctv수'\n",
       "\\item '전체\\_추정교통량'\n",
       "\\item '이상평균기온동반사고건수'\n",
       "\\item '이상최대풍속동반사고건수'\n",
       "\\item '이상평균풍속동반사고건수'\n",
       "\\item '이상평균습도동반사고건수'\n",
       "\\item '이상강수량동반사고건수'\n",
       "\\item '이상적설량동반사고건수'\n",
       "\\item '이상안개시간동반사고건수'\n",
       "\\item '안전지대수'\n",
       "\\item '정차금지지대수'\n",
       "\\item '도로속도표시수'\n",
       "\\item '교통안전표지수'\n",
       "\\item '노드개수'\n",
       "\\item '횡단보도수'\n",
       "\\item '건물면적'\n",
       "\\item '자동차대수'\n",
       "\\item '총거주인구수'\n",
       "\\end{enumerate*}\n"
      ],
      "text/markdown": [
       "1. '신호등_보행자수'\n",
       "2. '신호등_차량등수'\n",
       "3. 'cctv수'\n",
       "4. '전체_추정교통량'\n",
       "5. '이상평균기온동반사고건수'\n",
       "6. '이상최대풍속동반사고건수'\n",
       "7. '이상평균풍속동반사고건수'\n",
       "8. '이상평균습도동반사고건수'\n",
       "9. '이상강수량동반사고건수'\n",
       "10. '이상적설량동반사고건수'\n",
       "11. '이상안개시간동반사고건수'\n",
       "12. '안전지대수'\n",
       "13. '정차금지지대수'\n",
       "14. '도로속도표시수'\n",
       "15. '교통안전표지수'\n",
       "16. '노드개수'\n",
       "17. '횡단보도수'\n",
       "18. '건물면적'\n",
       "19. '자동차대수'\n",
       "20. '총거주인구수'\n",
       "\n",
       "\n"
      ],
      "text/plain": [
       " [1] \"신호등_보행자수\"          \"신호등_차량등수\"         \n",
       " [3] \"cctv수\"                   \"전체_추정교통량\"         \n",
       " [5] \"이상평균기온동반사고건수\" \"이상최대풍속동반사고건수\"\n",
       " [7] \"이상평균풍속동반사고건수\" \"이상평균습도동반사고건수\"\n",
       " [9] \"이상강수량동반사고건수\"   \"이상적설량동반사고건수\"  \n",
       "[11] \"이상안개시간동반사고건수\" \"안전지대수\"              \n",
       "[13] \"정차금지지대수\"           \"도로속도표시수\"          \n",
       "[15] \"교통안전표지수\"           \"노드개수\"                \n",
       "[17] \"횡단보도수\"               \"건물면적\"                \n",
       "[19] \"자동차대수\"               \"총거주인구수\"            "
      ]
     },
     "metadata": {},
     "output_type": "display_data"
    }
   ],
   "source": [
    "revised_df <- acci_count_filter25 %>% mutate(평균혼잡강도=(혼잡빈도강도+혼잡시간강도)/2)%>%\n",
    "  dplyr::select(-이상최저온도동반사고건수, -이상최고온도동반사고건수, -이상평균지면온도동반사고건수, -혼잡빈도강도, -혼잡시간강도)\n",
    "\n",
    "# VIF 확인\n",
    "check_cor_df2 <- revised_df %>% dplyr::select(`신호등_보행자수`:총거주인구수, 전체_추정교통량, 사고건수)\n",
    "mod2 <- lm(사고건수 ~ ., data=check_cor_df2)\n",
    "vif_final <- VIF(mod2)\n",
    "\n",
    "print(\"다중공선성 존재\")\n",
    "names(vif_final)[vif_final>5]; # 다중공선성 있다고 판단되는 독립변수들\n",
    "\n",
    "print(\"다중공선성이 존재하지 않음\")\n",
    "names(vif_final)[vif_final<5]; # 다중공선성이 있다고 판단되지는 않는 변수들(정상적인 변수들)"
   ]
  },
  {
   "cell_type": "markdown",
   "id": "caroline-novelty",
   "metadata": {},
   "source": [
    "# <font color=blue>1. OLS 모델링</font>"
   ]
  },
  {
   "cell_type": "code",
   "execution_count": 7,
   "id": "closing-ethiopia",
   "metadata": {},
   "outputs": [],
   "source": [
    "car_under20 <- read.csv(\"car_under20.csv\", row.names = 1)\n",
    "car_20 <- read.csv(\"car_20.csv\", row.names = 1)\n",
    "car_30 <- read.csv(\"car_30.csv\", row.names = 1)\n",
    "car_40 <- read.csv(\"car_40.csv\", row.names = 1)\n",
    "car_50 <- read.csv(\"car_50.csv\", row.names = 1)\n",
    "car_over60 <- read.csv(\"car_over60.csv\", row.names = 1)\n",
    "\n",
    "person_under20 <- read.csv(\"person_under20.csv\", row.names = 1)\n",
    "person_20 <- read.csv(\"person_20.csv\", row.names = 1)\n",
    "person_30 <- read.csv(\"person_30.csv\", row.names = 1)\n",
    "person_40 <- read.csv(\"person_40.csv\", row.names = 1)\n",
    "person_50 <- read.csv(\"person_50.csv\", row.names = 1)\n",
    "person_over60 <- read.csv(\"person_over60.csv\", row.names = 1)"
   ]
  },
  {
   "cell_type": "markdown",
   "id": "endless-thumb",
   "metadata": {},
   "source": [
    "##### OLS 모델 적용 - 차대사람..60대 이상"
   ]
  },
  {
   "cell_type": "code",
   "execution_count": 8,
   "id": "infinite-satin",
   "metadata": {},
   "outputs": [
    {
     "name": "stdout",
     "output_type": "stream",
     "text": [
      "Start:  AIC=-2179.02\n",
      "차대사람..60대.이상 ~ 신호등_보행자수 + 신호등_차량등수 + \n",
      "    cctv수 + 전체_추정교통량 + 이상평균기온동반사고건수 + \n",
      "    이상최대풍속동반사고건수 + 이상평균풍속동반사고건수 + \n",
      "    이상평균습도동반사고건수 + 이상강수량동반사고건수 + \n",
      "    이상적설량동반사고건수 + 이상안개시간동반사고건수 + \n",
      "    안전지대수 + 정차금지지대수 + 도로속도표시수 + \n",
      "    교통안전표지수 + 노드개수 + 횡단보도수 + \n",
      "    건물면적 + 자동차대수 + 총거주인구수 + 평균혼잡강도\n",
      "\n",
      "                           Df Sum of Sq    RSS     AIC\n",
      "- 노드개수                  1    0.0003 1083.7 -2181.0\n",
      "- 이상최대풍속동반사고건수  1    0.0025 1083.7 -2181.0\n",
      "- 도로속도표시수            1    0.0385 1083.7 -2180.9\n",
      "- cctv수                    1    0.0717 1083.8 -2180.8\n",
      "- 건물면적                  1    0.0849 1083.8 -2180.8\n",
      "- 총거주인구수              1    0.1840 1083.9 -2180.6\n",
      "- 정차금지지대수            1    0.1845 1083.9 -2180.6\n",
      "- 교통안전표지수            1    0.3261 1084.0 -2180.2\n",
      "- 신호등_보행자수           1    0.3281 1084.0 -2180.2\n",
      "- 이상강수량동반사고건수    1    0.4102 1084.1 -2180.0\n",
      "<none>                                  1083.7 -2179.0\n",
      "- 이상적설량동반사고건수    1    0.9596 1084.7 -2178.7\n",
      "- 자동차대수                1    0.9730 1084.7 -2178.7\n",
      "- 이상평균풍속동반사고건수  1    1.0737 1084.8 -2178.5\n",
      "- 신호등_차량등수           1    1.2059 1084.9 -2178.2\n",
      "- 전체_추정교통량           1    2.6604 1086.3 -2174.7\n",
      "- 이상안개시간동반사고건수  1    2.8079 1086.5 -2174.4\n",
      "- 안전지대수                1    3.5205 1087.2 -2172.7\n",
      "- 평균혼잡강도              1    3.5644 1087.2 -2172.6\n",
      "- 이상평균기온동반사고건수  1    5.8701 1089.6 -2167.1\n",
      "- 이상평균습도동반사고건수  1    6.5867 1090.3 -2165.4\n",
      "- 횡단보도수                1   14.8620 1098.5 -2146.0\n",
      "\n",
      "Step:  AIC=-2181.02\n",
      "차대사람..60대.이상 ~ 신호등_보행자수 + 신호등_차량등수 + \n",
      "    cctv수 + 전체_추정교통량 + 이상평균기온동반사고건수 + \n",
      "    이상최대풍속동반사고건수 + 이상평균풍속동반사고건수 + \n",
      "    이상평균습도동반사고건수 + 이상강수량동반사고건수 + \n",
      "    이상적설량동반사고건수 + 이상안개시간동반사고건수 + \n",
      "    안전지대수 + 정차금지지대수 + 도로속도표시수 + \n",
      "    교통안전표지수 + 횡단보도수 + 건물면적 + \n",
      "    자동차대수 + 총거주인구수 + 평균혼잡강도\n",
      "\n",
      "                           Df Sum of Sq    RSS     AIC\n",
      "- 이상최대풍속동반사고건수  1    0.0025 1083.7 -2183.0\n",
      "- 도로속도표시수            1    0.0384 1083.7 -2182.9\n",
      "- cctv수                    1    0.0714 1083.8 -2182.8\n",
      "- 건물면적                  1    0.0854 1083.8 -2182.8\n",
      "- 총거주인구수              1    0.1837 1083.9 -2182.6\n",
      "- 정차금지지대수            1    0.1846 1083.9 -2182.6\n",
      "- 신호등_보행자수           1    0.3306 1084.0 -2182.2\n",
      "- 교통안전표지수            1    0.3334 1084.0 -2182.2\n",
      "- 이상강수량동반사고건수    1    0.4110 1084.1 -2182.0\n",
      "<none>                                  1083.7 -2181.0\n",
      "- 이상적설량동반사고건수    1    0.9597 1084.7 -2180.7\n",
      "- 자동차대수                1    0.9740 1084.7 -2180.7\n",
      "- 이상평균풍속동반사고건수  1    1.0746 1084.8 -2180.5\n",
      "- 신호등_차량등수           1    1.2058 1084.9 -2180.2\n",
      "+ 노드개수                  1    0.0003 1083.7 -2179.0\n",
      "- 전체_추정교통량           1    2.6636 1086.3 -2176.7\n",
      "- 이상안개시간동반사고건수  1    2.8076 1086.5 -2176.4\n",
      "- 안전지대수                1    3.5406 1087.2 -2174.6\n",
      "- 평균혼잡강도              1    3.6090 1087.3 -2174.5\n",
      "- 이상평균기온동반사고건수  1    5.8701 1089.6 -2169.1\n",
      "- 이상평균습도동반사고건수  1    6.5894 1090.3 -2167.4\n",
      "- 횡단보도수                1   15.0448 1098.7 -2147.6\n",
      "\n",
      "Step:  AIC=-2183.01\n",
      "차대사람..60대.이상 ~ 신호등_보행자수 + 신호등_차량등수 + \n",
      "    cctv수 + 전체_추정교통량 + 이상평균기온동반사고건수 + \n",
      "    이상평균풍속동반사고건수 + 이상평균습도동반사고건수 + \n",
      "    이상강수량동반사고건수 + 이상적설량동반사고건수 + \n",
      "    이상안개시간동반사고건수 + 안전지대수 + \n",
      "    정차금지지대수 + 도로속도표시수 + 교통안전표지수 + \n",
      "    횡단보도수 + 건물면적 + 자동차대수 + 총거주인구수 + \n",
      "    평균혼잡강도\n",
      "\n",
      "                           Df Sum of Sq    RSS     AIC\n",
      "- 도로속도표시수            1    0.0392 1083.7 -2184.9\n",
      "- cctv수                    1    0.0710 1083.8 -2184.8\n",
      "- 건물면적                  1    0.0862 1083.8 -2184.8\n",
      "- 총거주인구수              1    0.1836 1083.9 -2184.6\n",
      "- 정차금지지대수            1    0.1849 1083.9 -2184.6\n",
      "- 신호등_보행자수           1    0.3286 1084.0 -2184.2\n",
      "- 교통안전표지수            1    0.3347 1084.0 -2184.2\n",
      "- 이상강수량동반사고건수    1    0.4090 1084.1 -2184.0\n",
      "<none>                                  1083.7 -2183.0\n",
      "- 이상적설량동반사고건수    1    0.9709 1084.7 -2182.7\n",
      "- 자동차대수                1    0.9728 1084.7 -2182.7\n",
      "- 신호등_차량등수           1    1.2049 1084.9 -2182.2\n",
      "+ 이상최대풍속동반사고건수  1    0.0025 1083.7 -2181.0\n",
      "+ 노드개수                  1    0.0002 1083.7 -2181.0\n",
      "- 이상평균풍속동반사고건수  1    1.7837 1085.5 -2180.8\n",
      "- 전체_추정교통량           1    2.6620 1086.3 -2178.7\n",
      "- 이상안개시간동반사고건수  1    2.8814 1086.6 -2178.2\n",
      "- 안전지대수                1    3.5425 1087.2 -2176.6\n",
      "- 평균혼잡강도              1    3.6066 1087.3 -2176.5\n",
      "- 이상평균기온동반사고건수  1    6.1619 1089.8 -2170.4\n",
      "- 이상평균습도동반사고건수  1    6.6030 1090.3 -2169.4\n",
      "- 횡단보도수                1   15.0424 1098.7 -2149.6\n",
      "\n",
      "Step:  AIC=-2184.92\n",
      "차대사람..60대.이상 ~ 신호등_보행자수 + 신호등_차량등수 + \n",
      "    cctv수 + 전체_추정교통량 + 이상평균기온동반사고건수 + \n",
      "    이상평균풍속동반사고건수 + 이상평균습도동반사고건수 + \n",
      "    이상강수량동반사고건수 + 이상적설량동반사고건수 + \n",
      "    이상안개시간동반사고건수 + 안전지대수 + \n",
      "    정차금지지대수 + 교통안전표지수 + 횡단보도수 + \n",
      "    건물면적 + 자동차대수 + 총거주인구수 + 평균혼잡강도\n",
      "\n",
      "                           Df Sum of Sq    RSS     AIC\n",
      "- cctv수                    1    0.0658 1083.8 -2186.8\n",
      "- 건물면적                  1    0.0826 1083.8 -2186.7\n",
      "- 정차금지지대수            1    0.1812 1083.9 -2186.5\n",
      "- 총거주인구수              1    0.1951 1083.9 -2186.4\n",
      "- 신호등_보행자수           1    0.3022 1084.0 -2186.2\n",
      "- 교통안전표지수            1    0.3094 1084.0 -2186.2\n",
      "- 이상강수량동반사고건수    1    0.4137 1084.1 -2185.9\n",
      "<none>                                  1083.7 -2184.9\n",
      "- 이상적설량동반사고건수    1    0.9509 1084.7 -2184.7\n",
      "- 자동차대수                1    0.9846 1084.7 -2184.6\n",
      "- 신호등_차량등수           1    1.1933 1084.9 -2184.1\n",
      "+ 도로속도표시수            1    0.0392 1083.7 -2183.0\n",
      "+ 이상최대풍속동반사고건수  1    0.0032 1083.7 -2182.9\n",
      "+ 노드개수                  1    0.0002 1083.7 -2182.9\n",
      "- 이상평균풍속동반사고건수  1    1.8110 1085.5 -2182.6\n",
      "- 전체_추정교통량           1    2.6244 1086.3 -2180.7\n",
      "- 이상안개시간동반사고건수  1    2.8769 1086.6 -2180.1\n",
      "- 안전지대수                1    3.5601 1087.3 -2178.5\n",
      "- 평균혼잡강도              1    3.5864 1087.3 -2178.4\n",
      "- 이상평균기온동반사고건수  1    6.2153 1089.9 -2172.2\n",
      "- 이상평균습도동반사고건수  1    6.6420 1090.4 -2171.2\n",
      "- 횡단보도수                1   15.0137 1098.7 -2151.5\n",
      "\n",
      "Step:  AIC=-2186.76\n",
      "차대사람..60대.이상 ~ 신호등_보행자수 + 신호등_차량등수 + \n",
      "    전체_추정교통량 + 이상평균기온동반사고건수 + \n",
      "    이상평균풍속동반사고건수 + 이상평균습도동반사고건수 + \n",
      "    이상강수량동반사고건수 + 이상적설량동반사고건수 + \n",
      "    이상안개시간동반사고건수 + 안전지대수 + \n",
      "    정차금지지대수 + 교통안전표지수 + 횡단보도수 + \n",
      "    건물면적 + 자동차대수 + 총거주인구수 + 평균혼잡강도\n",
      "\n",
      "                           Df Sum of Sq    RSS     AIC\n",
      "- 건물면적                  1    0.0815 1083.9 -2188.6\n",
      "- 정차금지지대수            1    0.1830 1084.0 -2188.3\n",
      "- 총거주인구수              1    0.1954 1084.0 -2188.3\n",
      "- 신호등_보행자수           1    0.2940 1084.1 -2188.1\n",
      "- 교통안전표지수            1    0.3179 1084.1 -2188.0\n",
      "- 이상강수량동반사고건수    1    0.4239 1084.2 -2187.8\n",
      "<none>                                  1083.8 -2186.8\n",
      "- 이상적설량동반사고건수    1    0.9399 1084.7 -2186.5\n",
      "- 자동차대수                1    0.9876 1084.8 -2186.4\n",
      "- 신호등_차량등수           1    1.1596 1085.0 -2186.0\n",
      "+ cctv수                    1    0.0658 1083.7 -2184.9\n",
      "+ 도로속도표시수            1    0.0340 1083.8 -2184.8\n",
      "+ 이상최대풍속동반사고건수  1    0.0027 1083.8 -2184.8\n",
      "+ 노드개수                  1    0.0000 1083.8 -2184.8\n",
      "- 이상평균풍속동반사고건수  1    1.8341 1085.6 -2184.4\n",
      "- 전체_추정교통량           1    2.6399 1086.4 -2182.5\n",
      "- 이상안개시간동반사고건수  1    2.8719 1086.7 -2181.9\n",
      "- 평균혼잡강도              1    3.6214 1087.4 -2180.2\n",
      "- 안전지대수                1    3.6738 1087.5 -2180.1\n",
      "- 이상평균기온동반사고건수  1    6.1512 1090.0 -2174.2\n",
      "- 이상평균습도동반사고건수  1    6.6044 1090.4 -2173.1\n",
      "- 횡단보도수                1   15.0300 1098.8 -2153.3\n",
      "\n",
      "Step:  AIC=-2188.57\n",
      "차대사람..60대.이상 ~ 신호등_보행자수 + 신호등_차량등수 + \n",
      "    전체_추정교통량 + 이상평균기온동반사고건수 + \n",
      "    이상평균풍속동반사고건수 + 이상평균습도동반사고건수 + \n",
      "    이상강수량동반사고건수 + 이상적설량동반사고건수 + \n",
      "    이상안개시간동반사고건수 + 안전지대수 + \n",
      "    정차금지지대수 + 교통안전표지수 + 횡단보도수 + \n",
      "    자동차대수 + 총거주인구수 + 평균혼잡강도\n",
      "\n",
      "                           Df Sum of Sq    RSS     AIC\n",
      "- 정차금지지대수            1    0.1861 1084.1 -2190.1\n",
      "- 신호등_보행자수           1    0.3051 1084.2 -2189.8\n",
      "- 총거주인구수              1    0.3298 1084.2 -2189.8\n",
      "- 교통안전표지수            1    0.3489 1084.2 -2189.7\n",
      "- 이상강수량동반사고건수    1    0.4303 1084.3 -2189.6\n",
      "<none>                                  1083.9 -2188.6\n",
      "- 이상적설량동반사고건수    1    0.9167 1084.8 -2188.4\n",
      "- 자동차대수                1    0.9722 1084.8 -2188.3\n",
      "- 신호등_차량등수           1    1.2123 1085.1 -2187.7\n",
      "+ 건물면적                  1    0.0815 1083.8 -2186.8\n",
      "+ cctv수                    1    0.0647 1083.8 -2186.7\n",
      "+ 도로속도표시수            1    0.0308 1083.8 -2186.6\n",
      "+ 이상최대풍속동반사고건수  1    0.0034 1083.9 -2186.6\n",
      "+ 노드개수                  1    0.0001 1083.9 -2186.6\n",
      "- 이상평균풍속동반사고건수  1    1.8154 1085.7 -2186.3\n",
      "- 전체_추정교통량           1    2.6706 1086.5 -2184.2\n",
      "- 이상안개시간동반사고건수  1    2.8884 1086.8 -2183.7\n",
      "- 평균혼잡강도              1    3.5949 1087.5 -2182.1\n",
      "- 안전지대수                1    3.6827 1087.6 -2181.8\n",
      "- 이상평균기온동반사고건수  1    6.1273 1090.0 -2176.1\n",
      "- 이상평균습도동반사고건수  1    6.5772 1090.5 -2175.0\n",
      "- 횡단보도수                1   15.1745 1099.0 -2154.8\n",
      "\n",
      "Step:  AIC=-2190.13\n",
      "차대사람..60대.이상 ~ 신호등_보행자수 + 신호등_차량등수 + \n",
      "    전체_추정교통량 + 이상평균기온동반사고건수 + \n",
      "    이상평균풍속동반사고건수 + 이상평균습도동반사고건수 + \n",
      "    이상강수량동반사고건수 + 이상적설량동반사고건수 + \n",
      "    이상안개시간동반사고건수 + 안전지대수 + \n",
      "    교통안전표지수 + 횡단보도수 + 자동차대수 + \n",
      "    총거주인구수 + 평균혼잡강도\n",
      "\n",
      "                           Df Sum of Sq    RSS     AIC\n",
      "- 총거주인구수              1    0.3270 1084.4 -2191.3\n",
      "- 신호등_보행자수           1    0.3359 1084.4 -2191.3\n",
      "- 교통안전표지수            1    0.3694 1084.4 -2191.2\n",
      "- 이상강수량동반사고건수    1    0.4590 1084.5 -2191.0\n",
      "<none>                                  1084.1 -2190.1\n",
      "- 이상적설량동반사고건수    1    0.8946 1085.0 -2190.0\n",
      "- 자동차대수                1    0.9930 1085.1 -2189.8\n",
      "- 신호등_차량등수           1    1.3026 1085.4 -2189.0\n",
      "+ 정차금지지대수            1    0.1861 1083.9 -2188.6\n",
      "+ 건물면적                  1    0.0846 1084.0 -2188.3\n",
      "+ cctv수                    1    0.0666 1084.0 -2188.3\n",
      "+ 도로속도표시수            1    0.0274 1084.0 -2188.2\n",
      "+ 이상최대풍속동반사고건수  1    0.0037 1084.1 -2188.1\n",
      "+ 노드개수                  1    0.0002 1084.1 -2188.1\n",
      "- 이상평균풍속동반사고건수  1    1.8237 1085.9 -2187.8\n",
      "- 전체_추정교통량           1    2.6807 1086.7 -2185.8\n",
      "- 이상안개시간동반사고건수  1    2.9276 1087.0 -2185.2\n",
      "- 평균혼잡강도              1    3.5931 1087.7 -2183.6\n",
      "- 안전지대수                1    3.6809 1087.7 -2183.4\n",
      "- 이상평균기온동반사고건수  1    6.1855 1090.2 -2177.5\n",
      "- 이상평균습도동반사고건수  1    6.7223 1090.8 -2176.2\n",
      "- 횡단보도수                1   15.3665 1099.4 -2155.9\n",
      "\n",
      "Step:  AIC=-2191.35\n",
      "차대사람..60대.이상 ~ 신호등_보행자수 + 신호등_차량등수 + \n",
      "    전체_추정교통량 + 이상평균기온동반사고건수 + \n",
      "    이상평균풍속동반사고건수 + 이상평균습도동반사고건수 + \n",
      "    이상강수량동반사고건수 + 이상적설량동반사고건수 + \n",
      "    이상안개시간동반사고건수 + 안전지대수 + \n",
      "    교통안전표지수 + 횡단보도수 + 자동차대수 + \n",
      "    평균혼잡강도\n",
      "\n",
      "                           Df Sum of Sq    RSS     AIC\n",
      "- 신호등_보행자수           1    0.3488 1084.7 -2192.5\n",
      "- 교통안전표지수            1    0.3526 1084.7 -2192.5\n",
      "- 이상강수량동반사고건수    1    0.4488 1084.8 -2192.3\n",
      "- 자동차대수                1    0.7610 1085.2 -2191.6\n",
      "<none>                                  1084.4 -2191.3\n",
      "- 이상적설량동반사고건수    1    0.9046 1085.3 -2191.2\n",
      "- 신호등_차량등수           1    1.2865 1085.7 -2190.3\n",
      "+ 총거주인구수              1    0.3270 1084.1 -2190.1\n",
      "+ 건물면적                  1    0.2198 1084.2 -2189.9\n",
      "+ 정차금지지대수            1    0.1834 1084.2 -2189.8\n",
      "+ cctv수                    1    0.0661 1084.3 -2189.5\n",
      "+ 도로속도표시수            1    0.0388 1084.3 -2189.4\n",
      "+ 이상최대풍속동반사고건수  1    0.0042 1084.4 -2189.4\n",
      "+ 노드개수                  1    0.0002 1084.4 -2189.3\n",
      "- 이상평균풍속동반사고건수  1    1.8297 1086.2 -2189.0\n",
      "- 전체_추정교통량           1    2.4886 1086.9 -2187.4\n",
      "- 이상안개시간동반사고건수  1    2.8946 1087.3 -2186.5\n",
      "- 평균혼잡강도              1    3.4074 1087.8 -2185.3\n",
      "- 안전지대수                1    3.5660 1088.0 -2184.9\n",
      "- 이상평균기온동반사고건수  1    6.2498 1090.6 -2178.6\n",
      "- 이상평균습도동반사고건수  1    6.8061 1091.2 -2177.3\n",
      "- 횡단보도수                1   15.7267 1100.1 -2156.3\n",
      "\n",
      "Step:  AIC=-2192.52\n",
      "차대사람..60대.이상 ~ 신호등_차량등수 + 전체_추정교통량 + \n",
      "    이상평균기온동반사고건수 + 이상평균풍속동반사고건수 + \n",
      "    이상평균습도동반사고건수 + 이상강수량동반사고건수 + \n",
      "    이상적설량동반사고건수 + 이상안개시간동반사고건수 + \n",
      "    안전지대수 + 교통안전표지수 + 횡단보도수 + \n",
      "    자동차대수 + 평균혼잡강도\n",
      "\n",
      "                           Df Sum of Sq    RSS     AIC\n",
      "- 교통안전표지수            1    0.3465 1085.1 -2193.7\n",
      "- 이상강수량동반사고건수    1    0.4782 1085.2 -2193.4\n",
      "- 자동차대수                1    0.7428 1085.5 -2192.8\n",
      "- 이상적설량동반사고건수    1    0.8130 1085.5 -2192.6\n",
      "<none>                                  1084.7 -2192.5\n",
      "- 신호등_차량등수           1    1.0937 1085.8 -2191.9\n",
      "+ 신호등_보행자수           1    0.3488 1084.4 -2191.3\n",
      "+ 총거주인구수              1    0.3399 1084.4 -2191.3\n",
      "+ 건물면적                  1    0.2419 1084.5 -2191.1\n",
      "+ 정차금지지대수            1    0.2145 1084.5 -2191.0\n",
      "+ cctv수                    1    0.0573 1084.7 -2190.7\n",
      "+ 도로속도표시수            1    0.0112 1084.7 -2190.6\n",
      "+ 이상최대풍속동반사고건수  1    0.0011 1084.7 -2190.5\n",
      "+ 노드개수                  1    0.0008 1084.7 -2190.5\n",
      "- 이상평균풍속동반사고건수  1    1.8486 1086.6 -2190.1\n",
      "- 전체_추정교통량           1    2.4595 1087.2 -2188.7\n",
      "- 이상안개시간동반사고건수  1    2.9576 1087.7 -2187.5\n",
      "- 평균혼잡강도              1    3.3285 1088.1 -2186.6\n",
      "- 안전지대수                1    3.4796 1088.2 -2186.3\n",
      "- 이상평균기온동반사고건수  1    6.2927 1091.0 -2179.6\n",
      "- 이상평균습도동반사고건수  1    6.8274 1091.6 -2178.4\n",
      "- 횡단보도수                1   15.5151 1100.2 -2158.0\n",
      "\n",
      "Step:  AIC=-2193.7\n",
      "차대사람..60대.이상 ~ 신호등_차량등수 + 전체_추정교통량 + \n",
      "    이상평균기온동반사고건수 + 이상평균풍속동반사고건수 + \n",
      "    이상평균습도동반사고건수 + 이상강수량동반사고건수 + \n",
      "    이상적설량동반사고건수 + 이상안개시간동반사고건수 + \n",
      "    안전지대수 + 횡단보도수 + 자동차대수 + 평균혼잡강도\n",
      "\n",
      "                           Df Sum of Sq    RSS     AIC\n",
      "- 이상강수량동반사고건수    1    0.4936 1085.6 -2194.5\n",
      "- 자동차대수                1    0.7650 1085.8 -2193.9\n",
      "- 이상적설량동반사고건수    1    0.7899 1085.9 -2193.8\n",
      "- 신호등_차량등수           1    0.8165 1085.9 -2193.8\n",
      "<none>                                  1085.1 -2193.7\n",
      "+ 교통안전표지수            1    0.3465 1084.7 -2192.5\n",
      "+ 신호등_보행자수           1    0.3426 1084.7 -2192.5\n",
      "+ 총거주인구수              1    0.3229 1084.8 -2192.5\n",
      "+ 건물면적                  1    0.2845 1084.8 -2192.4\n",
      "+ 정차금지지대수            1    0.2355 1084.8 -2192.3\n",
      "+ cctv수                    1    0.0657 1085.0 -2191.9\n",
      "+ 노드개수                  1    0.0103 1085.1 -2191.7\n",
      "+ 이상최대풍속동반사고건수  1    0.0019 1085.1 -2191.7\n",
      "+ 도로속도표시수            1    0.0004 1085.1 -2191.7\n",
      "- 이상평균풍속동반사고건수  1    1.8014 1086.9 -2191.4\n",
      "- 전체_추정교통량           1    2.6616 1087.8 -2189.4\n",
      "- 이상안개시간동반사고건수  1    2.9327 1088.0 -2188.8\n",
      "- 평균혼잡강도              1    3.4409 1088.5 -2187.6\n",
      "- 안전지대수                1    4.5877 1089.7 -2184.8\n",
      "- 이상평균기온동반사고건수  1    6.0905 1091.2 -2181.3\n",
      "- 이상평균습도동반사고건수  1    6.8080 1091.9 -2179.6\n",
      "- 횡단보도수                1   16.1433 1101.2 -2157.7\n",
      "\n",
      "Step:  AIC=-2194.53\n",
      "차대사람..60대.이상 ~ 신호등_차량등수 + 전체_추정교통량 + \n",
      "    이상평균기온동반사고건수 + 이상평균풍속동반사고건수 + \n",
      "    이상평균습도동반사고건수 + 이상적설량동반사고건수 + \n",
      "    이상안개시간동반사고건수 + 안전지대수 + \n",
      "    횡단보도수 + 자동차대수 + 평균혼잡강도\n",
      "\n",
      "                           Df Sum of Sq    RSS     AIC\n",
      "- 신호등_차량등수           1    0.7591 1086.3 -2194.7\n",
      "- 이상적설량동반사고건수    1    0.7717 1086.3 -2194.7\n",
      "- 자동차대수                1    0.7806 1086.4 -2194.7\n",
      "<none>                                  1085.6 -2194.5\n",
      "+ 이상강수량동반사고건수    1    0.4936 1085.1 -2193.7\n",
      "+ 신호등_보행자수           1    0.3722 1085.2 -2193.4\n",
      "+ 교통안전표지수            1    0.3618 1085.2 -2193.4\n",
      "+ 총거주인구수              1    0.3125 1085.3 -2193.3\n",
      "+ 건물면적                  1    0.2954 1085.3 -2193.2\n",
      "+ 정차금지지대수            1    0.2708 1085.3 -2193.2\n",
      "+ cctv수                    1    0.0766 1085.5 -2192.7\n",
      "- 이상평균풍속동반사고건수  1    1.6174 1087.2 -2192.7\n",
      "+ 노드개수                  1    0.0155 1085.6 -2192.6\n",
      "+ 이상최대풍속동반사고건수  1    0.0013 1085.6 -2192.5\n",
      "+ 도로속도표시수            1    0.0006 1085.6 -2192.5\n",
      "- 이상안개시간동반사고건수  1    2.5850 1088.2 -2190.4\n",
      "- 전체_추정교통량           1    2.7787 1088.4 -2190.0\n",
      "- 평균혼잡강도              1    3.4807 1089.1 -2188.3\n",
      "- 안전지대수                1    4.4459 1090.0 -2186.0\n",
      "- 이상평균기온동반사고건수  1    6.0841 1091.7 -2182.2\n",
      "- 이상평균습도동반사고건수  1    6.8302 1092.4 -2180.4\n",
      "- 횡단보도수                1   15.9704 1101.5 -2159.0\n",
      "\n",
      "Step:  AIC=-2194.73\n",
      "차대사람..60대.이상 ~ 전체_추정교통량 + 이상평균기온동반사고건수 + \n",
      "    이상평균풍속동반사고건수 + 이상평균습도동반사고건수 + \n",
      "    이상적설량동반사고건수 + 이상안개시간동반사고건수 + \n",
      "    안전지대수 + 횡단보도수 + 자동차대수 + 평균혼잡강도\n",
      "\n",
      "                           Df Sum of Sq    RSS     AIC\n",
      "- 자동차대수                1    0.7800 1087.1 -2194.9\n",
      "- 이상적설량동반사고건수    1    0.8113 1087.2 -2194.8\n",
      "<none>                                  1086.3 -2194.7\n",
      "+ 신호등_차량등수           1    0.7591 1085.6 -2194.5\n",
      "+ 이상강수량동반사고건수    1    0.4361 1085.9 -2193.8\n",
      "+ 건물면적                  1    0.3277 1086.0 -2193.5\n",
      "+ 정차금지지대수            1    0.3140 1086.0 -2193.5\n",
      "+ 총거주인구수              1    0.2800 1086.1 -2193.4\n",
      "+ 교통안전표지수            1    0.0811 1086.3 -2192.9\n",
      "+ 신호등_보행자수           1    0.0779 1086.3 -2192.9\n",
      "+ cctv수                    1    0.0389 1086.3 -2192.8\n",
      "+ 도로속도표시수            1    0.0319 1086.3 -2192.8\n",
      "+ 노드개수                  1    0.0001 1086.3 -2192.7\n",
      "+ 이상최대풍속동반사고건수  1    0.0001 1086.3 -2192.7\n",
      "- 이상평균풍속동반사고건수  1    1.7455 1088.1 -2192.6\n",
      "- 전체_추정교통량           1    2.5885 1088.9 -2190.6\n",
      "- 이상안개시간동반사고건수  1    2.6510 1089.0 -2190.5\n",
      "- 평균혼잡강도              1    3.3777 1089.7 -2188.8\n",
      "- 안전지대수                1    4.0749 1090.4 -2187.1\n",
      "- 이상평균기온동반사고건수  1    6.4211 1092.8 -2181.6\n",
      "- 이상평균습도동반사고건수  1    7.2860 1093.6 -2179.5\n",
      "- 횡단보도수                1   23.7658 1110.1 -2141.1\n",
      "\n",
      "Step:  AIC=-2194.89\n",
      "차대사람..60대.이상 ~ 전체_추정교통량 + 이상평균기온동반사고건수 + \n",
      "    이상평균풍속동반사고건수 + 이상평균습도동반사고건수 + \n",
      "    이상적설량동반사고건수 + 이상안개시간동반사고건수 + \n",
      "    안전지대수 + 횡단보도수 + 평균혼잡강도\n",
      "\n",
      "                           Df Sum of Sq    RSS     AIC\n",
      "- 이상적설량동반사고건수    1    0.8136 1087.9 -2195.0\n",
      "<none>                                  1087.1 -2194.9\n",
      "+ 자동차대수                1    0.7800 1086.3 -2194.7\n",
      "+ 신호등_차량등수           1    0.7585 1086.4 -2194.7\n",
      "+ 이상강수량동반사고건수    1    0.4508 1086.7 -2193.9\n",
      "+ 정차금지지대수            1    0.3405 1086.8 -2193.7\n",
      "+ 건물면적                  1    0.2105 1086.9 -2193.4\n",
      "+ 교통안전표지수            1    0.0918 1087.0 -2193.1\n",
      "+ 신호등_보행자수           1    0.0834 1087.0 -2193.1\n",
      "+ 총거주인구수              1    0.0694 1087.0 -2193.1\n",
      "+ cctv수                    1    0.0419 1087.1 -2193.0\n",
      "+ 도로속도표시수            1    0.0359 1087.1 -2193.0\n",
      "+ 노드개수                  1    0.0002 1087.1 -2192.9\n",
      "+ 이상최대풍속동반사고건수  1    0.0000 1087.1 -2192.9\n",
      "- 이상평균풍속동반사고건수  1    1.7954 1088.9 -2192.6\n",
      "- 이상안개시간동반사고건수  1    2.6231 1089.7 -2190.7\n",
      "- 전체_추정교통량           1    2.7350 1089.8 -2190.4\n",
      "- 평균혼잡강도              1    3.4968 1090.6 -2188.6\n",
      "- 안전지대수                1    4.1861 1091.3 -2187.0\n",
      "- 이상평균기온동반사고건수  1    6.3226 1093.4 -2182.0\n",
      "- 이상평균습도동반사고건수  1    7.2993 1094.4 -2179.7\n",
      "- 횡단보도수                1   23.6848 1110.8 -2141.4\n",
      "\n",
      "Step:  AIC=-2194.96\n",
      "차대사람..60대.이상 ~ 전체_추정교통량 + 이상평균기온동반사고건수 + \n",
      "    이상평균풍속동반사고건수 + 이상평균습도동반사고건수 + \n",
      "    이상안개시간동반사고건수 + 안전지대수 + \n",
      "    횡단보도수 + 평균혼잡강도\n",
      "\n",
      "                           Df Sum of Sq    RSS     AIC\n",
      "<none>                                  1087.9 -2195.0\n",
      "+ 이상적설량동반사고건수    1    0.8136 1087.1 -2194.9\n",
      "+ 신호등_차량등수           1    0.7981 1087.1 -2194.8\n",
      "+ 자동차대수                1    0.7823 1087.2 -2194.8\n",
      "+ 이상강수량동반사고건수    1    0.4316 1087.5 -2194.0\n",
      "+ 정차금지지대수            1    0.3057 1087.6 -2193.7\n",
      "+ 건물면적                  1    0.1748 1087.8 -2193.4\n",
      "+ 신호등_보행자수           1    0.1278 1087.8 -2193.3\n",
      "+ 교통안전표지수            1    0.0763 1087.9 -2193.1\n",
      "+ 총거주인구수              1    0.0726 1087.9 -2193.1\n",
      "+ cctv수                    1    0.0336 1087.9 -2193.0\n",
      "+ 도로속도표시수            1    0.0252 1087.9 -2193.0\n",
      "+ 이상최대풍속동반사고건수  1    0.0037 1087.9 -2193.0\n",
      "+ 노드개수                  1    0.0000 1087.9 -2193.0\n",
      "- 이상평균풍속동반사고건수  1    2.0753 1090.0 -2192.1\n",
      "- 전체_추정교통량           1    2.7140 1090.7 -2190.6\n",
      "- 이상안개시간동반사고건수  1    2.7524 1090.7 -2190.5\n",
      "- 평균혼잡강도              1    3.5550 1091.5 -2188.6\n",
      "- 안전지대수                1    4.1403 1092.1 -2187.2\n",
      "- 이상평균습도동반사고건수  1    7.4385 1095.4 -2179.4\n",
      "- 이상평균기온동반사고건수  1    8.2122 1096.1 -2177.6\n",
      "- 횡단보도수                1   23.7102 1111.6 -2141.5\n"
     ]
    },
    {
     "data": {
      "text/plain": [
       "\n",
       "Call:\n",
       "lm(formula = 차대사람..60대.이상 ~ 전체_추정교통량 + \n",
       "    이상평균기온동반사고건수 + 이상평균풍속동반사고건수 + \n",
       "    이상평균습도동반사고건수 + 이상안개시간동반사고건수 + \n",
       "    안전지대수 + 횡단보도수 + 평균혼잡강도, data = mod_data2)\n",
       "\n",
       "Residuals:\n",
       "    Min      1Q  Median      3Q     Max \n",
       "-1.7862 -0.3834 -0.2401  0.4636  5.1878 \n",
       "\n",
       "Coefficients:\n",
       "                           Estimate Std. Error t value Pr(>|t|)    \n",
       "(Intercept)               1.879e-01  2.121e-02   8.859  < 2e-16 ***\n",
       "전체_추정교통량          -7.376e-05  2.917e-05  -2.529  0.01151 *  \n",
       "이상평균기온동반사고건수  5.352e-02  1.217e-02   4.398 1.13e-05 ***\n",
       "이상평균풍속동반사고건수  2.810e-02  1.271e-02   2.211  0.02712 *  \n",
       "이상평균습도동반사고건수  5.222e-02  1.247e-02   4.186 2.93e-05 ***\n",
       "이상안개시간동반사고건수  6.832e-02  2.683e-02   2.546  0.01094 *  \n",
       "안전지대수               -5.131e-02  1.643e-02  -3.123  0.00181 ** \n",
       "횡단보도수                6.029e-02  8.067e-03   7.474 1.06e-13 ***\n",
       "평균혼잡강도              1.171e-03  4.048e-04   2.894  0.00384 ** \n",
       "---\n",
       "Signif. codes:  0 ‘***’ 0.001 ‘**’ 0.01 ‘*’ 0.05 ‘.’ 0.1 ‘ ’ 1\n",
       "\n",
       "Residual standard error: 0.6515 on 2563 degrees of freedom\n",
       "Multiple R-squared:  0.1461,\tAdjusted R-squared:  0.1434 \n",
       "F-statistic:  54.8 on 8 and 2563 DF,  p-value: < 2.2e-16\n"
      ]
     },
     "metadata": {},
     "output_type": "display_data"
    },
    {
     "data": {
      "text/plain": [
       "\n",
       "Call:\n",
       "lm(formula = 차대사람..60대.이상 ~ 이상평균기온동반사고건수 + \n",
       "    이상평균풍속동반사고건수 + 이상평균습도동반사고건수 + \n",
       "    이상안개시간동반사고건수 + 안전지대수 + \n",
       "    횡단보도수 + 자동차대수 + 평균혼잡강도, data = mod_data2)\n",
       "\n",
       "Residuals:\n",
       "    Min      1Q  Median      3Q     Max \n",
       "-1.7738 -0.3846 -0.2353  0.4581  5.2339 \n",
       "\n",
       "Coefficients:\n",
       "                           Estimate Std. Error t value Pr(>|t|)    \n",
       "(Intercept)               1.760e-01  2.168e-02   8.118 7.30e-16 ***\n",
       "이상평균기온동반사고건수  5.272e-02  1.217e-02   4.332 1.54e-05 ***\n",
       "이상평균풍속동반사고건수  2.638e-02  1.271e-02   2.075 0.038042 *  \n",
       "이상평균습도동반사고건수  5.028e-02  1.246e-02   4.035 5.61e-05 ***\n",
       "이상안개시간동반사고건수  6.638e-02  2.684e-02   2.473 0.013444 *  \n",
       "안전지대수               -5.758e-02  1.621e-02  -3.553 0.000387 ***\n",
       "횡단보도수                6.225e-02  8.039e-03   7.743 1.38e-14 ***\n",
       "자동차대수                1.199e-04  8.116e-05   1.478 0.139617    \n",
       "평균혼잡강도              6.922e-04  3.596e-04   1.925 0.054337 .  \n",
       "---\n",
       "Signif. codes:  0 ‘***’ 0.001 ‘**’ 0.01 ‘*’ 0.05 ‘.’ 0.1 ‘ ’ 1\n",
       "\n",
       "Residual standard error: 0.6521 on 2563 degrees of freedom\n",
       "Multiple R-squared:  0.1447,\tAdjusted R-squared:  0.142 \n",
       "F-statistic: 54.18 on 8 and 2563 DF,  p-value: < 2.2e-16\n"
      ]
     },
     "metadata": {},
     "output_type": "display_data"
    },
    {
     "data": {
      "text/html": [
       "'AIC: 5110.27'"
      ],
      "text/latex": [
       "'AIC: 5110.27'"
      ],
      "text/markdown": [
       "'AIC: 5110.27'"
      ],
      "text/plain": [
       "[1] \"AIC: 5110.27\""
      ]
     },
     "metadata": {},
     "output_type": "display_data"
    },
    {
     "data": {
      "text/plain": [
       "\n",
       "\tstudentized Breusch-Pagan test\n",
       "\n",
       "data:  mod1\n",
       "BP = 164.15, df = 8, p-value < 2.2e-16\n"
      ]
     },
     "metadata": {},
     "output_type": "display_data"
    },
    {
     "data": {
      "text/plain": [
       "\n",
       "\tDurbin-Watson test\n",
       "\n",
       "data:  mod1\n",
       "DW = 1.9994, p-value = 0.492\n",
       "alternative hypothesis: true autocorrelation is greater than 0\n"
      ]
     },
     "metadata": {},
     "output_type": "display_data"
    },
    {
     "data": {
      "text/plain": [
       "\n",
       "\tShapiro-Wilk normality test\n",
       "\n",
       "data:  residuals(mod1)\n",
       "W = 0.85343, p-value < 2.2e-16\n"
      ]
     },
     "metadata": {},
     "output_type": "display_data"
    }
   ],
   "source": [
    "mod_data2 <- person_over60 %>%\n",
    "  dplyr::select(신호등_보행자수:총거주인구수, 차대사람..60대.이상) %>%\n",
    "  mutate(평균혼잡강도=(혼잡빈도강도 + 혼잡시간강도)/2) %>%\n",
    "  dplyr::select(-혼잡빈도강도, -혼잡시간강도, -이상최저온도동반사고건수, -이상최고온도동반사고건수, -이상평균지면온도동반사고건수)\n",
    "\n",
    "mod <- lm(`차대사람..60대.이상`~., mod_data2)\n",
    "# 회귀분석의 변수선택(stepwise 방법)\n",
    "summary(step(mod,direction = 'both'))\n",
    "mod1 <- lm(formula = 차대사람..60대.이상 ~ 이상평균기온동반사고건수 + \n",
    "           이상평균풍속동반사고건수 + 이상평균습도동반사고건수 + 이상안개시간동반사고건수 + \n",
    "           안전지대수 + 횡단보도수 + 자동차대수 + 평균혼잡강도, data = mod_data2)\n",
    "summary(mod1)\n",
    "paste(\"AIC:\", round(AIC(mod1), 2))\n",
    "\n",
    "# OLS의 기본 가정들을 만족하는지 확인 - 등분산성, 독립성, 정규성\n",
    "bptest(mod1) # 등분산성은 만족하지 않음(유의수준 0.05)\n",
    "dwtest(mod1) # 독립성은 만족(유의수준=0.05)\n",
    "shapiro.test(x=residuals(mod1)) # 정규성 만족하지 않음(유의수준=0.05)"
   ]
  },
  {
   "cell_type": "markdown",
   "id": "worthy-transportation",
   "metadata": {},
   "source": [
    "##### OLS 모델 적용 - 차대사람..50대"
   ]
  },
  {
   "cell_type": "code",
   "execution_count": 9,
   "id": "dental-portable",
   "metadata": {},
   "outputs": [
    {
     "data": {
      "text/plain": [
       "\n",
       "Call:\n",
       "lm(formula = 차대사람..50대 ~ 이상평균기온동반사고건수 + \n",
       "    이상최대풍속동반사고건수 + 이상평균풍속동반사고건수 + \n",
       "    이상평균습도동반사고건수 + 이상강수량동반사고건수 + \n",
       "    안전지대수 + 횡단보도수, data = mod_data2)\n",
       "\n",
       "Residuals:\n",
       "    Min      1Q  Median      3Q     Max \n",
       "-1.3787 -0.2436 -0.1351 -0.0939  4.6271 \n",
       "\n",
       "Coefficients:\n",
       "                          Estimate Std. Error t value Pr(>|t|)    \n",
       "(Intercept)               0.094128   0.014437   6.520 8.53e-11 ***\n",
       "이상평균기온동반사고건수  0.040988   0.009598   4.270 2.03e-05 ***\n",
       "이상최대풍속동반사고건수 -0.031677   0.012793  -2.476  0.01335 *  \n",
       "이상평균풍속동반사고건수  0.032998   0.012695   2.599  0.00940 ** \n",
       "이상평균습도동반사고건수  0.042206   0.010893   3.874  0.00011 ***\n",
       "이상강수량동반사고건수    0.023483   0.016125   1.456  0.14543    \n",
       "안전지대수               -0.042432   0.012941  -3.279  0.00106 ** \n",
       "횡단보도수                0.037372   0.005919   6.314 3.23e-10 ***\n",
       "---\n",
       "Signif. codes:  0 ‘***’ 0.001 ‘**’ 0.01 ‘*’ 0.05 ‘.’ 0.1 ‘ ’ 1\n",
       "\n",
       "Residual standard error: 0.4836 on 2405 degrees of freedom\n",
       "Multiple R-squared:  0.1168,\tAdjusted R-squared:  0.1142 \n",
       "F-statistic: 45.44 on 7 and 2405 DF,  p-value: < 2.2e-16\n"
      ]
     },
     "metadata": {},
     "output_type": "display_data"
    },
    {
     "data": {
      "text/html": [
       "'AIC: 3351.22'"
      ],
      "text/latex": [
       "'AIC: 3351.22'"
      ],
      "text/markdown": [
       "'AIC: 3351.22'"
      ],
      "text/plain": [
       "[1] \"AIC: 3351.22\""
      ]
     },
     "metadata": {},
     "output_type": "display_data"
    },
    {
     "data": {
      "text/plain": [
       "\n",
       "\tstudentized Breusch-Pagan test\n",
       "\n",
       "data:  mod1\n",
       "BP = 130.45, df = 7, p-value < 2.2e-16\n"
      ]
     },
     "metadata": {},
     "output_type": "display_data"
    },
    {
     "data": {
      "text/plain": [
       "\n",
       "\tDurbin-Watson test\n",
       "\n",
       "data:  mod1\n",
       "DW = 2.0242, p-value = 0.7235\n",
       "alternative hypothesis: true autocorrelation is greater than 0\n"
      ]
     },
     "metadata": {},
     "output_type": "display_data"
    },
    {
     "data": {
      "text/plain": [
       "\n",
       "\tShapiro-Wilk normality test\n",
       "\n",
       "data:  residuals(mod1)\n",
       "W = 0.75623, p-value < 2.2e-16\n"
      ]
     },
     "metadata": {},
     "output_type": "display_data"
    }
   ],
   "source": [
    "mod_data2 <- person_50 %>%\n",
    "  dplyr::select(신호등_보행자수:총거주인구수, 차대사람..50대) %>%\n",
    "  mutate(평균혼잡강도=(혼잡빈도강도 + 혼잡시간강도)/2) %>%\n",
    "  dplyr::select(-혼잡빈도강도, -혼잡시간강도, -이상최저온도동반사고건수, -이상최고온도동반사고건수, -이상평균지면온도동반사고건수)\n",
    "\n",
    "mod <- lm(`차대사람..50대`~., mod_data2)\n",
    "# summary(step(mod,direction = 'both'))\n",
    "mod1 <- lm(formula = 차대사람..50대 ~ 이상평균기온동반사고건수 + 이상최대풍속동반사고건수 + \n",
    "           이상평균풍속동반사고건수 + 이상평균습도동반사고건수 + 이상강수량동반사고건수 + \n",
    "           안전지대수 + 횡단보도수, data = mod_data2)\n",
    "summary(mod1)\n",
    "paste(\"AIC:\", round(AIC(mod1), 2))\n",
    "\n",
    "# OLS의 기본 가정들을 만족하는지 확인 - 등분산성, 독립성, 정규성\n",
    "bptest(mod1) # 등분산성은 만족하지 않음(유의수준 0.05)\n",
    "dwtest(mod1) # 독립성은 만족(유의수준=0.05)\n",
    "shapiro.test(x=residuals(mod1)) # 정규성 만족하지 않음(유의수준=0.05)"
   ]
  },
  {
   "cell_type": "markdown",
   "id": "numeric-yahoo",
   "metadata": {},
   "source": [
    "##### OLS 모델 적용 - 차대사람..40대"
   ]
  },
  {
   "cell_type": "code",
   "execution_count": 10,
   "id": "apparent-triangle",
   "metadata": {},
   "outputs": [
    {
     "data": {
      "text/plain": [
       "\n",
       "Call:\n",
       "lm(formula = 차대사람..40대 ~ 신호등_보행자수 + 신호등_차량등수 + \n",
       "    이상평균기온동반사고건수 + 이상최대풍속동반사고건수 + \n",
       "    이상강수량동반사고건수 + 이상적설량동반사고건수 + \n",
       "    도로속도표시수 + 횡단보도수 + 전체_추정교통량 + \n",
       "    평균혼잡강도, data = mod_data2)\n",
       "\n",
       "Residuals:\n",
       "    Min      1Q  Median      3Q     Max \n",
       "-1.2402 -0.2015 -0.1260 -0.0723  3.3554 \n",
       "\n",
       "Coefficients:\n",
       "                           Estimate Std. Error t value Pr(>|t|)    \n",
       "(Intercept)               7.231e-02  1.510e-02   4.791 1.77e-06 ***\n",
       "신호등_보행자수           1.839e-02  9.432e-03   1.950 0.051305 .  \n",
       "신호등_차량등수          -1.445e-02  6.196e-03  -2.332 0.019766 *  \n",
       "이상평균기온동반사고건수  2.670e-02  8.561e-03   3.118 0.001841 ** \n",
       "이상최대풍속동반사고건수  2.107e-02  9.200e-03   2.290 0.022130 *  \n",
       "이상강수량동반사고건수    4.544e-02  1.269e-02   3.582 0.000348 ***\n",
       "이상적설량동반사고건수    4.251e-02  2.314e-02   1.837 0.066332 .  \n",
       "도로속도표시수           -8.829e-03  6.390e-03  -1.382 0.167228    \n",
       "횡단보도수                2.671e-02  6.346e-03   4.210 2.66e-05 ***\n",
       "전체_추정교통량          -2.846e-05  1.969e-05  -1.446 0.148380    \n",
       "평균혼잡강도              6.909e-04  2.724e-04   2.536 0.011268 *  \n",
       "---\n",
       "Signif. codes:  0 ‘***’ 0.001 ‘**’ 0.01 ‘*’ 0.05 ‘.’ 0.1 ‘ ’ 1\n",
       "\n",
       "Residual standard error: 0.4306 on 2309 degrees of freedom\n",
       "Multiple R-squared:  0.09382,\tAdjusted R-squared:  0.0899 \n",
       "F-statistic: 23.91 on 10 and 2309 DF,  p-value: < 2.2e-16\n"
      ]
     },
     "metadata": {},
     "output_type": "display_data"
    },
    {
     "data": {
      "text/html": [
       "'AIC: 2686.9'"
      ],
      "text/latex": [
       "'AIC: 2686.9'"
      ],
      "text/markdown": [
       "'AIC: 2686.9'"
      ],
      "text/plain": [
       "[1] \"AIC: 2686.9\""
      ]
     },
     "metadata": {},
     "output_type": "display_data"
    },
    {
     "data": {
      "text/plain": [
       "\n",
       "\tstudentized Breusch-Pagan test\n",
       "\n",
       "data:  mod1\n",
       "BP = 134.96, df = 10, p-value < 2.2e-16\n"
      ]
     },
     "metadata": {},
     "output_type": "display_data"
    },
    {
     "data": {
      "text/plain": [
       "\n",
       "\tDurbin-Watson test\n",
       "\n",
       "data:  mod1\n",
       "DW = 1.9961, p-value = 0.4613\n",
       "alternative hypothesis: true autocorrelation is greater than 0\n"
      ]
     },
     "metadata": {},
     "output_type": "display_data"
    },
    {
     "data": {
      "text/plain": [
       "\n",
       "\tShapiro-Wilk normality test\n",
       "\n",
       "data:  residuals(mod1)\n",
       "W = 0.70634, p-value < 2.2e-16\n"
      ]
     },
     "metadata": {},
     "output_type": "display_data"
    }
   ],
   "source": [
    "mod_data2 <- person_40 %>%\n",
    "  dplyr::select(신호등_보행자수:총거주인구수, 차대사람..40대) %>%\n",
    "  mutate(평균혼잡강도=(혼잡빈도강도 + 혼잡시간강도)/2) %>%\n",
    "  dplyr::select(-혼잡빈도강도, -혼잡시간강도, -이상최저온도동반사고건수, -이상최고온도동반사고건수, -이상평균지면온도동반사고건수)\n",
    "\n",
    "mod <- lm(`차대사람..40대`~., mod_data2)\n",
    "# summary(step(mod,direction = 'both'))\n",
    "mod1 <- lm(formula = 차대사람..40대 ~ 신호등_보행자수 + 신호등_차량등수 + \n",
    "           이상평균기온동반사고건수 + 이상최대풍속동반사고건수 + 이상강수량동반사고건수 + \n",
    "           이상적설량동반사고건수 + 도로속도표시수 + 횡단보도수 + 전체_추정교통량 + \n",
    "           평균혼잡강도, data = mod_data2)\n",
    "summary(mod1)\n",
    "paste(\"AIC:\", round(AIC(mod1), 2))\n",
    "\n",
    "# OLS의 기본 가정들을 만족하는지 확인 - 등분산성, 독립성, 정규성\n",
    "bptest(mod1) # 등분산성은 만족하지 않음(유의수준 0.05)\n",
    "dwtest(mod1) # 독립성은 만족(유의수준=0.05)\n",
    "shapiro.test(x=residuals(mod1)) # 정규성 만족하지 않음(유의수준=0.05)"
   ]
  },
  {
   "cell_type": "markdown",
   "id": "announced-updating",
   "metadata": {},
   "source": [
    "##### OLS 모델 적용 - 차대사람..30대"
   ]
  },
  {
   "cell_type": "code",
   "execution_count": 11,
   "id": "defined-label",
   "metadata": {},
   "outputs": [
    {
     "data": {
      "text/plain": [
       "\n",
       "Call:\n",
       "lm(formula = 차대사람..30대 ~ 신호등_차량등수 + cctv수 + \n",
       "    이상평균기온동반사고건수 + 이상최대풍속동반사고건수 + \n",
       "    이상평균습도동반사고건수 + 이상강수량동반사고건수 + \n",
       "    이상적설량동반사고건수 + 정차금지지대수 + \n",
       "    횡단보도수 + 총거주인구수 + 전체_추정교통량, \n",
       "    data = mod_data2)\n",
       "\n",
       "Residuals:\n",
       "    Min      1Q  Median      3Q     Max \n",
       "-1.2874 -0.1793 -0.0932 -0.0339  4.2475 \n",
       "\n",
       "Coefficients:\n",
       "                           Estimate Std. Error t value Pr(>|t|)    \n",
       "(Intercept)               2.937e-02  1.621e-02   1.812  0.07014 .  \n",
       "신호등_차량등수          -1.079e-02  3.969e-03  -2.718  0.00661 ** \n",
       "cctv수                   -1.234e-01  4.166e-02  -2.962  0.00309 ** \n",
       "이상평균기온동반사고건수  4.536e-02  8.801e-03   5.154 2.79e-07 ***\n",
       "이상최대풍속동반사고건수  1.874e-02  9.090e-03   2.062  0.03933 *  \n",
       "이상평균습도동반사고건수  1.744e-02  9.796e-03   1.781  0.07508 .  \n",
       "이상강수량동반사고건수    2.678e-02  1.438e-02   1.863  0.06257 .  \n",
       "이상적설량동반사고건수    4.230e-02  2.216e-02   1.908  0.05647 .  \n",
       "정차금지지대수            2.147e-01  1.082e-01   1.985  0.04733 *  \n",
       "횡단보도수                3.158e-02  5.981e-03   5.281 1.42e-07 ***\n",
       "총거주인구수              8.500e-05  5.209e-05   1.632  0.10287    \n",
       "전체_추정교통량          -2.019e-05  1.781e-05  -1.134  0.25694    \n",
       "---\n",
       "Signif. codes:  0 ‘***’ 0.001 ‘**’ 0.01 ‘*’ 0.05 ‘.’ 0.1 ‘ ’ 1\n",
       "\n",
       "Residual standard error: 0.4096 on 2101 degrees of freedom\n",
       "Multiple R-squared:  0.1318,\tAdjusted R-squared:  0.1272 \n",
       "F-statistic: 28.99 on 11 and 2101 DF,  p-value: < 2.2e-16\n"
      ]
     },
     "metadata": {},
     "output_type": "display_data"
    },
    {
     "data": {
      "text/html": [
       "'AIC: 2238.31'"
      ],
      "text/latex": [
       "'AIC: 2238.31'"
      ],
      "text/markdown": [
       "'AIC: 2238.31'"
      ],
      "text/plain": [
       "[1] \"AIC: 2238.31\""
      ]
     },
     "metadata": {},
     "output_type": "display_data"
    },
    {
     "data": {
      "text/plain": [
       "\n",
       "\tstudentized Breusch-Pagan test\n",
       "\n",
       "data:  mod1\n",
       "BP = 196.33, df = 11, p-value < 2.2e-16\n"
      ]
     },
     "metadata": {},
     "output_type": "display_data"
    },
    {
     "data": {
      "text/plain": [
       "\n",
       "\tDurbin-Watson test\n",
       "\n",
       "data:  mod1\n",
       "DW = 1.9806, p-value = 0.3256\n",
       "alternative hypothesis: true autocorrelation is greater than 0\n"
      ]
     },
     "metadata": {},
     "output_type": "display_data"
    },
    {
     "data": {
      "text/plain": [
       "\n",
       "\tShapiro-Wilk normality test\n",
       "\n",
       "data:  residuals(mod1)\n",
       "W = 0.69851, p-value < 2.2e-16\n"
      ]
     },
     "metadata": {},
     "output_type": "display_data"
    }
   ],
   "source": [
    "mod_data2 <- person_30 %>%\n",
    "  dplyr::select(신호등_보행자수:총거주인구수, 차대사람..30대) %>%\n",
    "  mutate(평균혼잡강도=(혼잡빈도강도 + 혼잡시간강도)/2) %>%\n",
    "  dplyr::select(-혼잡빈도강도, -혼잡시간강도, -이상최저온도동반사고건수, -이상최고온도동반사고건수, -이상평균지면온도동반사고건수)\n",
    "\n",
    "mod <- lm(`차대사람..30대`~., mod_data2)\n",
    "#회귀분석의 변수선택(stepwise 방법)\n",
    "# summary(step(mod,direction = 'both'))\n",
    "\n",
    "mod1 <- lm(formula = 차대사람..30대 ~ 신호등_차량등수 + cctv수 + 이상평균기온동반사고건수 + \n",
    "           이상최대풍속동반사고건수 + 이상평균습도동반사고건수 + 이상강수량동반사고건수 + \n",
    "           이상적설량동반사고건수 + 정차금지지대수 + 횡단보도수 + 총거주인구수 + \n",
    "           전체_추정교통량, data = mod_data2)\n",
    "summary(mod1)\n",
    "paste(\"AIC:\", round(AIC(mod1), 2))\n",
    "\n",
    "# OLS의 기본 가정들을 만족하는지 확인 - 등분산성, 독립성, 정규성\n",
    "bptest(mod1) # 등분산성은 만족하지 않음(유의수준 0.05)\n",
    "dwtest(mod1) # 독립성은 만족(유의수준=0.05)\n",
    "shapiro.test(x=residuals(mod1)) # 정규성 만족하지 않음(유의수준=0.05)"
   ]
  },
  {
   "cell_type": "markdown",
   "id": "otherwise-psychiatry",
   "metadata": {},
   "source": [
    "##### OLS 모델 적용 - 차대사람..20대"
   ]
  },
  {
   "cell_type": "code",
   "execution_count": 12,
   "id": "exceptional-shakespeare",
   "metadata": {},
   "outputs": [
    {
     "data": {
      "text/plain": [
       "\n",
       "Call:\n",
       "lm(formula = 차대사람..20대 ~ 신호등_보행자수 + 신호등_차량등수 + \n",
       "    cctv수 + 이상평균기온동반사고건수 + 이상최대풍속동반사고건수 + \n",
       "    이상평균풍속동반사고건수 + 이상평균습도동반사고건수 + \n",
       "    이상강수량동반사고건수 + 이상적설량동반사고건수 + \n",
       "    정차금지지대수 + 도로속도표시수 + 노드개수, \n",
       "    data = mod_data2)\n",
       "\n",
       "Residuals:\n",
       "    Min      1Q  Median      3Q     Max \n",
       "-8.2410 -0.3240 -0.0373  0.1943 30.7123 \n",
       "\n",
       "Coefficients:\n",
       "                         Estimate Std. Error t value Pr(>|t|)    \n",
       "(Intercept)               0.03732    0.04322   0.864 0.387966    \n",
       "신호등_보행자수           0.08047    0.03092   2.603 0.009320 ** \n",
       "신호등_차량등수          -0.09950    0.02183  -4.558 5.53e-06 ***\n",
       "cctv수                   -0.81354    0.14882  -5.467 5.25e-08 ***\n",
       "이상평균기온동반사고건수  0.22614    0.03127   7.233 7.05e-13 ***\n",
       "이상최대풍속동반사고건수  0.17857    0.03872   4.612 4.28e-06 ***\n",
       "이상평균풍속동반사고건수  0.06059    0.03786   1.601 0.109631    \n",
       "이상평균습도동반사고건수  0.07215    0.03570   2.021 0.043410 *  \n",
       "이상강수량동반사고건수   -0.16962    0.05103  -3.324 0.000906 ***\n",
       "이상적설량동반사고건수    0.47577    0.07953   5.983 2.66e-09 ***\n",
       "정차금지지대수            2.45718    0.43862   5.602 2.46e-08 ***\n",
       "도로속도표시수           -0.07720    0.02259  -3.417 0.000647 ***\n",
       "노드개수                 -0.18167    0.06248  -2.908 0.003688 ** \n",
       "---\n",
       "Signif. codes:  0 ‘***’ 0.001 ‘**’ 0.01 ‘*’ 0.05 ‘.’ 0.1 ‘ ’ 1\n",
       "\n",
       "Residual standard error: 1.346 on 1745 degrees of freedom\n",
       "Multiple R-squared:  0.2587,\tAdjusted R-squared:  0.2536 \n",
       "F-statistic: 50.74 on 12 and 1745 DF,  p-value: < 2.2e-16\n"
      ]
     },
     "metadata": {},
     "output_type": "display_data"
    },
    {
     "data": {
      "text/html": [
       "'AIC: 6047.79'"
      ],
      "text/latex": [
       "'AIC: 6047.79'"
      ],
      "text/markdown": [
       "'AIC: 6047.79'"
      ],
      "text/plain": [
       "[1] \"AIC: 6047.79\""
      ]
     },
     "metadata": {},
     "output_type": "display_data"
    },
    {
     "data": {
      "text/plain": [
       "\n",
       "\tstudentized Breusch-Pagan test\n",
       "\n",
       "data:  mod1\n",
       "BP = 405.1, df = 12, p-value < 2.2e-16\n"
      ]
     },
     "metadata": {},
     "output_type": "display_data"
    },
    {
     "data": {
      "text/plain": [
       "\n",
       "\tDurbin-Watson test\n",
       "\n",
       "data:  mod1\n",
       "DW = 1.9891, p-value = 0.4094\n",
       "alternative hypothesis: true autocorrelation is greater than 0\n"
      ]
     },
     "metadata": {},
     "output_type": "display_data"
    },
    {
     "data": {
      "text/plain": [
       "\n",
       "\tShapiro-Wilk normality test\n",
       "\n",
       "data:  residuals(mod1)\n",
       "W = 0.42222, p-value < 2.2e-16\n"
      ]
     },
     "metadata": {},
     "output_type": "display_data"
    }
   ],
   "source": [
    "mod_data2 <- person_20 %>%\n",
    "  dplyr::select(신호등_보행자수:총거주인구수, 차대사람..20대) %>%\n",
    "  mutate(평균혼잡강도=(혼잡빈도강도 + 혼잡시간강도)/2) %>%\n",
    "  dplyr::select(-혼잡빈도강도, -혼잡시간강도, -이상최저온도동반사고건수, -이상최고온도동반사고건수, -이상평균지면온도동반사고건수)\n",
    "\n",
    "mod <- lm(`차대사람..20대`~., mod_data2)\n",
    "#회귀분석의 변수선택(stepwise 방법)\n",
    "# summary(step(mod,direction = 'both'))\n",
    "\n",
    "mod1 <- lm(formula = 차대사람..20대 ~ 신호등_보행자수 + 신호등_차량등수 + \n",
    "           cctv수 + 이상평균기온동반사고건수 + 이상최대풍속동반사고건수 + \n",
    "           이상평균풍속동반사고건수 + 이상평균습도동반사고건수 + 이상강수량동반사고건수 + \n",
    "           이상적설량동반사고건수 + 정차금지지대수 + 도로속도표시수 + \n",
    "           노드개수, data = mod_data2)\n",
    "summary(mod1)\n",
    "paste(\"AIC:\", round(AIC(mod1), 2))\n",
    "\n",
    "# OLS의 기본 가정들을 만족하는지 확인 - 등분산성, 독립성, 정규성\n",
    "bptest(mod1) # 등분산성은 만족하지 않음(유의수준 0.05)\n",
    "dwtest(mod1) # 독립성은 만족(유의수준=0.05)\n",
    "shapiro.test(x=residuals(mod1)) # 정규성 만족하지 않음(유의수준=0.05)"
   ]
  },
  {
   "cell_type": "markdown",
   "id": "broad-bradford",
   "metadata": {},
   "source": [
    "##### OLS 모델 적용 - 차대사람..20대미만"
   ]
  },
  {
   "cell_type": "code",
   "execution_count": 13,
   "id": "selected-customs",
   "metadata": {},
   "outputs": [
    {
     "data": {
      "text/plain": [
       "\n",
       "Call:\n",
       "lm(formula = 차대사람..20대.미만 ~ 신호등_보행자수 + \n",
       "    신호등_차량등수 + cctv수 + 이상평균기온동반사고건수 + \n",
       "    이상평균풍속동반사고건수 + 이상평균습도동반사고건수 + \n",
       "    이상적설량동반사고건수 + 이상안개시간동반사고건수 + \n",
       "    안전지대수 + 정차금지지대수 + 노드개수 + \n",
       "    횡단보도수 + 총거주인구수 + 전체_추정교통량, \n",
       "    data = mod_data2)\n",
       "\n",
       "Residuals:\n",
       "    Min      1Q  Median      3Q     Max \n",
       "-1.7979 -0.2291 -0.1247 -0.0340  8.8293 \n",
       "\n",
       "Coefficients:\n",
       "                           Estimate Std. Error t value Pr(>|t|)    \n",
       "(Intercept)               7.876e-02  2.054e-02   3.835 0.000129 ***\n",
       "신호등_보행자수           4.471e-02  1.138e-02   3.929 8.81e-05 ***\n",
       "신호등_차량등수          -1.442e-02  7.552e-03  -1.909 0.056409 .  \n",
       "cctv수                   -2.169e-01  6.041e-02  -3.591 0.000337 ***\n",
       "이상평균기온동반사고건수  7.887e-02  1.147e-02   6.879 7.84e-12 ***\n",
       "이상평균풍속동반사고건수  3.540e-02  1.195e-02   2.963 0.003078 ** \n",
       "이상평균습도동반사고건수  4.131e-02  1.134e-02   3.642 0.000277 ***\n",
       "이상적설량동반사고건수    8.103e-02  2.990e-02   2.710 0.006776 ** \n",
       "이상안개시간동반사고건수 -4.705e-02  2.463e-02  -1.910 0.056261 .  \n",
       "안전지대수               -2.337e-02  1.455e-02  -1.606 0.108404    \n",
       "정차금지지대수            1.722e-01  8.744e-02   1.970 0.048984 *  \n",
       "노드개수                 -4.483e-02  2.302e-02  -1.947 0.051650 .  \n",
       "횡단보도수                9.513e-03  7.938e-03   1.198 0.230879    \n",
       "총거주인구수              1.816e-04  5.761e-05   3.152 0.001641 ** \n",
       "전체_추정교통량          -7.673e-05  2.352e-05  -3.262 0.001121 ** \n",
       "---\n",
       "Signif. codes:  0 ‘***’ 0.001 ‘**’ 0.01 ‘*’ 0.05 ‘.’ 0.1 ‘ ’ 1\n",
       "\n",
       "Residual standard error: 0.5169 on 2191 degrees of freedom\n",
       "Multiple R-squared:  0.1597,\tAdjusted R-squared:  0.1543 \n",
       "F-statistic: 29.75 on 14 and 2191 DF,  p-value: < 2.2e-16\n"
      ]
     },
     "metadata": {},
     "output_type": "display_data"
    },
    {
     "data": {
      "text/html": [
       "'AIC: 3365.99'"
      ],
      "text/latex": [
       "'AIC: 3365.99'"
      ],
      "text/markdown": [
       "'AIC: 3365.99'"
      ],
      "text/plain": [
       "[1] \"AIC: 3365.99\""
      ]
     },
     "metadata": {},
     "output_type": "display_data"
    },
    {
     "data": {
      "text/plain": [
       "\n",
       "\tstudentized Breusch-Pagan test\n",
       "\n",
       "data:  mod1\n",
       "BP = 279.57, df = 14, p-value < 2.2e-16\n"
      ]
     },
     "metadata": {},
     "output_type": "display_data"
    },
    {
     "data": {
      "text/plain": [
       "\n",
       "\tDurbin-Watson test\n",
       "\n",
       "data:  mod1\n",
       "DW = 1.9586, p-value = 0.1647\n",
       "alternative hypothesis: true autocorrelation is greater than 0\n"
      ]
     },
     "metadata": {},
     "output_type": "display_data"
    },
    {
     "data": {
      "text/plain": [
       "\n",
       "\tShapiro-Wilk normality test\n",
       "\n",
       "data:  residuals(mod1)\n",
       "W = 0.73307, p-value < 2.2e-16\n"
      ]
     },
     "metadata": {},
     "output_type": "display_data"
    }
   ],
   "source": [
    "mod_data2 <- person_under20 %>%\n",
    "  dplyr::select(신호등_보행자수:총거주인구수, 차대사람..20대.미만) %>%\n",
    "  mutate(평균혼잡강도=(혼잡빈도강도 + 혼잡시간강도)/2) %>%\n",
    "  dplyr::select(-혼잡빈도강도, -혼잡시간강도, -이상최저온도동반사고건수, -이상최고온도동반사고건수, -이상평균지면온도동반사고건수)\n",
    "\n",
    "mod <- lm(`차대사람..20대.미만`~., mod_data2)\n",
    "#회귀분석의 변수선택(stepwise 방법)\n",
    "# summary(step(mod,direction = 'both'))\n",
    "\n",
    "mod1 <- lm(formula = 차대사람..20대.미만 ~ 신호등_보행자수 + 신호등_차량등수 + \n",
    "           cctv수 + 이상평균기온동반사고건수 + 이상평균풍속동반사고건수 + \n",
    "           이상평균습도동반사고건수 + 이상적설량동반사고건수 + 이상안개시간동반사고건수 + \n",
    "           안전지대수 + 정차금지지대수 + 노드개수 + 횡단보도수 + 총거주인구수 + \n",
    "           전체_추정교통량, data = mod_data2)\n",
    "summary(mod1)\n",
    "paste(\"AIC:\", round(AIC(mod1), 2))\n",
    "\n",
    "# OLS의 기본 가정들을 만족하는지 확인 - 등분산성, 독립성, 정규성\n",
    "bptest(mod1) # 등분산성은 만족하지 않음(유의수준 0.05)\n",
    "dwtest(mod1) # 독립성은 만족(유의수준=0.05)\n",
    "shapiro.test(x=residuals(mod1)) # 정규성 만족하지 않음(유의수준=0.05)"
   ]
  },
  {
   "cell_type": "markdown",
   "id": "hungarian-survey",
   "metadata": {},
   "source": [
    "##### OLS 모델 적용 - 차대차-60대이상"
   ]
  },
  {
   "cell_type": "code",
   "execution_count": 14,
   "id": "computational-stream",
   "metadata": {},
   "outputs": [
    {
     "data": {
      "text/plain": [
       "\n",
       "Call:\n",
       "lm(formula = 차대차..60대.이상 ~ 신호등_차량등수 + \n",
       "    cctv수 + 이상평균기온동반사고건수 + 이상최대풍속동반사고건수 + \n",
       "    이상평균풍속동반사고건수 + 이상평균습도동반사고건수 + \n",
       "    이상적설량동반사고건수 + 이상안개시간동반사고건수 + \n",
       "    안전지대수 + 정차금지지대수 + 도로속도표시수 + \n",
       "    횡단보도수 + 전체_추정교통량, data = mod_data2)\n",
       "\n",
       "Residuals:\n",
       "    Min      1Q  Median      3Q     Max \n",
       "-6.8780 -0.4699 -0.0999  0.4609  8.8293 \n",
       "\n",
       "Coefficients:\n",
       "                           Estimate Std. Error t value Pr(>|t|)    \n",
       "(Intercept)               5.382e-02  2.643e-02   2.037  0.04177 *  \n",
       "신호등_차량등수           4.762e-02  7.149e-03   6.661 3.20e-11 ***\n",
       "cctv수                    3.023e-01  7.018e-02   4.308 1.70e-05 ***\n",
       "이상평균기온동반사고건수  1.343e-01  1.632e-02   8.228 2.76e-16 ***\n",
       "이상최대풍속동반사고건수  1.119e-01  2.057e-02   5.440 5.73e-08 ***\n",
       "이상평균풍속동반사고건수  1.343e-01  1.989e-02   6.754 1.71e-11 ***\n",
       "이상평균습도동반사고건수  1.890e-01  1.601e-02  11.804  < 2e-16 ***\n",
       "이상적설량동반사고건수   -1.034e-01  4.053e-02  -2.550  0.01081 *  \n",
       "이상안개시간동반사고건수  5.016e-02  3.434e-02   1.461  0.14420    \n",
       "안전지대수                4.609e-02  1.856e-02   2.483  0.01306 *  \n",
       "정차금지지대수            4.161e-01  1.450e-01   2.870  0.00413 ** \n",
       "도로속도표시수            4.462e-02  1.102e-02   4.048 5.29e-05 ***\n",
       "횡단보도수                2.756e-02  1.146e-02   2.405  0.01621 *  \n",
       "전체_추정교통량           1.054e-04  2.897e-05   3.638  0.00028 ***\n",
       "---\n",
       "Signif. codes:  0 ‘***’ 0.001 ‘**’ 0.01 ‘*’ 0.05 ‘.’ 0.1 ‘ ’ 1\n",
       "\n",
       "Residual standard error: 0.927 on 3125 degrees of freedom\n",
       "Multiple R-squared:  0.5242,\tAdjusted R-squared:  0.5222 \n",
       "F-statistic: 264.9 on 13 and 3125 DF,  p-value: < 2.2e-16\n"
      ]
     },
     "metadata": {},
     "output_type": "display_data"
    },
    {
     "data": {
      "text/html": [
       "'AIC: 8448.22'"
      ],
      "text/latex": [
       "'AIC: 8448.22'"
      ],
      "text/markdown": [
       "'AIC: 8448.22'"
      ],
      "text/plain": [
       "[1] \"AIC: 8448.22\""
      ]
     },
     "metadata": {},
     "output_type": "display_data"
    },
    {
     "data": {
      "text/plain": [
       "\n",
       "\tstudentized Breusch-Pagan test\n",
       "\n",
       "data:  mod1\n",
       "BP = 719.73, df = 13, p-value < 2.2e-16\n"
      ]
     },
     "metadata": {},
     "output_type": "display_data"
    },
    {
     "data": {
      "text/plain": [
       "\n",
       "\tDurbin-Watson test\n",
       "\n",
       "data:  mod1\n",
       "DW = 2, p-value = 0.4986\n",
       "alternative hypothesis: true autocorrelation is greater than 0\n"
      ]
     },
     "metadata": {},
     "output_type": "display_data"
    },
    {
     "data": {
      "text/plain": [
       "\n",
       "\tShapiro-Wilk normality test\n",
       "\n",
       "data:  residuals(mod1)\n",
       "W = 0.90315, p-value < 2.2e-16\n"
      ]
     },
     "metadata": {},
     "output_type": "display_data"
    }
   ],
   "source": [
    "mod_data2 <- car_over60 %>%\n",
    "  dplyr::select(신호등_보행자수:총거주인구수, 차대차..60대.이상) %>%\n",
    "  mutate(평균혼잡강도=(혼잡빈도강도 + 혼잡시간강도)/2) %>%\n",
    "  dplyr::select(-혼잡빈도강도, -혼잡시간강도, -이상최저온도동반사고건수, -이상최고온도동반사고건수, -이상평균지면온도동반사고건수)\n",
    "\n",
    "mod <- lm(`차대차..60대.이상`~., mod_data2)\n",
    "#회귀분석의 변수선택(stepwise 방법)\n",
    "# summary(step(mod,direction = 'both'))\n",
    "mod1 <- lm(차대차..60대.이상 ~ 신호등_차량등수 + cctv수 + 이상평균기온동반사고건수 + \n",
    "              이상최대풍속동반사고건수 + 이상평균풍속동반사고건수 + 이상평균습도동반사고건수 + \n",
    "              이상적설량동반사고건수 + 이상안개시간동반사고건수 + 안전지대수 + \n",
    "              정차금지지대수 + 도로속도표시수 + 횡단보도수 + 전체_추정교통량, data = mod_data2)\n",
    "summary(mod1)\n",
    "paste(\"AIC:\", round(AIC(mod1), 2))\n",
    "\n",
    "# OLS의 기본 가정들을 만족하는지 확인 - 등분산성, 독립성, 정규성\n",
    "bptest(mod1) # 등분산성은 만족하지 않음(유의수준 0.05)\n",
    "dwtest(mod1) # 독립성은 만족(유의수준=0.05)\n",
    "shapiro.test(x=residuals(mod1)) # 정규성 만족하지 않음(유의수준=0.05)"
   ]
  },
  {
   "cell_type": "markdown",
   "id": "twelve-municipality",
   "metadata": {},
   "source": [
    "##### OLS 모델 적용 - 차대차-50대"
   ]
  },
  {
   "cell_type": "code",
   "execution_count": 15,
   "id": "allied-bridal",
   "metadata": {},
   "outputs": [
    {
     "data": {
      "text/plain": [
       "\n",
       "Call:\n",
       "lm(formula = 차대차..50대 ~ 신호등_보행자수 + 신호등_차량등수 + \n",
       "    cctv수 + 이상평균기온동반사고건수 + 이상최대풍속동반사고건수 + \n",
       "    이상평균풍속동반사고건수 + 이상평균습도동반사고건수 + \n",
       "    이상강수량동반사고건수 + 이상적설량동반사고건수 + \n",
       "    이상안개시간동반사고건수 + 안전지대수 + \n",
       "    정차금지지대수 + 도로속도표시수 + 교통안전표지수 + \n",
       "    노드개수 + 횡단보도수 + 평균혼잡강도, data = mod_data2)\n",
       "\n",
       "Residuals:\n",
       "    Min      1Q  Median      3Q     Max \n",
       "-7.9003 -0.5380 -0.1419  0.5021 10.7417 \n",
       "\n",
       "Coefficients:\n",
       "                           Estimate Std. Error t value Pr(>|t|)    \n",
       "(Intercept)               0.1419147  0.0343686   4.129 3.74e-05 ***\n",
       "신호등_보행자수          -0.0733421  0.0193398  -3.792 0.000152 ***\n",
       "신호등_차량등수           0.1006748  0.0129466   7.776 1.01e-14 ***\n",
       "cctv수                    0.4842046  0.0812970   5.956 2.88e-09 ***\n",
       "이상평균기온동반사고건수  0.2433470  0.0186818  13.026  < 2e-16 ***\n",
       "이상최대풍속동반사고건수  0.0978669  0.0237148   4.127 3.78e-05 ***\n",
       "이상평균풍속동반사고건수  0.1239676  0.0228805   5.418 6.49e-08 ***\n",
       "이상평균습도동반사고건수  0.1566694  0.0208271   7.522 7.01e-14 ***\n",
       "이상강수량동반사고건수    0.1216868  0.0302396   4.024 5.86e-05 ***\n",
       "이상적설량동반사고건수    0.1142690  0.0462792   2.469 0.013598 *  \n",
       "이상안개시간동반사고건수  0.1235386  0.0404445   3.055 0.002273 ** \n",
       "안전지대수                0.0461767  0.0194176   2.378 0.017463 *  \n",
       "정차금지지대수           -0.3660492  0.1627373  -2.249 0.024562 *  \n",
       "도로속도표시수            0.0551501  0.0127854   4.314 1.66e-05 ***\n",
       "교통안전표지수            0.0152618  0.0062473   2.443 0.014624 *  \n",
       "노드개수                  0.1270471  0.0385004   3.300 0.000978 ***\n",
       "횡단보도수               -0.0373440  0.0147874  -2.525 0.011606 *  \n",
       "평균혼잡강도             -0.0015599  0.0005568  -2.802 0.005116 ** \n",
       "---\n",
       "Signif. codes:  0 ‘***’ 0.001 ‘**’ 0.01 ‘*’ 0.05 ‘.’ 0.1 ‘ ’ 1\n",
       "\n",
       "Residual standard error: 1.075 on 3099 degrees of freedom\n",
       "Multiple R-squared:  0.574,\tAdjusted R-squared:  0.5716 \n",
       "F-statistic: 245.6 on 17 and 3099 DF,  p-value: < 2.2e-16\n"
      ]
     },
     "metadata": {},
     "output_type": "display_data"
    },
    {
     "data": {
      "text/html": [
       "'AIC: 9315.52'"
      ],
      "text/latex": [
       "'AIC: 9315.52'"
      ],
      "text/markdown": [
       "'AIC: 9315.52'"
      ],
      "text/plain": [
       "[1] \"AIC: 9315.52\""
      ]
     },
     "metadata": {},
     "output_type": "display_data"
    },
    {
     "data": {
      "text/plain": [
       "\n",
       "\tstudentized Breusch-Pagan test\n",
       "\n",
       "data:  mod1\n",
       "BP = 784.37, df = 17, p-value < 2.2e-16\n"
      ]
     },
     "metadata": {},
     "output_type": "display_data"
    },
    {
     "data": {
      "text/plain": [
       "\n",
       "\tDurbin-Watson test\n",
       "\n",
       "data:  mod1\n",
       "DW = 2.0423, p-value = 0.8801\n",
       "alternative hypothesis: true autocorrelation is greater than 0\n"
      ]
     },
     "metadata": {},
     "output_type": "display_data"
    },
    {
     "data": {
      "text/plain": [
       "\n",
       "\tShapiro-Wilk normality test\n",
       "\n",
       "data:  residuals(mod1)\n",
       "W = 0.88552, p-value < 2.2e-16\n"
      ]
     },
     "metadata": {},
     "output_type": "display_data"
    }
   ],
   "source": [
    "mod_data2 <- car_50 %>%\n",
    "  dplyr::select(신호등_보행자수:총거주인구수, 차대차..50대) %>%\n",
    "  mutate(평균혼잡강도=(혼잡빈도강도 + 혼잡시간강도)/2) %>%\n",
    "  dplyr::select(-혼잡빈도강도, -혼잡시간강도, -이상최저온도동반사고건수, -이상최고온도동반사고건수, -이상평균지면온도동반사고건수)\n",
    "\n",
    "mod <- lm(`차대차..50대`~., mod_data2)\n",
    "#회귀분석의 변수선택(stepwise 방법)\n",
    "# summary(step(mod,direction = 'both'))\n",
    "mod1 <- lm(차대차..50대 ~ 신호등_보행자수 + 신호등_차량등수 + \n",
    "              cctv수 + 이상평균기온동반사고건수 + 이상최대풍속동반사고건수 + \n",
    "              이상평균풍속동반사고건수 + 이상평균습도동반사고건수 + 이상강수량동반사고건수 + \n",
    "              이상적설량동반사고건수 + 이상안개시간동반사고건수 + 안전지대수 + \n",
    "              정차금지지대수 + 도로속도표시수 + 교통안전표지수 + 노드개수 + \n",
    "              횡단보도수 + 평균혼잡강도, data = mod_data2)\n",
    "summary(mod1)\n",
    "paste(\"AIC:\", round(AIC(mod1), 2))\n",
    "\n",
    "# OLS의 기본 가정들을 만족하는지 확인 - 등분산성, 독립성, 정규성\n",
    "bptest(mod1) # 등분산성은 만족하지 않음(유의수준 0.05)\n",
    "dwtest(mod1) # 독립성은 만족(유의수준=0.05)\n",
    "shapiro.test(x=residuals(mod1)) # 정규성 만족하지 않음(유의수준=0.05)"
   ]
  },
  {
   "cell_type": "markdown",
   "id": "obvious-hayes",
   "metadata": {},
   "source": [
    "##### OLS 모델 적용 - 차대차-40대"
   ]
  },
  {
   "cell_type": "code",
   "execution_count": 16,
   "id": "geographic-blind",
   "metadata": {},
   "outputs": [
    {
     "data": {
      "text/plain": [
       "\n",
       "Call:\n",
       "lm(formula = 차대차..40대 ~ 신호등_차량등수 + 이상평균기온동반사고건수 + \n",
       "    이상최대풍속동반사고건수 + 이상평균풍속동반사고건수 + \n",
       "    이상평균습도동반사고건수 + 이상강수량동반사고건수 + \n",
       "    이상안개시간동반사고건수 + 안전지대수 + \n",
       "    도로속도표시수 + 교통안전표지수 + 노드개수 + \n",
       "    횡단보도수 + 총거주인구수, data = mod_data2)\n",
       "\n",
       "Residuals:\n",
       "    Min      1Q  Median      3Q     Max \n",
       "-8.0679 -0.5260 -0.1482  0.4876  7.3066 \n",
       "\n",
       "Coefficients:\n",
       "                           Estimate Std. Error t value Pr(>|t|)    \n",
       "(Intercept)               0.1803615  0.0314497   5.735 1.07e-08 ***\n",
       "신호등_차량등수           0.0488041  0.0079247   6.159 8.30e-10 ***\n",
       "이상평균기온동반사고건수  0.2021385  0.0162420  12.445  < 2e-16 ***\n",
       "이상최대풍속동반사고건수  0.1581379  0.0215276   7.346 2.61e-13 ***\n",
       "이상평균풍속동반사고건수  0.0643353  0.0207359   3.103 0.001936 ** \n",
       "이상평균습도동반사고건수  0.1665544  0.0186744   8.919  < 2e-16 ***\n",
       "이상강수량동반사고건수    0.0841429  0.0273713   3.074 0.002130 ** \n",
       "이상안개시간동반사고건수  0.2241348  0.0361494   6.200 6.39e-10 ***\n",
       "안전지대수                0.0299453  0.0188246   1.591 0.111767    \n",
       "도로속도표시수            0.0526616  0.0113877   4.624 3.91e-06 ***\n",
       "교통안전표지수            0.0176282  0.0056678   3.110 0.001887 ** \n",
       "노드개수                  0.0804337  0.0353801   2.273 0.023070 *  \n",
       "횡단보도수               -0.0426272  0.0127684  -3.338 0.000852 ***\n",
       "총거주인구수             -0.0002306  0.0001089  -2.117 0.034332 *  \n",
       "---\n",
       "Signif. codes:  0 ‘***’ 0.001 ‘**’ 0.01 ‘*’ 0.05 ‘.’ 0.1 ‘ ’ 1\n",
       "\n",
       "Residual standard error: 0.9665 on 3072 degrees of freedom\n",
       "Multiple R-squared:  0.5757,\tAdjusted R-squared:  0.5739 \n",
       "F-statistic: 320.6 on 13 and 3072 DF,  p-value: < 2.2e-16\n"
      ]
     },
     "metadata": {},
     "output_type": "display_data"
    },
    {
     "data": {
      "text/html": [
       "'AIC: 8563.21'"
      ],
      "text/latex": [
       "'AIC: 8563.21'"
      ],
      "text/markdown": [
       "'AIC: 8563.21'"
      ],
      "text/plain": [
       "[1] \"AIC: 8563.21\""
      ]
     },
     "metadata": {},
     "output_type": "display_data"
    },
    {
     "data": {
      "text/plain": [
       "\n",
       "\tstudentized Breusch-Pagan test\n",
       "\n",
       "data:  mod1\n",
       "BP = 635.38, df = 13, p-value < 2.2e-16\n"
      ]
     },
     "metadata": {},
     "output_type": "display_data"
    },
    {
     "data": {
      "text/plain": [
       "\n",
       "\tDurbin-Watson test\n",
       "\n",
       "data:  mod1\n",
       "DW = 1.9718, p-value = 0.2157\n",
       "alternative hypothesis: true autocorrelation is greater than 0\n"
      ]
     },
     "metadata": {},
     "output_type": "display_data"
    },
    {
     "data": {
      "text/plain": [
       "\n",
       "\tShapiro-Wilk normality test\n",
       "\n",
       "data:  residuals(mod1)\n",
       "W = 0.9222, p-value < 2.2e-16\n"
      ]
     },
     "metadata": {},
     "output_type": "display_data"
    }
   ],
   "source": [
    "mod_data2 <- car_40 %>%\n",
    "  dplyr::select(신호등_보행자수:총거주인구수, 차대차..40대) %>%\n",
    "  mutate(평균혼잡강도=(혼잡빈도강도 + 혼잡시간강도)/2) %>%\n",
    "  dplyr::select(-혼잡빈도강도, -혼잡시간강도, -이상최저온도동반사고건수, -이상최고온도동반사고건수, -이상평균지면온도동반사고건수)\n",
    "\n",
    "mod <- lm(`차대차..40대`~., mod_data2)\n",
    "#회귀분석의 변수선택(stepwise 방법)\n",
    "# summary(step(mod,direction = 'both'))\n",
    "mod1 <- lm(차대차..40대 ~ 신호등_차량등수 + 이상평균기온동반사고건수 + \n",
    "              이상최대풍속동반사고건수 + 이상평균풍속동반사고건수 + 이상평균습도동반사고건수 + \n",
    "              이상강수량동반사고건수 + 이상안개시간동반사고건수 + 안전지대수 + \n",
    "              도로속도표시수 + 교통안전표지수 + 노드개수 + 횡단보도수 + \n",
    "              총거주인구수, data = mod_data2)\n",
    "summary(mod1)\n",
    "paste(\"AIC:\", round(AIC(mod1), 2))\n",
    "\n",
    "# OLS의 기본 가정들을 만족하는지 확인 - 등분산성, 독립성, 정규성\n",
    "bptest(mod1) # 등분산성은 만족하지 않음(유의수준 0.05)\n",
    "dwtest(mod1) # 독립성은 만족(유의수준=0.05)\n",
    "shapiro.test(x=residuals(mod1)) # 정규성 만족하지 않음(유의수준=0.05)"
   ]
  },
  {
   "cell_type": "markdown",
   "id": "obvious-lying",
   "metadata": {},
   "source": [
    "##### OLS 모델 적용 - 차대차-30대"
   ]
  },
  {
   "cell_type": "code",
   "execution_count": 17,
   "id": "understanding-auction",
   "metadata": {},
   "outputs": [
    {
     "data": {
      "text/plain": [
       "\n",
       "Call:\n",
       "lm(formula = 차대차..30대 ~ 신호등_보행자수 + cctv수 + \n",
       "    이상평균기온동반사고건수 + 이상최대풍속동반사고건수 + \n",
       "    이상평균풍속동반사고건수 + 이상평균습도동반사고건수 + \n",
       "    이상강수량동반사고건수 + 이상적설량동반사고건수 + \n",
       "    안전지대수 + 정차금지지대수 + 도로속도표시수 + \n",
       "    교통안전표지수 + 노드개수 + 횡단보도수 + \n",
       "    평균혼잡강도, data = mod_data2)\n",
       "\n",
       "Residuals:\n",
       "    Min      1Q  Median      3Q     Max \n",
       "-7.6393 -0.5231 -0.1768  0.4863  9.2772 \n",
       "\n",
       "Coefficients:\n",
       "                           Estimate Std. Error t value Pr(>|t|)    \n",
       "(Intercept)               0.2062423  0.0334498   6.166 7.98e-10 ***\n",
       "신호등_보행자수           0.0449017  0.0125260   3.585 0.000343 ***\n",
       "cctv수                    0.2661588  0.0766763   3.471 0.000526 ***\n",
       "이상평균기온동반사고건수  0.1412008  0.0177471   7.956 2.51e-15 ***\n",
       "이상최대풍속동반사고건수  0.1473082  0.0227207   6.483 1.05e-10 ***\n",
       "이상평균풍속동반사고건수  0.1168755  0.0219978   5.313 1.16e-07 ***\n",
       "이상평균습도동반사고건수  0.1952671  0.0198701   9.827  < 2e-16 ***\n",
       "이상강수량동반사고건수    0.1365853  0.0282986   4.827 1.46e-06 ***\n",
       "이상적설량동반사고건수   -0.1290227  0.0438202  -2.944 0.003262 ** \n",
       "안전지대수                0.0712418  0.0187671   3.796 0.000150 ***\n",
       "정차금지지대수           -0.3076669  0.1640036  -1.876 0.060758 .  \n",
       "도로속도표시수            0.0343653  0.0122029   2.816 0.004892 ** \n",
       "교통안전표지수            0.0224021  0.0058766   3.812 0.000141 ***\n",
       "노드개수                  0.1121070  0.0371818   3.015 0.002591 ** \n",
       "횡단보도수               -0.0439762  0.0139817  -3.145 0.001676 ** \n",
       "평균혼잡강도             -0.0008279  0.0005367  -1.543 0.122997    \n",
       "---\n",
       "Signif. codes:  0 ‘***’ 0.001 ‘**’ 0.01 ‘*’ 0.05 ‘.’ 0.1 ‘ ’ 1\n",
       "\n",
       "Residual standard error: 1.012 on 2940 degrees of freedom\n",
       "Multiple R-squared:  0.5315,\tAdjusted R-squared:  0.5291 \n",
       "F-statistic: 222.4 on 15 and 2940 DF,  p-value: < 2.2e-16\n"
      ]
     },
     "metadata": {},
     "output_type": "display_data"
    },
    {
     "data": {
      "text/html": [
       "'AIC: 8476.91'"
      ],
      "text/latex": [
       "'AIC: 8476.91'"
      ],
      "text/markdown": [
       "'AIC: 8476.91'"
      ],
      "text/plain": [
       "[1] \"AIC: 8476.91\""
      ]
     },
     "metadata": {},
     "output_type": "display_data"
    },
    {
     "data": {
      "text/plain": [
       "\n",
       "\tstudentized Breusch-Pagan test\n",
       "\n",
       "data:  mod1\n",
       "BP = 720.95, df = 15, p-value < 2.2e-16\n"
      ]
     },
     "metadata": {},
     "output_type": "display_data"
    },
    {
     "data": {
      "text/plain": [
       "\n",
       "\tDurbin-Watson test\n",
       "\n",
       "data:  mod1\n",
       "DW = 2.0613, p-value = 0.9518\n",
       "alternative hypothesis: true autocorrelation is greater than 0\n"
      ]
     },
     "metadata": {},
     "output_type": "display_data"
    },
    {
     "data": {
      "text/plain": [
       "\n",
       "\tShapiro-Wilk normality test\n",
       "\n",
       "data:  residuals(mod1)\n",
       "W = 0.90683, p-value < 2.2e-16\n"
      ]
     },
     "metadata": {},
     "output_type": "display_data"
    }
   ],
   "source": [
    "mod_data2 <- car_30 %>%\n",
    "  dplyr::select(신호등_보행자수:총거주인구수, 차대차..30대) %>%\n",
    "  mutate(평균혼잡강도=(혼잡빈도강도 + 혼잡시간강도)/2) %>%\n",
    "  dplyr::select(-혼잡빈도강도, -혼잡시간강도, -이상최저온도동반사고건수, -이상최고온도동반사고건수, -이상평균지면온도동반사고건수)\n",
    "\n",
    "mod <- lm(`차대차..30대`~., mod_data2)\n",
    "#회귀분석의 변수선택(stepwise 방법)\n",
    "# summary(step(mod,direction = 'both'))\n",
    "mod1 <- lm(차대차..30대 ~ 신호등_보행자수 + cctv수 + 이상평균기온동반사고건수 + \n",
    "              이상최대풍속동반사고건수 + 이상평균풍속동반사고건수 + 이상평균습도동반사고건수 + \n",
    "              이상강수량동반사고건수 + 이상적설량동반사고건수 + 안전지대수 + \n",
    "              정차금지지대수 + 도로속도표시수 + 교통안전표지수 + 노드개수 + \n",
    "              횡단보도수 + 평균혼잡강도, data = mod_data2)\n",
    "summary(mod1)\n",
    "paste(\"AIC:\", round(AIC(mod1), 2))\n",
    "\n",
    "# OLS의 기본 가정들을 만족하는지 확인 - 등분산성, 독립성, 정규성\n",
    "bptest(mod1) # 등분산성은 만족하지 않음(유의수준 0.05)\n",
    "dwtest(mod1) # 독립성은 만족(유의수준=0.05)\n",
    "shapiro.test(x=residuals(mod1)) # 정규성 만족하지 않음(유의수준=0.05)"
   ]
  },
  {
   "cell_type": "markdown",
   "id": "reliable-applicant",
   "metadata": {},
   "source": [
    "##### OLS 모델 적용 - 차대차-20대"
   ]
  },
  {
   "cell_type": "code",
   "execution_count": 18,
   "id": "normal-rendering",
   "metadata": {},
   "outputs": [
    {
     "data": {
      "text/plain": [
       "\n",
       "Call:\n",
       "lm(formula = 차대차..20대 ~ 신호등_보행자수 + cctv수 + \n",
       "    이상평균기온동반사고건수 + 이상최대풍속동반사고건수 + \n",
       "    이상평균풍속동반사고건수 + 이상평균습도동반사고건수 + \n",
       "    이상적설량동반사고건수 + 이상안개시간동반사고건수 + \n",
       "    안전지대수 + 정차금지지대수 + 교통안전표지수 + \n",
       "    노드개수, data = mod_data2)\n",
       "\n",
       "Residuals:\n",
       "    Min      1Q  Median      3Q     Max \n",
       "-5.0290 -0.4528 -0.1260  0.4590  7.4655 \n",
       "\n",
       "Coefficients:\n",
       "                          Estimate Std. Error t value Pr(>|t|)    \n",
       "(Intercept)               0.109159   0.023500   4.645 3.55e-06 ***\n",
       "신호등_보행자수           0.038801   0.009928   3.908 9.51e-05 ***\n",
       "cctv수                    0.306756   0.067365   4.554 5.49e-06 ***\n",
       "이상평균기온동반사고건수  0.149407   0.015301   9.765  < 2e-16 ***\n",
       "이상최대풍속동반사고건수  0.094307   0.019414   4.858 1.25e-06 ***\n",
       "이상평균풍속동반사고건수  0.137684   0.018833   7.311 3.43e-13 ***\n",
       "이상평균습도동반사고건수  0.157352   0.015271  10.304  < 2e-16 ***\n",
       "이상적설량동반사고건수    0.136320   0.037877   3.599 0.000325 ***\n",
       "이상안개시간동반사고건수  0.064749   0.032898   1.968 0.049141 *  \n",
       "안전지대수                0.027536   0.017770   1.550 0.121355    \n",
       "정차금지지대수           -0.305580   0.189459  -1.613 0.106875    \n",
       "교통안전표지수            0.008424   0.004796   1.756 0.079115 .  \n",
       "노드개수                  0.095032   0.031575   3.010 0.002638 ** \n",
       "---\n",
       "Signif. codes:  0 ‘***’ 0.001 ‘**’ 0.01 ‘*’ 0.05 ‘.’ 0.1 ‘ ’ 1\n",
       "\n",
       "Residual standard error: 0.8566 on 2871 degrees of freedom\n",
       "Multiple R-squared:  0.5449,\tAdjusted R-squared:  0.543 \n",
       "F-statistic: 286.5 on 12 and 2871 DF,  p-value: < 2.2e-16\n"
      ]
     },
     "metadata": {},
     "output_type": "display_data"
    },
    {
     "data": {
      "text/html": [
       "'AIC: 7306.77'"
      ],
      "text/latex": [
       "'AIC: 7306.77'"
      ],
      "text/markdown": [
       "'AIC: 7306.77'"
      ],
      "text/plain": [
       "[1] \"AIC: 7306.77\""
      ]
     },
     "metadata": {},
     "output_type": "display_data"
    },
    {
     "data": {
      "text/plain": [
       "\n",
       "\tstudentized Breusch-Pagan test\n",
       "\n",
       "data:  mod1\n",
       "BP = 576.22, df = 12, p-value < 2.2e-16\n"
      ]
     },
     "metadata": {},
     "output_type": "display_data"
    },
    {
     "data": {
      "text/plain": [
       "\n",
       "\tDurbin-Watson test\n",
       "\n",
       "data:  mod1\n",
       "DW = 1.9611, p-value = 0.1476\n",
       "alternative hypothesis: true autocorrelation is greater than 0\n"
      ]
     },
     "metadata": {},
     "output_type": "display_data"
    },
    {
     "data": {
      "text/plain": [
       "\n",
       "\tShapiro-Wilk normality test\n",
       "\n",
       "data:  residuals(mod1)\n",
       "W = 0.91951, p-value < 2.2e-16\n"
      ]
     },
     "metadata": {},
     "output_type": "display_data"
    }
   ],
   "source": [
    "mod_data2 <- car_20 %>%\n",
    "  dplyr::select(신호등_보행자수:총거주인구수, 차대차..20대) %>%\n",
    "  mutate(평균혼잡강도=(혼잡빈도강도 + 혼잡시간강도)/2) %>%\n",
    "  dplyr::select(-혼잡빈도강도, -혼잡시간강도, -이상최저온도동반사고건수, -이상최고온도동반사고건수, -이상평균지면온도동반사고건수)\n",
    "\n",
    "mod <- lm(`차대차..20대`~., mod_data2)\n",
    "#회귀분석의 변수선택(stepwise 방법)\n",
    "# summary(step(mod,direction = 'both'))\n",
    "mod1 <- lm(차대차..20대 ~ 신호등_보행자수 + cctv수 + 이상평균기온동반사고건수 + \n",
    "              이상최대풍속동반사고건수 + 이상평균풍속동반사고건수 + 이상평균습도동반사고건수 + \n",
    "              이상적설량동반사고건수 + 이상안개시간동반사고건수 + 안전지대수 + \n",
    "              정차금지지대수 + 교통안전표지수 + 노드개수, data = mod_data2)\n",
    "summary(mod1)\n",
    "paste(\"AIC:\", round(AIC(mod1), 2))\n",
    "\n",
    "# OLS의 기본 가정들을 만족하는지 확인 - 등분산성, 독립성, 정규성\n",
    "bptest(mod1) # 등분산성은 만족하지 않음(유의수준 0.05)\n",
    "dwtest(mod1) # 독립성은 만족(유의수준=0.05)\n",
    "shapiro.test(x=residuals(mod1)) # 정규성 만족하지 않음(유의수준=0.05)"
   ]
  },
  {
   "cell_type": "markdown",
   "id": "broad-network",
   "metadata": {},
   "source": [
    "##### OLS 모델 적용 - 차대차-20대미만"
   ]
  },
  {
   "cell_type": "code",
   "execution_count": 19,
   "id": "threatened-zoning",
   "metadata": {},
   "outputs": [
    {
     "data": {
      "text/plain": [
       "\n",
       "Call:\n",
       "lm(formula = 차대차..20대.미만 ~ 신호등_보행자수 + \n",
       "    cctv수 + 이상최대풍속동반사고건수 + 이상평균풍속동반사고건수 + \n",
       "    이상평균습도동반사고건수 + 이상강수량동반사고건수 + \n",
       "    이상적설량동반사고건수 + 안전지대수 + 횡단보도수 + \n",
       "    총거주인구수, data = mod_data2)\n",
       "\n",
       "Residuals:\n",
       "    Min      1Q  Median      3Q     Max \n",
       "-0.9192 -0.1521 -0.0808 -0.0328  3.5722 \n",
       "\n",
       "Coefficients:\n",
       "                           Estimate Std. Error t value Pr(>|t|)    \n",
       "(Intercept)               2.109e-02  1.312e-02   1.608 0.108067    \n",
       "신호등_보행자수           1.341e-02  5.005e-03   2.678 0.007454 ** \n",
       "cctv수                    1.001e-01  3.502e-02   2.860 0.004279 ** \n",
       "이상최대풍속동반사고건수  1.737e-02  1.007e-02   1.725 0.084606 .  \n",
       "이상평균풍속동반사고건수  1.749e-02  9.539e-03   1.833 0.066867 .  \n",
       "이상평균습도동반사고건수  4.487e-02  8.621e-03   5.206  2.1e-07 ***\n",
       "이상강수량동반사고건수   -2.694e-02  1.304e-02  -2.066 0.038956 *  \n",
       "이상적설량동반사고건수   -2.660e-02  1.881e-02  -1.414 0.157349    \n",
       "안전지대수                1.640e-02  9.759e-03   1.680 0.093089 .  \n",
       "횡단보도수                2.053e-02  5.521e-03   3.718 0.000205 ***\n",
       "총거주인구수              6.253e-05  4.241e-05   1.475 0.140458    \n",
       "---\n",
       "Signif. codes:  0 ‘***’ 0.001 ‘**’ 0.01 ‘*’ 0.05 ‘.’ 0.1 ‘ ’ 1\n",
       "\n",
       "Residual standard error: 0.3727 on 2345 degrees of freedom\n",
       "Multiple R-squared:  0.1146,\tAdjusted R-squared:  0.1108 \n",
       "F-statistic: 30.34 on 10 and 2345 DF,  p-value: < 2.2e-16\n"
      ]
     },
     "metadata": {},
     "output_type": "display_data"
    },
    {
     "data": {
      "text/html": [
       "'AIC: 2048.68'"
      ],
      "text/latex": [
       "'AIC: 2048.68'"
      ],
      "text/markdown": [
       "'AIC: 2048.68'"
      ],
      "text/plain": [
       "[1] \"AIC: 2048.68\""
      ]
     },
     "metadata": {},
     "output_type": "display_data"
    },
    {
     "data": {
      "text/plain": [
       "\n",
       "\tstudentized Breusch-Pagan test\n",
       "\n",
       "data:  mod1\n",
       "BP = 182.77, df = 10, p-value < 2.2e-16\n"
      ]
     },
     "metadata": {},
     "output_type": "display_data"
    },
    {
     "data": {
      "text/plain": [
       "\n",
       "\tDurbin-Watson test\n",
       "\n",
       "data:  mod1\n",
       "DW = 1.9993, p-value = 0.4913\n",
       "alternative hypothesis: true autocorrelation is greater than 0\n"
      ]
     },
     "metadata": {},
     "output_type": "display_data"
    },
    {
     "data": {
      "text/plain": [
       "\n",
       "\tShapiro-Wilk normality test\n",
       "\n",
       "data:  residuals(mod1)\n",
       "W = 0.65703, p-value < 2.2e-16\n"
      ]
     },
     "metadata": {},
     "output_type": "display_data"
    }
   ],
   "source": [
    "mod_data2 <- car_under20 %>%\n",
    "  dplyr::select(신호등_보행자수:총거주인구수, 차대차..20대.미만) %>%\n",
    "  mutate(평균혼잡강도=(혼잡빈도강도 + 혼잡시간강도)/2) %>%\n",
    "  dplyr::select(-혼잡빈도강도, -혼잡시간강도, -이상최저온도동반사고건수, -이상최고온도동반사고건수, -이상평균지면온도동반사고건수)\n",
    "\n",
    "mod <- lm(`차대차..20대.미만`~., mod_data2)\n",
    "#회귀분석의 변수선택(stepwise 방법)\n",
    "# summary(step(mod,direction = 'both'))\n",
    "mod1<-lm(차대차..20대.미만 ~ 신호등_보행자수 + cctv수 + 이상최대풍속동반사고건수 + \n",
    "              이상평균풍속동반사고건수 + 이상평균습도동반사고건수 + 이상강수량동반사고건수 + \n",
    "              이상적설량동반사고건수 + 안전지대수 + 횡단보도수 + 총거주인구수, data = mod_data2)\n",
    "summary(mod1)\n",
    "paste(\"AIC:\", round(AIC(mod1), 2))\n",
    "\n",
    "# OLS의 기본 가정들을 만족하는지 확인 - 등분산성, 독립성, 정규성\n",
    "bptest(mod1) # 등분산성은 만족하지 않음(유의수준 0.05)\n",
    "dwtest(mod1) # 독립성은 만족(유의수준=0.05)\n",
    "shapiro.test(x=residuals(mod1)) # 정규성 만족하지 않음(유의수준=0.05)"
   ]
  },
  {
   "cell_type": "markdown",
   "id": "nuclear-temperature",
   "metadata": {},
   "source": [
    "# <font color=blue>2. 포아송 회귀 모델링</font>"
   ]
  },
  {
   "cell_type": "markdown",
   "id": "bigger-execution",
   "metadata": {},
   "source": [
    "##### 포아송회귀 (GLM) 모델 적용 - 차대사람..60대 이상"
   ]
  },
  {
   "cell_type": "code",
   "execution_count": 20,
   "id": "laden-fortune",
   "metadata": {},
   "outputs": [
    {
     "name": "stdout",
     "output_type": "stream",
     "text": [
      "Start:  AIC=4237.18\n",
      "차대사람..60대.이상 ~ 신호등_보행자수 + 신호등_차량등수 + \n",
      "    cctv수 + 전체_추정교통량 + 이상평균기온동반사고건수 + \n",
      "    이상최대풍속동반사고건수 + 이상평균풍속동반사고건수 + \n",
      "    이상평균습도동반사고건수 + 이상강수량동반사고건수 + \n",
      "    이상적설량동반사고건수 + 이상안개시간동반사고건수 + \n",
      "    안전지대수 + 정차금지지대수 + 도로속도표시수 + \n",
      "    교통안전표지수 + 노드개수 + 횡단보도수 + \n",
      "    건물면적 + 자동차대수 + 총거주인구수 + 평균혼잡강도\n",
      "\n",
      "                           Df Deviance    AIC\n",
      "- 노드개수                  1   2266.5 4235.2\n",
      "- 정차금지지대수            1   2266.5 4235.2\n",
      "- 이상최대풍속동반사고건수  1   2266.6 4235.3\n",
      "- 이상강수량동반사고건수    1   2266.6 4235.3\n",
      "- 건물면적                  1   2266.7 4235.4\n",
      "- 이상적설량동반사고건수    1   2267.0 4235.7\n",
      "- 총거주인구수              1   2267.1 4235.8\n",
      "- 교통안전표지수            1   2267.5 4236.2\n",
      "- 이상평균풍속동반사고건수  1   2267.6 4236.3\n",
      "- 신호등_보행자수           1   2267.8 4236.5\n",
      "- 도로속도표시수            1   2268.1 4236.8\n",
      "- cctv수                    1   2268.4 4237.1\n",
      "<none>                          2266.5 4237.2\n",
      "- 이상안개시간동반사고건수  1   2268.9 4237.6\n",
      "- 자동차대수                1   2269.5 4238.2\n",
      "- 신호등_차량등수           1   2269.9 4238.7\n",
      "- 전체_추정교통량           1   2270.9 4239.6\n",
      "- 안전지대수                1   2272.2 4240.9\n",
      "- 이상평균기온동반사고건수  1   2273.1 4241.8\n",
      "- 이상평균습도동반사고건수  1   2273.9 4242.7\n",
      "- 평균혼잡강도              1   2275.2 4243.9\n",
      "- 횡단보도수                1   2306.3 4275.0\n",
      "\n",
      "Step:  AIC=4235.19\n",
      "차대사람..60대.이상 ~ 신호등_보행자수 + 신호등_차량등수 + \n",
      "    cctv수 + 전체_추정교통량 + 이상평균기온동반사고건수 + \n",
      "    이상최대풍속동반사고건수 + 이상평균풍속동반사고건수 + \n",
      "    이상평균습도동반사고건수 + 이상강수량동반사고건수 + \n",
      "    이상적설량동반사고건수 + 이상안개시간동반사고건수 + \n",
      "    안전지대수 + 정차금지지대수 + 도로속도표시수 + \n",
      "    교통안전표지수 + 횡단보도수 + 건물면적 + \n",
      "    자동차대수 + 총거주인구수 + 평균혼잡강도\n",
      "\n",
      "                           Df Deviance    AIC\n",
      "- 정차금지지대수            1   2266.5 4233.2\n",
      "- 이상최대풍속동반사고건수  1   2266.6 4233.3\n",
      "- 이상강수량동반사고건수    1   2266.6 4233.3\n",
      "- 건물면적                  1   2266.7 4233.4\n",
      "- 이상적설량동반사고건수    1   2267.0 4233.7\n",
      "- 총거주인구수              1   2267.1 4233.8\n",
      "- 교통안전표지수            1   2267.5 4234.3\n",
      "- 이상평균풍속동반사고건수  1   2267.6 4234.3\n",
      "- 신호등_보행자수           1   2267.8 4234.5\n",
      "- 도로속도표시수            1   2268.1 4234.8\n",
      "- cctv수                    1   2268.4 4235.1\n",
      "<none>                          2266.5 4235.2\n",
      "- 이상안개시간동반사고건수  1   2268.9 4235.6\n",
      "- 자동차대수                1   2269.5 4236.2\n",
      "- 신호등_차량등수           1   2270.0 4236.7\n",
      "+ 노드개수                  1   2266.5 4237.2\n",
      "- 전체_추정교통량           1   2270.9 4237.6\n",
      "- 안전지대수                1   2272.2 4238.9\n",
      "- 이상평균기온동반사고건수  1   2273.1 4239.8\n",
      "- 이상평균습도동반사고건수  1   2273.9 4240.7\n",
      "- 평균혼잡강도              1   2275.4 4242.1\n",
      "- 횡단보도수                1   2307.2 4273.9\n",
      "\n",
      "Step:  AIC=4233.19\n",
      "차대사람..60대.이상 ~ 신호등_보행자수 + 신호등_차량등수 + \n",
      "    cctv수 + 전체_추정교통량 + 이상평균기온동반사고건수 + \n",
      "    이상최대풍속동반사고건수 + 이상평균풍속동반사고건수 + \n",
      "    이상평균습도동반사고건수 + 이상강수량동반사고건수 + \n",
      "    이상적설량동반사고건수 + 이상안개시간동반사고건수 + \n",
      "    안전지대수 + 도로속도표시수 + 교통안전표지수 + \n",
      "    횡단보도수 + 건물면적 + 자동차대수 + 총거주인구수 + \n",
      "    평균혼잡강도\n",
      "\n",
      "                           Df Deviance    AIC\n",
      "- 이상최대풍속동반사고건수  1   2266.6 4231.3\n",
      "- 이상강수량동반사고건수    1   2266.6 4231.3\n",
      "- 건물면적                  1   2266.7 4231.4\n",
      "- 이상적설량동반사고건수    1   2267.1 4231.8\n",
      "- 총거주인구수              1   2267.1 4231.8\n",
      "- 교통안전표지수            1   2267.6 4232.3\n",
      "- 이상평균풍속동반사고건수  1   2267.6 4232.3\n",
      "- 신호등_보행자수           1   2267.8 4232.5\n",
      "- 도로속도표시수            1   2268.1 4232.8\n",
      "- cctv수                    1   2268.4 4233.1\n",
      "<none>                          2266.5 4233.2\n",
      "- 이상안개시간동반사고건수  1   2268.9 4233.6\n",
      "- 자동차대수                1   2269.5 4234.2\n",
      "- 신호등_차량등수           1   2270.0 4234.7\n",
      "+ 정차금지지대수            1   2266.5 4235.2\n",
      "+ 노드개수                  1   2266.5 4235.2\n",
      "- 전체_추정교통량           1   2270.9 4235.6\n",
      "- 안전지대수                1   2272.2 4236.9\n",
      "- 이상평균기온동반사고건수  1   2273.1 4237.8\n",
      "- 이상평균습도동반사고건수  1   2274.1 4238.8\n",
      "- 평균혼잡강도              1   2275.4 4240.1\n",
      "- 횡단보도수                1   2307.3 4272.0\n",
      "\n",
      "Step:  AIC=4231.28\n",
      "차대사람..60대.이상 ~ 신호등_보행자수 + 신호등_차량등수 + \n",
      "    cctv수 + 전체_추정교통량 + 이상평균기온동반사고건수 + \n",
      "    이상평균풍속동반사고건수 + 이상평균습도동반사고건수 + \n",
      "    이상강수량동반사고건수 + 이상적설량동반사고건수 + \n",
      "    이상안개시간동반사고건수 + 안전지대수 + \n",
      "    도로속도표시수 + 교통안전표지수 + 횡단보도수 + \n",
      "    건물면적 + 자동차대수 + 총거주인구수 + 평균혼잡강도\n",
      "\n",
      "                           Df Deviance    AIC\n",
      "- 이상강수량동반사고건수    1   2266.7 4229.4\n",
      "- 건물면적                  1   2266.8 4229.5\n",
      "- 이상적설량동반사고건수    1   2267.1 4229.8\n",
      "- 총거주인구수              1   2267.2 4229.9\n",
      "- 교통안전표지수            1   2267.6 4230.3\n",
      "- 신호등_보행자수           1   2267.9 4230.6\n",
      "- 이상평균풍속동반사고건수  1   2267.9 4230.6\n",
      "- 도로속도표시수            1   2268.2 4230.9\n",
      "- cctv수                    1   2268.5 4231.2\n",
      "<none>                          2266.6 4231.3\n",
      "- 이상안개시간동반사고건수  1   2268.9 4231.6\n",
      "- 자동차대수                1   2269.6 4232.3\n",
      "- 신호등_차량등수           1   2270.1 4232.8\n",
      "+ 이상최대풍속동반사고건수  1   2266.5 4233.2\n",
      "+ 정차금지지대수            1   2266.6 4233.3\n",
      "+ 노드개수                  1   2266.6 4233.3\n",
      "- 전체_추정교통량           1   2271.1 4233.8\n",
      "- 안전지대수                1   2272.2 4235.0\n",
      "- 이상평균기온동반사고건수  1   2273.2 4235.9\n",
      "- 이상평균습도동반사고건수  1   2274.3 4237.0\n",
      "- 평균혼잡강도              1   2275.6 4238.3\n",
      "- 횡단보도수                1   2307.4 4270.2\n",
      "\n",
      "Step:  AIC=4229.43\n",
      "차대사람..60대.이상 ~ 신호등_보행자수 + 신호등_차량등수 + \n",
      "    cctv수 + 전체_추정교통량 + 이상평균기온동반사고건수 + \n",
      "    이상평균풍속동반사고건수 + 이상평균습도동반사고건수 + \n",
      "    이상적설량동반사고건수 + 이상안개시간동반사고건수 + \n",
      "    안전지대수 + 도로속도표시수 + 교통안전표지수 + \n",
      "    횡단보도수 + 건물면적 + 자동차대수 + 총거주인구수 + \n",
      "    평균혼잡강도\n",
      "\n",
      "                           Df Deviance    AIC\n",
      "- 건물면적                  1   2266.9 4227.6\n",
      "- 이상적설량동반사고건수    1   2267.2 4227.9\n",
      "- 총거주인구수              1   2267.3 4228.0\n",
      "- 교통안전표지수            1   2267.8 4228.5\n",
      "- 이상평균풍속동반사고건수  1   2268.0 4228.7\n",
      "- 신호등_보행자수           1   2268.1 4228.8\n",
      "- 도로속도표시수            1   2268.4 4229.1\n",
      "<none>                          2266.7 4229.4\n",
      "- cctv수                    1   2268.7 4229.4\n",
      "- 이상안개시간동반사고건수  1   2268.9 4229.6\n",
      "- 자동차대수                1   2269.8 4230.5\n",
      "- 신호등_차량등수           1   2270.2 4231.0\n",
      "+ 이상강수량동반사고건수    1   2266.6 4231.3\n",
      "+ 이상최대풍속동반사고건수  1   2266.6 4231.3\n",
      "+ 노드개수                  1   2266.7 4231.4\n",
      "+ 정차금지지대수            1   2266.7 4231.4\n",
      "- 전체_추정교통량           1   2271.4 4232.1\n",
      "- 안전지대수                1   2272.3 4233.0\n",
      "- 이상평균기온동반사고건수  1   2273.5 4234.2\n",
      "- 이상평균습도동반사고건수  1   2275.8 4236.5\n",
      "- 평균혼잡강도              1   2275.8 4236.5\n",
      "- 횡단보도수                1   2307.5 4268.2\n",
      "\n",
      "Step:  AIC=4227.62\n",
      "차대사람..60대.이상 ~ 신호등_보행자수 + 신호등_차량등수 + \n",
      "    cctv수 + 전체_추정교통량 + 이상평균기온동반사고건수 + \n",
      "    이상평균풍속동반사고건수 + 이상평균습도동반사고건수 + \n",
      "    이상적설량동반사고건수 + 이상안개시간동반사고건수 + \n",
      "    안전지대수 + 도로속도표시수 + 교통안전표지수 + \n",
      "    횡단보도수 + 자동차대수 + 총거주인구수 + \n",
      "    평균혼잡강도\n",
      "\n",
      "                           Df Deviance    AIC\n",
      "- 이상적설량동반사고건수    1   2267.4 4226.1\n",
      "- 총거주인구수              1   2267.8 4226.5\n",
      "- 교통안전표지수            1   2268.1 4226.8\n",
      "- 이상평균풍속동반사고건수  1   2268.1 4226.8\n",
      "- 신호등_보행자수           1   2268.3 4227.0\n",
      "- 도로속도표시수            1   2268.5 4227.2\n",
      "- cctv수                    1   2268.9 4227.6\n",
      "<none>                          2266.9 4227.6\n",
      "- 이상안개시간동반사고건수  1   2269.1 4227.8\n",
      "- 자동차대수                1   2269.9 4228.6\n",
      "- 신호등_차량등수           1   2270.7 4229.4\n",
      "+ 건물면적                  1   2266.7 4229.4\n",
      "+ 이상강수량동반사고건수    1   2266.8 4229.5\n",
      "+ 이상최대풍속동반사고건수  1   2266.8 4229.5\n",
      "+ 정차금지지대수            1   2266.9 4229.6\n",
      "+ 노드개수                  1   2266.9 4229.6\n",
      "- 전체_추정교통량           1   2271.6 4230.3\n",
      "- 안전지대수                1   2272.5 4231.2\n",
      "- 이상평균기온동반사고건수  1   2273.7 4232.4\n",
      "- 이상평균습도동반사고건수  1   2275.8 4234.5\n",
      "- 평균혼잡강도              1   2275.9 4234.6\n",
      "- 횡단보도수                1   2308.0 4266.7\n",
      "\n",
      "Step:  AIC=4226.11\n",
      "차대사람..60대.이상 ~ 신호등_보행자수 + 신호등_차량등수 + \n",
      "    cctv수 + 전체_추정교통량 + 이상평균기온동반사고건수 + \n",
      "    이상평균풍속동반사고건수 + 이상평균습도동반사고건수 + \n",
      "    이상안개시간동반사고건수 + 안전지대수 + \n",
      "    도로속도표시수 + 교통안전표지수 + 횡단보도수 + \n",
      "    자동차대수 + 총거주인구수 + 평균혼잡강도\n",
      "\n",
      "                           Df Deviance    AIC\n",
      "- 총거주인구수              1   2268.3 4225.0\n",
      "- 교통안전표지수            1   2268.5 4225.2\n",
      "- 신호등_보행자수           1   2268.6 4225.3\n",
      "- 도로속도표시수            1   2268.8 4225.5\n",
      "- 이상평균풍속동반사고건수  1   2269.0 4225.7\n",
      "- cctv수                    1   2269.3 4226.0\n",
      "<none>                          2267.4 4226.1\n",
      "- 이상안개시간동반사고건수  1   2269.7 4226.4\n",
      "- 자동차대수                1   2270.4 4227.1\n",
      "- 신호등_차량등수           1   2270.8 4227.5\n",
      "+ 이상적설량동반사고건수    1   2266.9 4227.6\n",
      "+ 건물면적                  1   2267.2 4227.9\n",
      "+ 이상강수량동반사고건수    1   2267.2 4228.0\n",
      "+ 이상최대풍속동반사고건수  1   2267.3 4228.1\n",
      "+ 정차금지지대수            1   2267.4 4228.1\n",
      "+ 노드개수                  1   2267.4 4228.1\n",
      "- 전체_추정교통량           1   2272.0 4228.7\n",
      "- 안전지대수                1   2273.1 4229.8\n",
      "- 이상평균기온동반사고건수  1   2276.1 4232.8\n",
      "- 이상평균습도동반사고건수  1   2276.2 4232.9\n",
      "- 평균혼잡강도              1   2276.3 4233.1\n",
      "- 횡단보도수                1   2308.1 4264.9\n",
      "\n",
      "Step:  AIC=4225.05\n",
      "차대사람..60대.이상 ~ 신호등_보행자수 + 신호등_차량등수 + \n",
      "    cctv수 + 전체_추정교통량 + 이상평균기온동반사고건수 + \n",
      "    이상평균풍속동반사고건수 + 이상평균습도동반사고건수 + \n",
      "    이상안개시간동반사고건수 + 안전지대수 + \n",
      "    도로속도표시수 + 교통안전표지수 + 횡단보도수 + \n",
      "    자동차대수 + 평균혼잡강도\n",
      "\n",
      "                           Df Deviance    AIC\n",
      "- 교통안전표지수            1   2269.4 4224.2\n",
      "- 신호등_보행자수           1   2269.6 4224.3\n",
      "- 이상평균풍속동반사고건수  1   2269.9 4224.6\n",
      "- 도로속도표시수            1   2269.9 4224.7\n",
      "- cctv수                    1   2270.3 4225.0\n",
      "<none>                          2268.3 4225.0\n",
      "- 이상안개시간동반사고건수  1   2270.6 4225.3\n",
      "- 자동차대수                1   2270.7 4225.4\n",
      "+ 총거주인구수              1   2267.4 4226.1\n",
      "- 신호등_차량등수           1   2271.7 4226.4\n",
      "+ 이상적설량동반사고건수    1   2267.8 4226.5\n",
      "+ 건물면적                  1   2267.9 4226.6\n",
      "+ 이상강수량동반사고건수    1   2268.2 4226.9\n",
      "+ 이상최대풍속동반사고건수  1   2268.3 4227.0\n",
      "+ 정차금지지대수            1   2268.3 4227.0\n",
      "+ 노드개수                  1   2268.3 4227.0\n",
      "- 전체_추정교통량           1   2272.5 4227.2\n",
      "- 안전지대수                1   2273.8 4228.5\n",
      "- 평균혼잡강도              1   2276.8 4231.5\n",
      "- 이상평균습도동반사고건수  1   2277.3 4232.0\n",
      "- 이상평균기온동반사고건수  1   2277.4 4232.1\n",
      "- 횡단보도수                1   2310.4 4265.1\n",
      "\n",
      "Step:  AIC=4224.16\n",
      "차대사람..60대.이상 ~ 신호등_보행자수 + 신호등_차량등수 + \n",
      "    cctv수 + 전체_추정교통량 + 이상평균기온동반사고건수 + \n",
      "    이상평균풍속동반사고건수 + 이상평균습도동반사고건수 + \n",
      "    이상안개시간동반사고건수 + 안전지대수 + \n",
      "    도로속도표시수 + 횡단보도수 + 자동차대수 + \n",
      "    평균혼잡강도\n",
      "\n",
      "                           Df Deviance    AIC\n",
      "- 신호등_보행자수           1   2270.6 4223.3\n",
      "- 도로속도표시수            1   2270.7 4223.5\n",
      "- 이상평균풍속동반사고건수  1   2271.0 4223.7\n",
      "<none>                          2269.4 4224.2\n",
      "- cctv수                    1   2271.5 4224.2\n",
      "- 이상안개시간동반사고건수  1   2271.6 4224.3\n",
      "- 자동차대수                1   2271.8 4224.5\n",
      "- 신호등_차량등수           1   2272.1 4224.8\n",
      "+ 교통안전표지수            1   2268.3 4225.0\n",
      "+ 총거주인구수              1   2268.5 4225.2\n",
      "+ 건물면적                  1   2268.9 4225.6\n",
      "+ 이상적설량동반사고건수    1   2269.0 4225.7\n",
      "+ 이상강수량동반사고건수    1   2269.3 4226.0\n",
      "+ 이상최대풍속동반사고건수  1   2269.4 4226.1\n",
      "+ 노드개수                  1   2269.4 4226.2\n",
      "+ 정차금지지대수            1   2269.4 4226.2\n",
      "- 전체_추정교통량           1   2274.1 4226.8\n",
      "- 안전지대수                1   2277.4 4230.1\n",
      "- 이상평균기온동반사고건수  1   2277.9 4230.6\n",
      "- 평균혼잡강도              1   2278.4 4231.1\n",
      "- 이상평균습도동반사고건수  1   2278.5 4231.2\n",
      "- 횡단보도수                1   2312.5 4265.2\n",
      "\n",
      "Step:  AIC=4223.3\n",
      "차대사람..60대.이상 ~ 신호등_차량등수 + cctv수 + \n",
      "    전체_추정교통량 + 이상평균기온동반사고건수 + \n",
      "    이상평균풍속동반사고건수 + 이상평균습도동반사고건수 + \n",
      "    이상안개시간동반사고건수 + 안전지대수 + \n",
      "    도로속도표시수 + 횡단보도수 + 자동차대수 + \n",
      "    평균혼잡강도\n",
      "\n",
      "                           Df Deviance    AIC\n",
      "- 도로속도표시수            1   2271.6 4222.3\n",
      "- 신호등_차량등수           1   2272.1 4222.8\n",
      "- 이상평균풍속동반사고건수  1   2272.2 4222.9\n",
      "- cctv수                    1   2272.4 4223.1\n",
      "<none>                          2270.6 4223.3\n",
      "- 자동차대수                1   2272.9 4223.6\n",
      "- 이상안개시간동반사고건수  1   2272.9 4223.6\n",
      "+ 신호등_보행자수           1   2269.4 4224.2\n",
      "+ 교통안전표지수            1   2269.6 4224.3\n",
      "+ 총거주인구수              1   2269.6 4224.3\n",
      "+ 건물면적                  1   2269.9 4224.6\n",
      "+ 이상강수량동반사고건수    1   2270.4 4225.1\n",
      "+ 이상적설량동반사고건수    1   2270.4 4225.1\n",
      "+ 이상최대풍속동반사고건수  1   2270.5 4225.2\n",
      "+ 노드개수                  1   2270.6 4225.3\n",
      "+ 정차금지지대수            1   2270.6 4225.3\n",
      "- 전체_추정교통량           1   2275.2 4225.9\n",
      "- 안전지대수                1   2278.1 4228.8\n",
      "- 이상평균기온동반사고건수  1   2279.0 4229.7\n",
      "- 평균혼잡강도              1   2279.4 4230.1\n",
      "- 이상평균습도동반사고건수  1   2279.4 4230.1\n",
      "- 횡단보도수                1   2314.0 4264.7\n",
      "\n",
      "Step:  AIC=4222.28\n",
      "차대사람..60대.이상 ~ 신호등_차량등수 + cctv수 + \n",
      "    전체_추정교통량 + 이상평균기온동반사고건수 + \n",
      "    이상평균풍속동반사고건수 + 이상평균습도동반사고건수 + \n",
      "    이상안개시간동반사고건수 + 안전지대수 + \n",
      "    횡단보도수 + 자동차대수 + 평균혼잡강도\n",
      "\n",
      "                           Df Deviance    AIC\n",
      "- 이상평균풍속동반사고건수  1   2273.2 4221.9\n",
      "- cctv수                    1   2273.3 4222.0\n",
      "<none>                          2271.6 4222.3\n",
      "- 신호등_차량등수           1   2273.7 4222.4\n",
      "- 이상안개시간동반사고건수  1   2273.8 4222.5\n",
      "- 자동차대수                1   2273.9 4222.6\n",
      "+ 총거주인구수              1   2270.5 4223.2\n",
      "+ 도로속도표시수            1   2270.6 4223.3\n",
      "+ 신호등_보행자수           1   2270.7 4223.5\n",
      "+ 교통안전표지수            1   2270.8 4223.5\n",
      "+ 건물면적                  1   2271.0 4223.7\n",
      "+ 이상강수량동반사고건수    1   2271.3 4224.0\n",
      "+ 이상적설량동반사고건수    1   2271.4 4224.1\n",
      "+ 이상최대풍속동반사고건수  1   2271.5 4224.2\n",
      "+ 정차금지지대수            1   2271.6 4224.3\n",
      "+ 노드개수                  1   2271.6 4224.3\n",
      "- 전체_추정교통량           1   2275.8 4224.5\n",
      "- 안전지대수                1   2278.9 4227.6\n",
      "- 이상평균기온동반사고건수  1   2280.0 4228.7\n",
      "- 평균혼잡강도              1   2280.3 4229.1\n",
      "- 이상평균습도동반사고건수  1   2280.7 4229.4\n",
      "- 횡단보도수                1   2315.9 4264.6\n",
      "\n",
      "Step:  AIC=4221.91\n",
      "차대사람..60대.이상 ~ 신호등_차량등수 + cctv수 + \n",
      "    전체_추정교통량 + 이상평균기온동반사고건수 + \n",
      "    이상평균습도동반사고건수 + 이상안개시간동반사고건수 + \n",
      "    안전지대수 + 횡단보도수 + 자동차대수 + 평균혼잡강도\n",
      "\n",
      "                           Df Deviance    AIC\n",
      "<none>                          2273.2 4221.9\n",
      "- 신호등_차량등수           1   2275.4 4222.1\n",
      "- cctv수                    1   2275.5 4222.2\n",
      "- 자동차대수                1   2275.5 4222.2\n",
      "+ 이상평균풍속동반사고건수  1   2271.6 4222.3\n",
      "- 이상안개시간동반사고건수  1   2275.9 4222.6\n",
      "+ 총거주인구수              1   2272.1 4222.8\n",
      "+ 도로속도표시수            1   2272.2 4222.9\n",
      "+ 신호등_보행자수           1   2272.3 4223.0\n",
      "+ 교통안전표지수            1   2272.5 4223.2\n",
      "+ 건물면적                  1   2272.7 4223.4\n",
      "+ 이상최대풍속동반사고건수  1   2272.8 4223.5\n",
      "+ 이상적설량동반사고건수    1   2272.8 4223.5\n",
      "+ 이상강수량동반사고건수    1   2273.1 4223.8\n",
      "- 전체_추정교통량           1   2277.1 4223.8\n",
      "+ 정차금지지대수            1   2273.2 4223.9\n",
      "+ 노드개수                  1   2273.2 4223.9\n",
      "- 안전지대수                1   2280.7 4227.4\n",
      "- 평균혼잡강도              1   2281.4 4228.1\n",
      "- 이상평균습도동반사고건수  1   2285.5 4232.2\n",
      "- 이상평균기온동반사고건수  1   2286.6 4233.3\n",
      "- 횡단보도수                1   2318.5 4265.2\n"
     ]
    },
    {
     "data": {
      "text/plain": [
       "\n",
       "Call:\n",
       "glm(formula = 차대사람..60대.이상 ~ 신호등_차량등수 + \n",
       "    cctv수 + 전체_추정교통량 + 이상평균기온동반사고건수 + \n",
       "    이상평균습도동반사고건수 + 이상안개시간동반사고건수 + \n",
       "    안전지대수 + 횡단보도수 + 자동차대수 + 평균혼잡강도, \n",
       "    family = \"poisson\", data = mod_data2)\n",
       "\n",
       "Deviance Residuals: \n",
       "    Min       1Q   Median       3Q      Max  \n",
       "-2.0741  -0.8596  -0.7407   0.6417   3.9913  \n",
       "\n",
       "Coefficients:\n",
       "                           Estimate Std. Error z value Pr(>|z|)    \n",
       "(Intercept)              -1.377e+00  5.535e-02 -24.873  < 2e-16 ***\n",
       "신호등_차량등수           1.615e-02  1.084e-02   1.489 0.136366    \n",
       "cctv수                   -1.429e-01  9.626e-02  -1.484 0.137783    \n",
       "전체_추정교통량          -1.355e-04  6.985e-05  -1.940 0.052397 .  \n",
       "이상평균기온동반사고건수  7.361e-02  1.973e-02   3.731 0.000190 ***\n",
       "이상평균습도동반사고건수  7.718e-02  2.164e-02   3.566 0.000362 ***\n",
       "이상안개시간동반사고건수  7.863e-02  4.688e-02   1.677 0.093492 .  \n",
       "안전지대수               -8.818e-02  3.357e-02  -2.627 0.008617 ** \n",
       "횡단보도수                1.235e-01  1.772e-02   6.968  3.2e-12 ***\n",
       "자동차대수                2.698e-04  1.649e-04   1.636 0.101785    \n",
       "평균혼잡강도              2.690e-03  9.301e-04   2.892 0.003828 ** \n",
       "---\n",
       "Signif. codes:  0 ‘***’ 0.001 ‘**’ 0.01 ‘*’ 0.05 ‘.’ 0.1 ‘ ’ 1\n",
       "\n",
       "(Dispersion parameter for poisson family taken to be 1)\n",
       "\n",
       "    Null deviance: 2586.4  on 2571  degrees of freedom\n",
       "Residual deviance: 2273.2  on 2561  degrees of freedom\n",
       "AIC: 4221.9\n",
       "\n",
       "Number of Fisher Scoring iterations: 5\n"
      ]
     },
     "metadata": {},
     "output_type": "display_data"
    },
    {
     "data": {
      "text/plain": [
       "\n",
       "Call:\n",
       "glm(formula = 차대사람..60대.이상 ~ cctv수 + 이상평균기온동반사고건수 + \n",
       "    이상평균습도동반사고건수 + 이상안개시간동반사고건수 + \n",
       "    안전지대수 + 횡단보도수 + 자동차대수 + 평균혼잡강도, \n",
       "    family = \"poisson\", data = mod_data2)\n",
       "\n",
       "Deviance Residuals: \n",
       "    Min       1Q   Median       3Q      Max  \n",
       "-2.1540  -0.8608  -0.7455   0.6428   4.0542  \n",
       "\n",
       "Coefficients:\n",
       "                           Estimate Std. Error z value Pr(>|z|)    \n",
       "(Intercept)              -1.3877440  0.0551167 -25.178  < 2e-16 ***\n",
       "cctv수                   -0.1368739  0.0943681  -1.450 0.146940    \n",
       "이상평균기온동반사고건수  0.0743919  0.0196362   3.789 0.000152 ***\n",
       "이상평균습도동반사고건수  0.0785765  0.0215045   3.654 0.000258 ***\n",
       "이상안개시간동반사고건수  0.0747117  0.0465383   1.605 0.108410    \n",
       "안전지대수               -0.0925159  0.0327648  -2.824 0.004748 ** \n",
       "횡단보도수                0.1377341  0.0158520   8.689  < 2e-16 ***\n",
       "자동차대수                0.0002845  0.0001634   1.741 0.081688 .  \n",
       "평균혼잡강도              0.0018028  0.0008245   2.186 0.028786 *  \n",
       "---\n",
       "Signif. codes:  0 ‘***’ 0.001 ‘**’ 0.01 ‘*’ 0.05 ‘.’ 0.1 ‘ ’ 1\n",
       "\n",
       "(Dispersion parameter for poisson family taken to be 1)\n",
       "\n",
       "    Null deviance: 2586.4  on 2571  degrees of freedom\n",
       "Residual deviance: 2278.8  on 2563  degrees of freedom\n",
       "AIC: 4223.5\n",
       "\n",
       "Number of Fisher Scoring iterations: 5\n"
      ]
     },
     "metadata": {},
     "output_type": "display_data"
    },
    {
     "data": {
      "text/html": [
       "'AIC: 4223.51'"
      ],
      "text/latex": [
       "'AIC: 4223.51'"
      ],
      "text/markdown": [
       "'AIC: 4223.51'"
      ],
      "text/plain": [
       "[1] \"AIC: 4223.51\""
      ]
     },
     "metadata": {},
     "output_type": "display_data"
    }
   ],
   "source": [
    "mod_data2 <- person_over60 %>%\n",
    "  dplyr::select(신호등_보행자수:총거주인구수, 차대사람..60대.이상) %>%\n",
    "  mutate(평균혼잡강도=(혼잡빈도강도 + 혼잡시간강도)/2) %>%\n",
    "  dplyr::select(-혼잡빈도강도, -혼잡시간강도, -이상최저온도동반사고건수, -이상최고온도동반사고건수, -이상평균지면온도동반사고건수)\n",
    "\n",
    "mod <- glm(`차대사람..60대.이상`~., family=\"poisson\", mod_data2)\n",
    "#회귀분석의 변수선택(stepwise 방법)\n",
    "summary(step(mod,direction = 'both'))\n",
    "mod1 <- glm(formula = 차대사람..60대.이상 ~ cctv수 + 이상평균기온동반사고건수 + \n",
    "            이상평균습도동반사고건수 + 이상안개시간동반사고건수 + 안전지대수 + \n",
    "            횡단보도수 + 자동차대수 + 평균혼잡강도, family = \"poisson\", data = mod_data2)\n",
    "summary(mod1)\n",
    "paste(\"AIC:\",round(AIC(mod1),2))"
   ]
  },
  {
   "cell_type": "markdown",
   "id": "operational-evanescence",
   "metadata": {},
   "source": [
    "##### 포아송회귀 (GLM) 모델 적용 - 차대사람..50대"
   ]
  },
  {
   "cell_type": "code",
   "execution_count": 21,
   "id": "junior-proposal",
   "metadata": {},
   "outputs": [
    {
     "data": {
      "text/plain": [
       "\n",
       "Call:\n",
       "glm(formula = 차대사람..50대 ~ cctv수 + 이상평균기온동반사고건수 + \n",
       "    이상최대풍속동반사고건수 + 이상평균풍속동반사고건수 + \n",
       "    이상평균습도동반사고건수 + 안전지대수 + \n",
       "    횡단보도수, family = \"poisson\", data = mod_data2)\n",
       "\n",
       "Deviance Residuals: \n",
       "    Min       1Q   Median       3Q      Max  \n",
       "-2.1995  -0.6596  -0.5664  -0.5248   4.4529  \n",
       "\n",
       "Coefficients:\n",
       "                         Estimate Std. Error z value Pr(>|z|)    \n",
       "(Intercept)              -1.98264    0.06778 -29.250  < 2e-16 ***\n",
       "cctv수                   -0.28236    0.13381  -2.110  0.03484 *  \n",
       "이상평균기온동반사고건수  0.09169    0.02934   3.125  0.00178 ** \n",
       "이상최대풍속동반사고건수 -0.07045    0.03978  -1.771  0.07656 .  \n",
       "이상평균풍속동반사고건수  0.05853    0.03825   1.530  0.12597    \n",
       "이상평균습도동반사고건수  0.12122    0.02847   4.258 2.06e-05 ***\n",
       "안전지대수               -0.11417    0.04994  -2.286  0.02225 *  \n",
       "횡단보도수                0.15242    0.02100   7.258 3.92e-13 ***\n",
       "---\n",
       "Signif. codes:  0 ‘***’ 0.001 ‘**’ 0.01 ‘*’ 0.05 ‘.’ 0.1 ‘ ’ 1\n",
       "\n",
       "(Dispersion parameter for poisson family taken to be 1)\n",
       "\n",
       "    Null deviance: 1901.1  on 2412  degrees of freedom\n",
       "Residual deviance: 1688.7  on 2405  degrees of freedom\n",
       "AIC: 2764.1\n",
       "\n",
       "Number of Fisher Scoring iterations: 6\n"
      ]
     },
     "metadata": {},
     "output_type": "display_data"
    },
    {
     "data": {
      "text/html": [
       "'AIC: 2764.15'"
      ],
      "text/latex": [
       "'AIC: 2764.15'"
      ],
      "text/markdown": [
       "'AIC: 2764.15'"
      ],
      "text/plain": [
       "[1] \"AIC: 2764.15\""
      ]
     },
     "metadata": {},
     "output_type": "display_data"
    }
   ],
   "source": [
    "mod_data2 <- person_50 %>%\n",
    "  dplyr::select(신호등_보행자수:총거주인구수, 차대사람..50대) %>%\n",
    "  mutate(평균혼잡강도=(혼잡빈도강도 + 혼잡시간강도)/2) %>%\n",
    "  dplyr::select(-혼잡빈도강도, -혼잡시간강도, -이상최저온도동반사고건수, -이상최고온도동반사고건수, -이상평균지면온도동반사고건수)\n",
    "\n",
    "mod <- glm(`차대사람..50대`~., family=\"poisson\", mod_data2)\n",
    "#회귀분석의 변수선택(stepwise 방법)\n",
    "# summary(step(mod,direction = 'both'))\n",
    "mod1 <- glm(formula = 차대사람..50대 ~ cctv수 + 이상평균기온동반사고건수 + \n",
    "            이상최대풍속동반사고건수 + 이상평균풍속동반사고건수 + 이상평균습도동반사고건수 + \n",
    "            안전지대수 + 횡단보도수 , family = \"poisson\", data = mod_data2)\n",
    "summary(mod1)\n",
    "paste(\"AIC:\",round(AIC(mod1),2))"
   ]
  },
  {
   "cell_type": "markdown",
   "id": "arranged-recording",
   "metadata": {},
   "source": [
    "##### 포아송회귀 (GLM) 모델 적용 - 차대사람..40대"
   ]
  },
  {
   "cell_type": "code",
   "execution_count": 22,
   "id": "capable-title",
   "metadata": {},
   "outputs": [
    {
     "data": {
      "text/plain": [
       "\n",
       "Call:\n",
       "glm(formula = 차대사람..40대 ~ cctv수 + 이상평균기온동반사고건수 + \n",
       "    이상강수량동반사고건수 + 횡단보도수 + 평균혼잡강도, \n",
       "    family = \"poisson\", data = mod_data2)\n",
       "\n",
       "Deviance Residuals: \n",
       "    Min       1Q   Median       3Q      Max  \n",
       "-1.9207  -0.6089  -0.5194  -0.4543   3.0488  \n",
       "\n",
       "Coefficients:\n",
       "                          Estimate Std. Error z value Pr(>|z|)    \n",
       "(Intercept)              -2.271012   0.086822 -26.157  < 2e-16 ***\n",
       "cctv수                   -0.285457   0.156978  -1.818 0.068996 .  \n",
       "이상평균기온동반사고건수  0.105136   0.024613   4.272 1.94e-05 ***\n",
       "이상강수량동반사고건수    0.156014   0.046334   3.367 0.000759 ***\n",
       "횡단보도수                0.129337   0.024612   5.255 1.48e-07 ***\n",
       "평균혼잡강도              0.003051   0.001304   2.340 0.019271 *  \n",
       "---\n",
       "Signif. codes:  0 ‘***’ 0.001 ‘**’ 0.01 ‘*’ 0.05 ‘.’ 0.1 ‘ ’ 1\n",
       "\n",
       "(Dispersion parameter for poisson family taken to be 1)\n",
       "\n",
       "    Null deviance: 1618.2  on 2319  degrees of freedom\n",
       "Residual deviance: 1466.4  on 2314  degrees of freedom\n",
       "AIC: 2325.1\n",
       "\n",
       "Number of Fisher Scoring iterations: 6\n"
      ]
     },
     "metadata": {},
     "output_type": "display_data"
    },
    {
     "data": {
      "text/html": [
       "'AIC: 2325.12'"
      ],
      "text/latex": [
       "'AIC: 2325.12'"
      ],
      "text/markdown": [
       "'AIC: 2325.12'"
      ],
      "text/plain": [
       "[1] \"AIC: 2325.12\""
      ]
     },
     "metadata": {},
     "output_type": "display_data"
    }
   ],
   "source": [
    "mod_data2 <- person_40 %>%\n",
    "  dplyr::select(신호등_보행자수:총거주인구수, 차대사람..40대) %>%\n",
    "  mutate(평균혼잡강도=(혼잡빈도강도 + 혼잡시간강도)/2) %>%\n",
    "  dplyr::select(-혼잡빈도강도, -혼잡시간강도, -이상최저온도동반사고건수, -이상최고온도동반사고건수, -이상평균지면온도동반사고건수)\n",
    "\n",
    "mod <- glm(`차대사람..40대`~., family=\"poisson\", mod_data2)\n",
    "#회귀분석의 변수선택(stepwise 방법)\n",
    "# summary(step(mod,direction = 'both'))\n",
    "mod1<-glm(formula = 차대사람..40대 ~ cctv수 + 이상평균기온동반사고건수 + \n",
    "            이상강수량동반사고건수 + 횡단보도수 + 평균혼잡강도 , family = \"poisson\", data = mod_data2)\n",
    "summary(mod1)\n",
    "paste(\"AIC:\",round(AIC(mod1),2))"
   ]
  },
  {
   "cell_type": "markdown",
   "id": "pointed-baptist",
   "metadata": {},
   "source": [
    "##### 포아송회귀 (GLM) 모델 적용 - 차대사람..30대"
   ]
  },
  {
   "cell_type": "code",
   "execution_count": 23,
   "id": "severe-model",
   "metadata": {},
   "outputs": [
    {
     "data": {
      "text/plain": [
       "\n",
       "Call:\n",
       "glm(formula = 차대사람..30대 ~ 신호등_차량등수 + \n",
       "    cctv수 + 이상평균기온동반사고건수 + 이상평균습도동반사고건수 + \n",
       "    이상강수량동반사고건수 + 횡단보도수 + 총거주인구수, \n",
       "    family = \"poisson\", data = mod_data2)\n",
       "\n",
       "Deviance Residuals: \n",
       "    Min       1Q   Median       3Q      Max  \n",
       "-2.1810  -0.5567  -0.4651  -0.4060   3.4876  \n",
       "\n",
       "Coefficients:\n",
       "                           Estimate Std. Error z value Pr(>|z|)    \n",
       "(Intercept)              -2.5512122  0.1038943 -24.556  < 2e-16 ***\n",
       "신호등_차량등수          -0.0378586  0.0197856  -1.913   0.0557 .  \n",
       "cctv수                   -0.4281427  0.1786603  -2.396   0.0166 *  \n",
       "이상평균기온동반사고건수  0.1428156  0.0296843   4.811 1.50e-06 ***\n",
       "이상평균습도동반사고건수  0.0657763  0.0417202   1.577   0.1149    \n",
       "이상강수량동반사고건수    0.1174709  0.0583440   2.013   0.0441 *  \n",
       "횡단보도수                0.1765634  0.0285881   6.176 6.57e-10 ***\n",
       "총거주인구수              0.0005916  0.0003140   1.884   0.0595 .  \n",
       "---\n",
       "Signif. codes:  0 ‘***’ 0.001 ‘**’ 0.01 ‘*’ 0.05 ‘.’ 0.1 ‘ ’ 1\n",
       "\n",
       "(Dispersion parameter for poisson family taken to be 1)\n",
       "\n",
       "    Null deviance: 1403.6  on 2112  degrees of freedom\n",
       "Residual deviance: 1209.8  on 2105  degrees of freedom\n",
       "AIC: 1889.6\n",
       "\n",
       "Number of Fisher Scoring iterations: 6\n"
      ]
     },
     "metadata": {},
     "output_type": "display_data"
    },
    {
     "data": {
      "text/html": [
       "'AIC: 1889.56'"
      ],
      "text/latex": [
       "'AIC: 1889.56'"
      ],
      "text/markdown": [
       "'AIC: 1889.56'"
      ],
      "text/plain": [
       "[1] \"AIC: 1889.56\""
      ]
     },
     "metadata": {},
     "output_type": "display_data"
    }
   ],
   "source": [
    "mod_data2 <- person_30 %>%\n",
    "  dplyr::select(신호등_보행자수:총거주인구수, 차대사람..30대) %>%\n",
    "  mutate(평균혼잡강도=(혼잡빈도강도 + 혼잡시간강도)/2) %>%\n",
    "  dplyr::select(-혼잡빈도강도, -혼잡시간강도, -이상최저온도동반사고건수, -이상최고온도동반사고건수, -이상평균지면온도동반사고건수)\n",
    "\n",
    "mod <- glm(`차대사람..30대`~., family=\"poisson\", mod_data2)\n",
    "#회귀분석의 변수선택(stepwise 방법)\n",
    "# summary(step(mod,direction = 'both'))\n",
    "mod1 <- glm(formula = 차대사람..30대 ~ 신호등_차량등수 + cctv수 + 이상평균기온동반사고건수 + \n",
    "            이상평균습도동반사고건수 + 이상강수량동반사고건수 + 횡단보도수 + \n",
    "            총거주인구수 , family = \"poisson\", data = mod_data2)\n",
    "summary(mod1)\n",
    "paste(\"AIC:\",round(AIC(mod1),2))"
   ]
  },
  {
   "cell_type": "markdown",
   "id": "appreciated-generic",
   "metadata": {},
   "source": [
    "##### 포아송회귀 (GLM) 모델 적용 - 차대사람..20대"
   ]
  },
  {
   "cell_type": "code",
   "execution_count": 24,
   "id": "convinced-trainer",
   "metadata": {},
   "outputs": [
    {
     "data": {
      "text/plain": [
       "\n",
       "Call:\n",
       "glm(formula = 차대사람..20대 ~ 신호등_보행자수 + \n",
       "    신호등_차량등수 + cctv수 + 이상평균기온동반사고건수 + \n",
       "    이상최대풍속동반사고건수 + 이상평균습도동반사고건수 + \n",
       "    이상강수량동반사고건수 + 정차금지지대수 + \n",
       "    도로속도표시수 + 노드개수 + 횡단보도수 + \n",
       "    총거주인구수, family = \"poisson\", data = mod_data2)\n",
       "\n",
       "Deviance Residuals: \n",
       "    Min       1Q   Median       3Q      Max  \n",
       "-4.0879  -0.6924  -0.6012  -0.4929   5.1904  \n",
       "\n",
       "Coefficients:\n",
       "                           Estimate Std. Error z value Pr(>|z|)    \n",
       "(Intercept)              -1.8664191  0.0872773 -21.385  < 2e-16 ***\n",
       "신호등_보행자수           0.1028159  0.0289682   3.549 0.000386 ***\n",
       "신호등_차량등수          -0.1049896  0.0238211  -4.407 1.05e-05 ***\n",
       "cctv수                   -0.6772312  0.1548523  -4.373 1.22e-05 ***\n",
       "이상평균기온동반사고건수  0.2183424  0.0232459   9.393  < 2e-16 ***\n",
       "이상최대풍속동반사고건수  0.0769174  0.0197911   3.886 0.000102 ***\n",
       "이상평균습도동반사고건수  0.0556375  0.0334893   1.661 0.096642 .  \n",
       "이상강수량동반사고건수    0.0958696  0.0426878   2.246 0.024715 *  \n",
       "정차금지지대수            0.5790712  0.1691258   3.424 0.000617 ***\n",
       "도로속도표시수           -0.0482006  0.0271503  -1.775 0.075844 .  \n",
       "노드개수                 -0.2803410  0.0887940  -3.157 0.001593 ** \n",
       "횡단보도수                0.0908724  0.0268360   3.386 0.000709 ***\n",
       "총거주인구수              0.0005271  0.0002767   1.905 0.056761 .  \n",
       "---\n",
       "Signif. codes:  0 ‘***’ 0.001 ‘**’ 0.01 ‘*’ 0.05 ‘.’ 0.1 ‘ ’ 1\n",
       "\n",
       "(Dispersion parameter for poisson family taken to be 1)\n",
       "\n",
       "    Null deviance: 2381.7  on 1757  degrees of freedom\n",
       "Residual deviance: 1434.2  on 1745  degrees of freedom\n",
       "AIC: 2328.6\n",
       "\n",
       "Number of Fisher Scoring iterations: 6\n"
      ]
     },
     "metadata": {},
     "output_type": "display_data"
    },
    {
     "data": {
      "text/html": [
       "'AIC: 2328.62'"
      ],
      "text/latex": [
       "'AIC: 2328.62'"
      ],
      "text/markdown": [
       "'AIC: 2328.62'"
      ],
      "text/plain": [
       "[1] \"AIC: 2328.62\""
      ]
     },
     "metadata": {},
     "output_type": "display_data"
    }
   ],
   "source": [
    "mod_data2 <- person_20 %>%\n",
    "  dplyr::select(신호등_보행자수:총거주인구수, 차대사람..20대) %>%\n",
    "  mutate(평균혼잡강도=(혼잡빈도강도 + 혼잡시간강도)/2) %>%\n",
    "  dplyr::select(-혼잡빈도강도, -혼잡시간강도, -이상최저온도동반사고건수, -이상최고온도동반사고건수, -이상평균지면온도동반사고건수)\n",
    "\n",
    "mod <- glm(`차대사람..20대`~., family=\"poisson\", mod_data2)\n",
    "#회귀분석의 변수선택(stepwise 방법)\n",
    "# summary(step(mod,direction = 'both'))\n",
    "mod1 <- glm(formula = 차대사람..20대 ~ 신호등_보행자수 + 신호등_차량등수 + \n",
    "            cctv수 + 이상평균기온동반사고건수 + 이상최대풍속동반사고건수 + \n",
    "            이상평균습도동반사고건수 + 이상강수량동반사고건수 + 정차금지지대수 + \n",
    "            도로속도표시수 + 노드개수 + 횡단보도수 + 총거주인구수 , family = \"poisson\", data = mod_data2)\n",
    "summary(mod1)\n",
    "paste(\"AIC:\",round(AIC(mod1),2))"
   ]
  },
  {
   "cell_type": "markdown",
   "id": "sapphire-tactics",
   "metadata": {},
   "source": [
    "##### 포아송회귀 (GLM) 모델 적용 - 차대사람..20대미만"
   ]
  },
  {
   "cell_type": "code",
   "execution_count": 25,
   "id": "elect-circle",
   "metadata": {},
   "outputs": [
    {
     "data": {
      "text/plain": [
       "\n",
       "Call:\n",
       "glm(formula = 차대사람..20대.미만 ~ 신호등_보행자수 + \n",
       "    cctv수 + 이상평균기온동반사고건수 + 이상평균풍속동반사고건수 + \n",
       "    이상강수량동반사고건수 + 이상안개시간동반사고건수 + \n",
       "    안전지대수 + 노드개수 + 횡단보도수 + 총거주인구수, \n",
       "    family = \"poisson\", data = mod_data2)\n",
       "\n",
       "Deviance Residuals: \n",
       "    Min       1Q   Median       3Q      Max  \n",
       "-2.3832  -0.6478  -0.5520  -0.4854   3.4403  \n",
       "\n",
       "Coefficients:\n",
       "                           Estimate Std. Error z value Pr(>|z|)    \n",
       "(Intercept)              -2.1386570  0.0870356 -24.572  < 2e-16 ***\n",
       "신호등_보행자수           0.0785367  0.0219876   3.572 0.000354 ***\n",
       "cctv수                   -0.5550564  0.1845261  -3.008 0.002630 ** \n",
       "이상평균기온동반사고건수  0.1804557  0.0261436   6.902 5.11e-12 ***\n",
       "이상평균풍속동반사고건수  0.0638564  0.0300589   2.124 0.033639 *  \n",
       "이상강수량동반사고건수    0.1320417  0.0476526   2.771 0.005590 ** \n",
       "이상안개시간동반사고건수 -0.1766998  0.0763430  -2.315 0.020637 *  \n",
       "안전지대수               -0.0903020  0.0468703  -1.927 0.054025 .  \n",
       "노드개수                 -0.1718690  0.0891092  -1.929 0.053763 .  \n",
       "횡단보도수                0.0954144  0.0295318   3.231 0.001234 ** \n",
       "총거주인구수              0.0008046  0.0002157   3.731 0.000191 ***\n",
       "---\n",
       "Signif. codes:  0 ‘***’ 0.001 ‘**’ 0.01 ‘*’ 0.05 ‘.’ 0.1 ‘ ’ 1\n",
       "\n",
       "(Dispersion parameter for poisson family taken to be 1)\n",
       "\n",
       "    Null deviance: 1778.5  on 2205  degrees of freedom\n",
       "Residual deviance: 1511.7  on 2195  degrees of freedom\n",
       "AIC: 2484.3\n",
       "\n",
       "Number of Fisher Scoring iterations: 6\n"
      ]
     },
     "metadata": {},
     "output_type": "display_data"
    },
    {
     "data": {
      "text/html": [
       "'AIC: 2484.3'"
      ],
      "text/latex": [
       "'AIC: 2484.3'"
      ],
      "text/markdown": [
       "'AIC: 2484.3'"
      ],
      "text/plain": [
       "[1] \"AIC: 2484.3\""
      ]
     },
     "metadata": {},
     "output_type": "display_data"
    }
   ],
   "source": [
    "mod_data2 <- person_under20 %>%\n",
    "  dplyr::select(신호등_보행자수:총거주인구수, 차대사람..20대.미만) %>%\n",
    "  mutate(평균혼잡강도=(혼잡빈도강도 + 혼잡시간강도)/2) %>%\n",
    "  dplyr::select(-혼잡빈도강도, -혼잡시간강도, -이상최저온도동반사고건수, -이상최고온도동반사고건수, -이상평균지면온도동반사고건수)\n",
    "\n",
    "mod<-glm(`차대사람..20대.미만`~., family=\"poisson\", mod_data2)\n",
    "#회귀분석의 변수선택(stepwise 방법)\n",
    "# summary(step(mod,direction = 'both'))\n",
    "mod1<-glm(formula = 차대사람..20대.미만 ~ 신호등_보행자수 + cctv수 + \n",
    "            이상평균기온동반사고건수 + 이상평균풍속동반사고건수 + 이상강수량동반사고건수 + \n",
    "            이상안개시간동반사고건수 + 안전지대수 + 노드개수 + 횡단보도수 + \n",
    "            총거주인구수 , family = \"poisson\", data = mod_data2)\n",
    "summary(mod1)\n",
    "paste(\"AIC:\",round(AIC(mod1),2))"
   ]
  },
  {
   "cell_type": "markdown",
   "id": "personalized-event",
   "metadata": {},
   "source": [
    "##### 포아송회귀 (GLM) 모델 적용 - 차대차..60대이상"
   ]
  },
  {
   "cell_type": "code",
   "execution_count": 26,
   "id": "amazing-stress",
   "metadata": {},
   "outputs": [
    {
     "data": {
      "text/plain": [
       "\n",
       "Call:\n",
       "glm(formula = 차대차..60대.이상 ~ 신호등_차량등수 + \n",
       "    이상평균기온동반사고건수 + 이상평균풍속동반사고건수 + \n",
       "    이상평균습도동반사고건수 + 이상적설량동반사고건수 + \n",
       "    안전지대수 + 도로속도표시수 + 노드개수 + \n",
       "    횡단보도수 + 자동차대수 + 총거주인구수 + \n",
       "    전체_추정교통량 + 평균혼잡강도, family = \"poisson\", \n",
       "    data = mod_data2)\n",
       "\n",
       "Deviance Residuals: \n",
       "    Min       1Q   Median       3Q      Max  \n",
       "-3.2579  -0.9897  -0.8396   0.5448   4.0935  \n",
       "\n",
       "Coefficients:\n",
       "                           Estimate Std. Error z value Pr(>|z|)    \n",
       "(Intercept)              -9.772e-01  4.141e-02 -23.601  < 2e-16 ***\n",
       "신호등_차량등수           3.756e-02  6.692e-03   5.613 1.99e-08 ***\n",
       "이상평균기온동반사고건수  6.655e-02  1.247e-02   5.337 9.47e-08 ***\n",
       "이상평균풍속동반사고건수  8.137e-02  1.115e-02   7.300 2.87e-13 ***\n",
       "이상평균습도동반사고건수  9.191e-02  1.169e-02   7.860 3.84e-15 ***\n",
       "이상적설량동반사고건수   -8.223e-02  3.104e-02  -2.649  0.00808 ** \n",
       "안전지대수                2.009e-02  1.441e-02   1.394  0.16321    \n",
       "도로속도표시수            7.652e-02  9.834e-03   7.782 7.15e-15 ***\n",
       "노드개수                  1.090e-01  3.455e-02   3.155  0.00161 ** \n",
       "횡단보도수                5.906e-02  1.171e-02   5.044 4.55e-07 ***\n",
       "자동차대수                1.858e-04  1.272e-04   1.461  0.14408    \n",
       "총거주인구수             -2.692e-04  1.477e-04  -1.823  0.06833 .  \n",
       "전체_추정교통량           1.534e-04  3.447e-05   4.451 8.56e-06 ***\n",
       "평균혼잡강도              9.044e-04  6.390e-04   1.415  0.15693    \n",
       "---\n",
       "Signif. codes:  0 ‘***’ 0.001 ‘**’ 0.01 ‘*’ 0.05 ‘.’ 0.1 ‘ ’ 1\n",
       "\n",
       "(Dispersion parameter for poisson family taken to be 1)\n",
       "\n",
       "    Null deviance: 5064.4  on 3138  degrees of freedom\n",
       "Residual deviance: 3092.3  on 3125  degrees of freedom\n",
       "AIC: 6810.2\n",
       "\n",
       "Number of Fisher Scoring iterations: 5\n"
      ]
     },
     "metadata": {},
     "output_type": "display_data"
    },
    {
     "data": {
      "text/html": [
       "'AIC: 6810.19'"
      ],
      "text/latex": [
       "'AIC: 6810.19'"
      ],
      "text/markdown": [
       "'AIC: 6810.19'"
      ],
      "text/plain": [
       "[1] \"AIC: 6810.19\""
      ]
     },
     "metadata": {},
     "output_type": "display_data"
    }
   ],
   "source": [
    "mod_data2 <- car_over60 %>%\n",
    "  dplyr::select(신호등_보행자수:총거주인구수, 차대차..60대.이상) %>%\n",
    "  mutate(평균혼잡강도=(혼잡빈도강도 + 혼잡시간강도)/2) %>%\n",
    "  dplyr::select(-혼잡빈도강도, -혼잡시간강도, -이상최저온도동반사고건수, -이상최고온도동반사고건수, -이상평균지면온도동반사고건수)\n",
    "\n",
    "mod<-glm(`차대차..60대.이상`~., family=\"poisson\", mod_data2)\n",
    "#회귀분석의 변수선택(stepwise 방법)\n",
    "# summary(step(mod,direction = 'both'))\n",
    "mod1<-glm(formula = 차대차..60대.이상 ~ 신호등_차량등수 + 이상평균기온동반사고건수 + \n",
    "            이상평균풍속동반사고건수 + 이상평균습도동반사고건수 + 이상적설량동반사고건수 + \n",
    "            안전지대수 + 도로속도표시수 + 노드개수 + 횡단보도수 + 자동차대수 + \n",
    "            총거주인구수 + 전체_추정교통량 + 평균혼잡강도 , family = \"poisson\", data = mod_data2)\n",
    "summary(mod1)\n",
    "paste(\"AIC:\",round(AIC(mod1),2))"
   ]
  },
  {
   "cell_type": "markdown",
   "id": "distinct-xerox",
   "metadata": {},
   "source": [
    "##### 포아송회귀 (GLM) 모델 적용 - 차대차..50대"
   ]
  },
  {
   "cell_type": "code",
   "execution_count": 27,
   "id": "sudden-opinion",
   "metadata": {},
   "outputs": [
    {
     "data": {
      "text/plain": [
       "\n",
       "Call:\n",
       "glm(formula = 차대차..50대 ~ 신호등_차량등수 + cctv수 + \n",
       "    이상평균기온동반사고건수 + 이상평균풍속동반사고건수 + \n",
       "    이상평균습도동반사고건수 + 이상강수량동반사고건수 + \n",
       "    안전지대수 + 정차금지지대수 + 도로속도표시수 + \n",
       "    노드개수 + 건물면적 + 총거주인구수 + 전체_추정교통량 + \n",
       "    평균혼잡강도, family = \"poisson\", data = mod_data2)\n",
       "\n",
       "Deviance Residuals: \n",
       "    Min       1Q   Median       3Q      Max  \n",
       "-4.1134  -1.0738  -0.2209   0.4640   4.0598  \n",
       "\n",
       "Coefficients:\n",
       "                           Estimate Std. Error z value Pr(>|z|)    \n",
       "(Intercept)              -6.144e-01  3.512e-02 -17.494  < 2e-16 ***\n",
       "신호등_차량등수           4.752e-02  5.689e-03   8.353  < 2e-16 ***\n",
       "cctv수                   -3.664e-02  3.959e-02  -0.926 0.354685    \n",
       "이상평균기온동반사고건수  9.487e-02  1.033e-02   9.187  < 2e-16 ***\n",
       "이상평균풍속동반사고건수  4.746e-02  1.037e-02   4.575 4.77e-06 ***\n",
       "이상평균습도동반사고건수  6.324e-02  1.270e-02   4.978 6.43e-07 ***\n",
       "이상강수량동반사고건수    5.958e-02  1.760e-02   3.384 0.000713 ***\n",
       "안전지대수                2.886e-02  1.161e-02   2.485 0.012964 *  \n",
       "정차금지지대수           -2.056e-01  1.120e-01  -1.837 0.066275 .  \n",
       "도로속도표시수            7.720e-02  8.703e-03   8.871  < 2e-16 ***\n",
       "노드개수                  1.926e-01  3.034e-02   6.347 2.20e-10 ***\n",
       "건물면적                  3.713e-07  2.923e-06   0.127 0.898922    \n",
       "총거주인구수             -3.307e-04  1.379e-04  -2.398 0.016481 *  \n",
       "전체_추정교통량           1.668e-04  3.011e-05   5.540 3.03e-08 ***\n",
       "평균혼잡강도             -2.041e-03  5.771e-04  -3.536 0.000407 ***\n",
       "---\n",
       "Signif. codes:  0 ‘***’ 0.001 ‘**’ 0.01 ‘*’ 0.05 ‘.’ 0.1 ‘ ’ 1\n",
       "\n",
       "(Dispersion parameter for poisson family taken to be 1)\n",
       "\n",
       "    Null deviance: 5658.5  on 3116  degrees of freedom\n",
       "Residual deviance: 3173.0  on 3102  degrees of freedom\n",
       "AIC: 7498.2\n",
       "\n",
       "Number of Fisher Scoring iterations: 5\n"
      ]
     },
     "metadata": {},
     "output_type": "display_data"
    },
    {
     "data": {
      "text/html": [
       "'AIC: 7498.25'"
      ],
      "text/latex": [
       "'AIC: 7498.25'"
      ],
      "text/markdown": [
       "'AIC: 7498.25'"
      ],
      "text/plain": [
       "[1] \"AIC: 7498.25\""
      ]
     },
     "metadata": {},
     "output_type": "display_data"
    }
   ],
   "source": [
    "mod_data2 <- car_50 %>%\n",
    "  dplyr::select(신호등_보행자수:총거주인구수, 차대차..50대) %>%\n",
    "  mutate(평균혼잡강도=(혼잡빈도강도 + 혼잡시간강도)/2) %>%\n",
    "  dplyr::select(-혼잡빈도강도, -혼잡시간강도, -이상최저온도동반사고건수, -이상최고온도동반사고건수, -이상평균지면온도동반사고건수)\n",
    "\n",
    "mod <- glm(`차대차..50대`~., family=\"poisson\", mod_data2)\n",
    "#회귀분석의 변수선택(stepwise 방법)\n",
    "# summary(step(mod,direction = 'both'))\n",
    "mod1 <- glm(formula = 차대차..50대 ~ 신호등_차량등수 + cctv수 + 이상평균기온동반사고건수 + \n",
    "            이상평균풍속동반사고건수 + 이상평균습도동반사고건수 + 이상강수량동반사고건수 + \n",
    "            안전지대수 + 정차금지지대수 + 도로속도표시수 + 노드개수 + \n",
    "            건물면적 + 총거주인구수 + 전체_추정교통량 + 평균혼잡강도 , family = \"poisson\", data = mod_data2)\n",
    "summary(mod1)\n",
    "paste(\"AIC:\",round(AIC(mod1),2))"
   ]
  },
  {
   "cell_type": "markdown",
   "id": "bacterial-syracuse",
   "metadata": {},
   "source": [
    "##### 포아송회귀 (GLM) 모델 적용 - 차대차..40대"
   ]
  },
  {
   "cell_type": "code",
   "execution_count": 28,
   "id": "dominican-badge",
   "metadata": {},
   "outputs": [
    {
     "data": {
      "text/plain": [
       "\n",
       "Call:\n",
       "glm(formula = 차대차..40대 ~ 신호등_보행자수 + cctv수 + \n",
       "    이상평균기온동반사고건수 + 이상평균풍속동반사고건수 + \n",
       "    이상평균습도동반사고건수 + 이상강수량동반사고건수 + \n",
       "    이상적설량동반사고건수 + 이상안개시간동반사고건수 + \n",
       "    도로속도표시수 + 교통안전표지수 + 노드개수 + \n",
       "    횡단보도수 + 총거주인구수 + 전체_추정교통량, \n",
       "    family = \"poisson\", data = mod_data2)\n",
       "\n",
       "Deviance Residuals: \n",
       "    Min       1Q   Median       3Q      Max  \n",
       "-4.1284  -1.0789  -0.1193   0.4466   4.0732  \n",
       "\n",
       "Coefficients:\n",
       "                           Estimate Std. Error z value Pr(>|z|)    \n",
       "(Intercept)              -6.439e-01  3.674e-02 -17.524  < 2e-16 ***\n",
       "신호등_보행자수           4.565e-02  9.961e-03   4.583 4.59e-06 ***\n",
       "cctv수                   -8.580e-02  4.209e-02  -2.038  0.04151 *  \n",
       "이상평균기온동반사고건수  8.163e-02  1.151e-02   7.094 1.30e-12 ***\n",
       "이상평균풍속동반사고건수  4.577e-02  1.062e-02   4.309 1.64e-05 ***\n",
       "이상평균습도동반사고건수  7.324e-02  1.261e-02   5.808 6.32e-09 ***\n",
       "이상강수량동반사고건수    4.767e-02  1.860e-02   2.562  0.01040 *  \n",
       "이상적설량동반사고건수   -3.527e-02  2.773e-02  -1.272  0.20341    \n",
       "이상안개시간동반사고건수  7.726e-02  2.355e-02   3.281  0.00103 ** \n",
       "도로속도표시수            7.066e-02  9.135e-03   7.735 1.04e-14 ***\n",
       "교통안전표지수            1.269e-02  4.332e-03   2.930  0.00339 ** \n",
       "노드개수                  1.495e-01  3.181e-02   4.699 2.62e-06 ***\n",
       "횡단보도수               -1.874e-03  1.285e-02  -0.146  0.88407    \n",
       "총거주인구수             -3.958e-04  1.309e-04  -3.025  0.00248 ** \n",
       "전체_추정교통량           1.256e-04  2.767e-05   4.540 5.62e-06 ***\n",
       "---\n",
       "Signif. codes:  0 ‘***’ 0.001 ‘**’ 0.01 ‘*’ 0.05 ‘.’ 0.1 ‘ ’ 1\n",
       "\n",
       "(Dispersion parameter for poisson family taken to be 1)\n",
       "\n",
       "    Null deviance: 5134.5  on 3085  degrees of freedom\n",
       "Residual deviance: 3024.7  on 3071  degrees of freedom\n",
       "AIC: 7369.1\n",
       "\n",
       "Number of Fisher Scoring iterations: 5\n"
      ]
     },
     "metadata": {},
     "output_type": "display_data"
    },
    {
     "data": {
      "text/html": [
       "'AIC: 7369.12'"
      ],
      "text/latex": [
       "'AIC: 7369.12'"
      ],
      "text/markdown": [
       "'AIC: 7369.12'"
      ],
      "text/plain": [
       "[1] \"AIC: 7369.12\""
      ]
     },
     "metadata": {},
     "output_type": "display_data"
    }
   ],
   "source": [
    "mod_data2 <- car_40 %>%\n",
    "  dplyr::select(신호등_보행자수:총거주인구수, 차대차..40대) %>%\n",
    "  mutate(평균혼잡강도=(혼잡빈도강도 + 혼잡시간강도)/2) %>%\n",
    "  dplyr::select(-혼잡빈도강도, -혼잡시간강도, -이상최저온도동반사고건수, -이상최고온도동반사고건수, -이상평균지면온도동반사고건수)\n",
    "\n",
    "mod <- glm(`차대차..40대`~., family=\"poisson\", mod_data2)\n",
    "#회귀분석의 변수선택(stepwise 방법)\n",
    "# summary(step(mod,direction = 'both'))\n",
    "mod1<-glm(formula = 차대차..40대 ~ 신호등_보행자수 + cctv수 + 이상평균기온동반사고건수 + \n",
    "            이상평균풍속동반사고건수 + 이상평균습도동반사고건수 + 이상강수량동반사고건수 + \n",
    "            이상적설량동반사고건수 + 이상안개시간동반사고건수 + 도로속도표시수 + \n",
    "            교통안전표지수 + 노드개수 + 횡단보도수 + 총거주인구수 + 전체_추정교통량 , family = \"poisson\", data = mod_data2)\n",
    "summary(mod1)\n",
    "paste(\"AIC:\",round(AIC(mod1),2))"
   ]
  },
  {
   "cell_type": "markdown",
   "id": "coupled-windows",
   "metadata": {},
   "source": [
    "##### 포아송회귀 (GLM) 모델 적용 - 차대차..30대"
   ]
  },
  {
   "cell_type": "code",
   "execution_count": 29,
   "id": "alpine-editor",
   "metadata": {},
   "outputs": [
    {
     "data": {
      "text/plain": [
       "\n",
       "Call:\n",
       "glm(formula = 차대차..30대 ~ 이상평균기온동반사고건수 + \n",
       "    이상평균풍속동반사고건수 + 이상평균습도동반사고건수 + \n",
       "    이상강수량동반사고건수 + 이상적설량동반사고건수 + \n",
       "    이상안개시간동반사고건수 + 안전지대수 + \n",
       "    도로속도표시수 + 교통안전표지수 + 노드개수 + \n",
       "    횡단보도수 + 전체_추정교통량, family = \"poisson\", \n",
       "    data = mod_data2)\n",
       "\n",
       "Deviance Residuals: \n",
       "    Min       1Q   Median       3Q      Max  \n",
       "-3.9971  -1.0903  -0.1096   0.4280   3.7061  \n",
       "\n",
       "Coefficients:\n",
       "                           Estimate Std. Error z value Pr(>|z|)    \n",
       "(Intercept)              -6.832e-01  3.276e-02 -20.857  < 2e-16 ***\n",
       "이상평균기온동반사고건수  6.587e-02  1.170e-02   5.632 1.79e-08 ***\n",
       "이상평균풍속동반사고건수  6.874e-02  1.074e-02   6.400 1.55e-10 ***\n",
       "이상평균습도동반사고건수  8.208e-02  1.307e-02   6.281 3.35e-10 ***\n",
       "이상강수량동반사고건수    8.264e-02  1.910e-02   4.327 1.51e-05 ***\n",
       "이상적설량동반사고건수   -8.976e-02  2.918e-02  -3.076 0.002096 ** \n",
       "이상안개시간동반사고건수 -2.230e-02  2.524e-02  -0.884 0.376955    \n",
       "안전지대수                2.721e-02  1.294e-02   2.104 0.035411 *  \n",
       "도로속도표시수            6.546e-02  9.280e-03   7.054 1.74e-12 ***\n",
       "교통안전표지수            1.729e-02  4.530e-03   3.816 0.000136 ***\n",
       "노드개수                  1.780e-01  3.099e-02   5.745 9.17e-09 ***\n",
       "횡단보도수                1.205e-02  1.119e-02   1.076 0.281709    \n",
       "전체_추정교통량           8.778e-05  2.860e-05   3.070 0.002143 ** \n",
       "---\n",
       "Signif. codes:  0 ‘***’ 0.001 ‘**’ 0.01 ‘*’ 0.05 ‘.’ 0.1 ‘ ’ 1\n",
       "\n",
       "(Dispersion parameter for poisson family taken to be 1)\n",
       "\n",
       "    Null deviance: 4864.1  on 2955  degrees of freedom\n",
       "Residual deviance: 2984.7  on 2943  degrees of freedom\n",
       "AIC: 7141.5\n",
       "\n",
       "Number of Fisher Scoring iterations: 5\n"
      ]
     },
     "metadata": {},
     "output_type": "display_data"
    },
    {
     "data": {
      "text/html": [
       "'AIC: 7141.51'"
      ],
      "text/latex": [
       "'AIC: 7141.51'"
      ],
      "text/markdown": [
       "'AIC: 7141.51'"
      ],
      "text/plain": [
       "[1] \"AIC: 7141.51\""
      ]
     },
     "metadata": {},
     "output_type": "display_data"
    }
   ],
   "source": [
    "mod_data2 <- car_30 %>%\n",
    "  dplyr::select(신호등_보행자수:총거주인구수, 차대차..30대) %>%\n",
    "  mutate(평균혼잡강도=(혼잡빈도강도 + 혼잡시간강도)/2) %>%\n",
    "  dplyr::select(-혼잡빈도강도, -혼잡시간강도, -이상최저온도동반사고건수, -이상최고온도동반사고건수, -이상평균지면온도동반사고건수)\n",
    "\n",
    "mod<-glm(`차대차..30대`~., family=\"poisson\", mod_data2)\n",
    "#회귀분석의 변수선택(stepwise 방법)\n",
    "# summary(step(mod,direction = 'both'))\n",
    "mod1<-glm(formula = 차대차..30대 ~ 이상평균기온동반사고건수 + 이상평균풍속동반사고건수 + \n",
    "            이상평균습도동반사고건수 + 이상강수량동반사고건수 + 이상적설량동반사고건수 + \n",
    "            이상안개시간동반사고건수 + 안전지대수 + 도로속도표시수 + \n",
    "            교통안전표지수 + 노드개수 + 횡단보도수 + 전체_추정교통량 , family = \"poisson\", data = mod_data2)\n",
    "summary(mod1)\n",
    "paste(\"AIC:\",round(AIC(mod1),2))"
   ]
  },
  {
   "cell_type": "markdown",
   "id": "golden-breed",
   "metadata": {},
   "source": [
    "##### 포아송회귀 (GLM) 모델 적용 - 차대차..20대"
   ]
  },
  {
   "cell_type": "code",
   "execution_count": 30,
   "id": "lasting-pittsburgh",
   "metadata": {},
   "outputs": [
    {
     "data": {
      "text/plain": [
       "\n",
       "Call:\n",
       "glm(formula = 차대차..20대 ~ 신호등_보행자수 + 신호등_차량등수 + \n",
       "    이상평균기온동반사고건수 + 이상최대풍속동반사고건수 + \n",
       "    이상평균풍속동반사고건수 + 이상평균습도동반사고건수 + \n",
       "    이상강수량동반사고건수 + 이상적설량동반사고건수 + \n",
       "    이상안개시간동반사고건수 + 정차금지지대수 + \n",
       "    도로속도표시수 + 교통안전표지수 + 노드개수 + \n",
       "    전체_추정교통량, family = \"poisson\", data = mod_data2)\n",
       "\n",
       "Deviance Residuals: \n",
       "    Min       1Q   Median       3Q      Max  \n",
       "-3.3332  -0.9928  -0.8885   0.5335   3.3278  \n",
       "\n",
       "Coefficients:\n",
       "                           Estimate Std. Error z value Pr(>|z|)    \n",
       "(Intercept)              -9.296e-01  3.558e-02 -26.127  < 2e-16 ***\n",
       "신호등_보행자수           4.929e-02  1.316e-02   3.745 0.000180 ***\n",
       "신호등_차량등수           2.960e-03  1.003e-02   0.295 0.767915    \n",
       "이상평균기온동반사고건수  7.400e-02  1.301e-02   5.687 1.29e-08 ***\n",
       "이상최대풍속동반사고건수  2.429e-02  1.660e-02   1.463 0.143491    \n",
       "이상평균풍속동반사고건수  5.509e-02  1.519e-02   3.626 0.000288 ***\n",
       "이상평균습도동반사고건수  8.448e-02  1.511e-02   5.590 2.27e-08 ***\n",
       "이상강수량동반사고건수    2.187e-02  2.179e-02   1.004 0.315501    \n",
       "이상적설량동반사고건수   -4.044e-03  3.219e-02  -0.126 0.900038    \n",
       "이상안개시간동반사고건수 -6.260e-03  2.971e-02  -0.211 0.833111    \n",
       "정차금지지대수           -2.150e-01  1.526e-01  -1.409 0.158977    \n",
       "도로속도표시수            5.445e-02  1.081e-02   5.039 4.68e-07 ***\n",
       "교통안전표지수            7.596e-03  4.971e-03   1.528 0.126499    \n",
       "노드개수                  1.987e-01  3.570e-02   5.565 2.63e-08 ***\n",
       "전체_추정교통량           1.253e-04  3.289e-05   3.810 0.000139 ***\n",
       "---\n",
       "Signif. codes:  0 ‘***’ 0.001 ‘**’ 0.01 ‘*’ 0.05 ‘.’ 0.1 ‘ ’ 1\n",
       "\n",
       "(Dispersion parameter for poisson family taken to be 1)\n",
       "\n",
       "    Null deviance: 4425.9  on 2883  degrees of freedom\n",
       "Residual deviance: 2741.4  on 2869  degrees of freedom\n",
       "AIC: 6140.3\n",
       "\n",
       "Number of Fisher Scoring iterations: 5\n"
      ]
     },
     "metadata": {},
     "output_type": "display_data"
    },
    {
     "data": {
      "text/html": [
       "'AIC: 6140.33'"
      ],
      "text/latex": [
       "'AIC: 6140.33'"
      ],
      "text/markdown": [
       "'AIC: 6140.33'"
      ],
      "text/plain": [
       "[1] \"AIC: 6140.33\""
      ]
     },
     "metadata": {},
     "output_type": "display_data"
    }
   ],
   "source": [
    "mod_data2 <- car_20 %>%\n",
    "  dplyr::select(신호등_보행자수:총거주인구수, 차대차..20대) %>%\n",
    "  mutate(평균혼잡강도=(혼잡빈도강도 + 혼잡시간강도)/2) %>%\n",
    "  dplyr::select(-혼잡빈도강도, -혼잡시간강도, -이상최저온도동반사고건수, -이상최고온도동반사고건수, -이상평균지면온도동반사고건수)\n",
    "\n",
    "mod<-glm(`차대차..20대`~., family=\"poisson\", mod_data2)\n",
    "#회귀분석의 변수선택(stepwise 방법)\n",
    "# summary(step(mod,direction = 'both'))\n",
    "mod1<-glm(formula = 차대차..20대 ~ 신호등_보행자수 + 신호등_차량등수 + \n",
    "            이상평균기온동반사고건수 + 이상최대풍속동반사고건수 + 이상평균풍속동반사고건수 + \n",
    "            이상평균습도동반사고건수 + 이상강수량동반사고건수 + 이상적설량동반사고건수 + \n",
    "            이상안개시간동반사고건수 + 정차금지지대수 + 도로속도표시수 + \n",
    "            교통안전표지수 + 노드개수 + 전체_추정교통량 , family = \"poisson\", data = mod_data2)\n",
    "summary(mod1)\n",
    "paste(\"AIC:\",round(AIC(mod1),2))"
   ]
  },
  {
   "cell_type": "markdown",
   "id": "brown-myanmar",
   "metadata": {},
   "source": [
    "##### 포아송회귀 (GLM) 모델 적용 - 차대차..20대미만"
   ]
  },
  {
   "cell_type": "code",
   "execution_count": 31,
   "id": "available-relevance",
   "metadata": {},
   "outputs": [
    {
     "data": {
      "text/plain": [
       "\n",
       "Call:\n",
       "glm(formula = 차대차..20대.미만 ~ 신호등_보행자수 + \n",
       "    이상평균풍속동반사고건수 + 이상평균습도동반사고건수 + \n",
       "    이상적설량동반사고건수 + 교통안전표지수 + \n",
       "    횡단보도수 + 총거주인구수, family = \"poisson\", \n",
       "    data = mod_data2)\n",
       "\n",
       "Deviance Residuals: \n",
       "    Min       1Q   Median       3Q      Max  \n",
       "-1.8157  -0.5094  -0.4208  -0.3700   2.9691  \n",
       "\n",
       "Coefficients:\n",
       "                           Estimate Std. Error z value Pr(>|z|)    \n",
       "(Intercept)              -2.7704583  0.1101809 -25.145  < 2e-16 ***\n",
       "신호등_보행자수           0.0422281  0.0287048   1.471 0.141260    \n",
       "이상평균풍속동반사고건수  0.0650651  0.0323831   2.009 0.044513 *  \n",
       "이상평균습도동반사고건수  0.1431260  0.0322699   4.435  9.2e-06 ***\n",
       "이상적설량동반사고건수   -0.1221473  0.0944306  -1.294 0.195833    \n",
       "교통안전표지수            0.0233863  0.0136449   1.714 0.086543 .  \n",
       "횡단보도수                0.1327183  0.0368519   3.601 0.000317 ***\n",
       "총거주인구수              0.0004177  0.0003177   1.315 0.188644    \n",
       "---\n",
       "Signif. codes:  0 ‘***’ 0.001 ‘**’ 0.01 ‘*’ 0.05 ‘.’ 0.1 ‘ ’ 1\n",
       "\n",
       "(Dispersion parameter for poisson family taken to be 1)\n",
       "\n",
       "    Null deviance: 1409.5  on 2355  degrees of freedom\n",
       "Residual deviance: 1222.7  on 2348  degrees of freedom\n",
       "AIC: 1852.6\n",
       "\n",
       "Number of Fisher Scoring iterations: 6\n"
      ]
     },
     "metadata": {},
     "output_type": "display_data"
    },
    {
     "data": {
      "text/html": [
       "'AIC: 1852.59'"
      ],
      "text/latex": [
       "'AIC: 1852.59'"
      ],
      "text/markdown": [
       "'AIC: 1852.59'"
      ],
      "text/plain": [
       "[1] \"AIC: 1852.59\""
      ]
     },
     "metadata": {},
     "output_type": "display_data"
    }
   ],
   "source": [
    "mod_data2 <- car_under20 %>%\n",
    "  dplyr::select(신호등_보행자수:총거주인구수, 차대차..20대.미만) %>%\n",
    "  mutate(평균혼잡강도=(혼잡빈도강도 + 혼잡시간강도)/2) %>%\n",
    "  dplyr::select(-혼잡빈도강도, -혼잡시간강도, -이상최저온도동반사고건수, -이상최고온도동반사고건수, -이상평균지면온도동반사고건수)\n",
    "\n",
    "mod <- glm(`차대차..20대.미만`~., family=\"poisson\", mod_data2)\n",
    "#회귀분석의 변수선택(stepwise 방법)\n",
    "# summary(step(mod,direction = 'both'))\n",
    "mod1 <- glm(formula = 차대차..20대.미만 ~ 신호등_보행자수 + 이상평균풍속동반사고건수 + \n",
    "            이상평균습도동반사고건수 + 이상적설량동반사고건수 + 교통안전표지수 + \n",
    "            횡단보도수 + 총거주인구수 , family = \"poisson\", data = mod_data2)\n",
    "summary(mod1)\n",
    "paste(\"AIC:\",round(AIC(mod1),2))"
   ]
  }
 ],
 "metadata": {
  "kernelspec": {
   "display_name": "R",
   "language": "R",
   "name": "ir"
  },
  "language_info": {
   "codemirror_mode": "r",
   "file_extension": ".r",
   "mimetype": "text/x-r-source",
   "name": "R",
   "pygments_lexer": "r",
   "version": "3.6.0"
  }
 },
 "nbformat": 4,
 "nbformat_minor": 5
}
